{
 "cells": [
  {
   "cell_type": "markdown",
   "metadata": {},
   "source": [
    "## 安装biopython\n",
    "- 安装命令：conda install biopython -c bioconda\n",
    "- 测试：import Bio"
   ]
  },
  {
   "cell_type": "code",
   "execution_count": 1,
   "metadata": {},
   "outputs": [
    {
     "name": "stdout",
     "output_type": "stream",
     "text": [
      "AGTACACTGGT\n"
     ]
    },
    {
     "data": {
      "text/plain": [
       "Bio.Seq.Seq"
      ]
     },
     "execution_count": 1,
     "metadata": {},
     "output_type": "execute_result"
    }
   ],
   "source": [
    "from Bio.Seq import Seq\n",
    "my_seq=Seq('AGTACACTGGT')\n",
    "print(my_seq)\n",
    "type(my_seq)"
   ]
  },
  {
   "cell_type": "code",
   "execution_count": 5,
   "metadata": {},
   "outputs": [
    {
     "name": "stdout",
     "output_type": "stream",
     "text": [
      "TCATGTGACCA\n",
      "ACCAGTGTACT\n"
     ]
    },
    {
     "data": {
      "text/plain": [
       "Seq('TGGTCACATGA')"
      ]
     },
     "execution_count": 5,
     "metadata": {},
     "output_type": "execute_result"
    }
   ],
   "source": [
    "print(my_seq.complement())\n",
    "print(my_seq.reverse_complement())\n",
    "# 序列切片\n",
    "my_seq[::-1]"
   ]
  },
  {
   "cell_type": "code",
   "execution_count": 6,
   "metadata": {},
   "outputs": [
    {
     "name": "stdout",
     "output_type": "stream",
     "text": [
      "Alphabet()\n"
     ]
    }
   ],
   "source": [
    "print(my_seq.alphabet)"
   ]
  },
  {
   "cell_type": "code",
   "execution_count": 3,
   "metadata": {},
   "outputs": [
    {
     "name": "stdout",
     "output_type": "stream",
     "text": [
      "IUPACUnambiguousDNA()\n",
      "IUPACUnambiguousDNA()\n"
     ]
    },
    {
     "data": {
      "text/plain": [
       "['Alphabet',\n",
       " 'ExtendedIUPACDNA',\n",
       " 'ExtendedIUPACProtein',\n",
       " 'IUPACAmbiguousDNA',\n",
       " 'IUPACAmbiguousRNA',\n",
       " 'IUPACData',\n",
       " 'IUPACProtein',\n",
       " 'IUPACUnambiguousDNA',\n",
       " 'IUPACUnambiguousRNA',\n",
       " '__builtins__',\n",
       " '__cached__',\n",
       " '__doc__',\n",
       " '__file__',\n",
       " '__loader__',\n",
       " '__name__',\n",
       " '__package__',\n",
       " '__spec__',\n",
       " 'ambiguous_dna',\n",
       " 'ambiguous_rna',\n",
       " 'extended_dna',\n",
       " 'extended_protein',\n",
       " 'protein',\n",
       " 'unambiguous_dna',\n",
       " 'unambiguous_rna']"
      ]
     },
     "execution_count": 3,
     "metadata": {},
     "output_type": "execute_result"
    }
   ],
   "source": [
    "from Bio.Alphabet import IUPAC\n",
    "my_dna=Seq('AGTACACTGGTC',IUPAC.unambiguous_dna)\n",
    "print(my_dna.alphabet)\n",
    "print(IUPAC.unambiguous_dna)\n",
    "dir(IUPAC)"
   ]
  },
  {
   "cell_type": "code",
   "execution_count": 6,
   "metadata": {},
   "outputs": [
    {
     "name": "stdout",
     "output_type": "stream",
     "text": [
      "AGTACACTGGTC\n",
      "just change T --> U :  AGUACACUGGUC\n",
      "real transcrite RNA is : GACCAGUGUACU\n"
     ]
    }
   ],
   "source": [
    "my_rna=my_dna.transcribe()\n",
    "print(my_dna)\n",
    "print(\"just change T --> U : \", my_rna)\n",
    "\n",
    "realBioRNA=my_dna.reverse_complement().transcribe()\n",
    "print(\"real transcrite RNA is :\", realBioRNA)"
   ]
  },
  {
   "cell_type": "code",
   "execution_count": 15,
   "metadata": {},
   "outputs": [
    {
     "name": "stdout",
     "output_type": "stream",
     "text": [
      "AGTACACTGGTC\n"
     ]
    }
   ],
   "source": [
    "my_cdna=my_rna.back_transcribe()\n",
    "print(my_cdna)"
   ]
  },
  {
   "cell_type": "code",
   "execution_count": 16,
   "metadata": {},
   "outputs": [
    {
     "name": "stdout",
     "output_type": "stream",
     "text": [
      "STLV\n"
     ]
    }
   ],
   "source": [
    "my_protein=my_rna.translate()\n",
    "print(my_protein)"
   ]
  },
  {
   "cell_type": "markdown",
   "metadata": {},
   "source": [
    "The translation tables available in Biopython are based on: [The Genetic Codes](https://www.ncbi.nlm.nih.gov/Taxonomy/Utils/wprintgc.cgi)"
   ]
  },
  {
   "cell_type": "code",
   "execution_count": 11,
   "metadata": {},
   "outputs": [
    {
     "name": "stdout",
     "output_type": "stream",
     "text": [
      "MAIVMGR*KGAR*\n",
      "MAIVMGR\n",
      "[Seq('MAIVMGR', HasStopCodon(IUPACProtein(), '*')), Seq('KGAR', HasStopCodon(IUPACProtein(), '*'))]\n",
      "MAIVMGRWKGAR*\n"
     ]
    }
   ],
   "source": [
    "coding_dna = Seq(\"ATGGCCATTGTAATGGGCCGCTGAAAGGGTGCCCGATAG\", IUPAC.unambiguous_dna)\n",
    "print(coding_dna.translate())\n",
    "print(coding_dna.translate(to_stop=True))\n",
    "print(coding_dna.translate().split(\"*\")[:-1])\n",
    "print(coding_dna.translate(table=\"Vertebrate Mitochondrial\"))"
   ]
  },
  {
   "cell_type": "code",
   "execution_count": 15,
   "metadata": {},
   "outputs": [
    {
     "name": "stdout",
     "output_type": "stream",
     "text": [
      "Table 1 Standard, SGC0\n",
      "\n",
      "  |  T      |  C      |  A      |  G      |\n",
      "--+---------+---------+---------+---------+--\n",
      "T | TTT F   | TCT S   | TAT Y   | TGT C   | T\n",
      "T | TTC F   | TCC S   | TAC Y   | TGC C   | C\n",
      "T | TTA L   | TCA S   | TAA Stop| TGA Stop| A\n",
      "T | TTG L(s)| TCG S   | TAG Stop| TGG W   | G\n",
      "--+---------+---------+---------+---------+--\n",
      "C | CTT L   | CCT P   | CAT H   | CGT R   | T\n",
      "C | CTC L   | CCC P   | CAC H   | CGC R   | C\n",
      "C | CTA L   | CCA P   | CAA Q   | CGA R   | A\n",
      "C | CTG L(s)| CCG P   | CAG Q   | CGG R   | G\n",
      "--+---------+---------+---------+---------+--\n",
      "A | ATT I   | ACT T   | AAT N   | AGT S   | T\n",
      "A | ATC I   | ACC T   | AAC N   | AGC S   | C\n",
      "A | ATA I   | ACA T   | AAA K   | AGA R   | A\n",
      "A | ATG M(s)| ACG T   | AAG K   | AGG R   | G\n",
      "--+---------+---------+---------+---------+--\n",
      "G | GTT V   | GCT A   | GAT D   | GGT G   | T\n",
      "G | GTC V   | GCC A   | GAC D   | GGC G   | C\n",
      "G | GTA V   | GCA A   | GAA E   | GGA G   | A\n",
      "G | GTG V   | GCG A   | GAG E   | GGG G   | G\n",
      "--+---------+---------+---------+---------+--\n",
      "Table 2 Vertebrate Mitochondrial, SGC1\n",
      "\n",
      "  |  T      |  C      |  A      |  G      |\n",
      "--+---------+---------+---------+---------+--\n",
      "T | TTT F   | TCT S   | TAT Y   | TGT C   | T\n",
      "T | TTC F   | TCC S   | TAC Y   | TGC C   | C\n",
      "T | TTA L   | TCA S   | TAA Stop| TGA W   | A\n",
      "T | TTG L   | TCG S   | TAG Stop| TGG W   | G\n",
      "--+---------+---------+---------+---------+--\n",
      "C | CTT L   | CCT P   | CAT H   | CGT R   | T\n",
      "C | CTC L   | CCC P   | CAC H   | CGC R   | C\n",
      "C | CTA L   | CCA P   | CAA Q   | CGA R   | A\n",
      "C | CTG L   | CCG P   | CAG Q   | CGG R   | G\n",
      "--+---------+---------+---------+---------+--\n",
      "A | ATT I(s)| ACT T   | AAT N   | AGT S   | T\n",
      "A | ATC I(s)| ACC T   | AAC N   | AGC S   | C\n",
      "A | ATA M(s)| ACA T   | AAA K   | AGA Stop| A\n",
      "A | ATG M(s)| ACG T   | AAG K   | AGG Stop| G\n",
      "--+---------+---------+---------+---------+--\n",
      "G | GTT V   | GCT A   | GAT D   | GGT G   | T\n",
      "G | GTC V   | GCC A   | GAC D   | GGC G   | C\n",
      "G | GTA V   | GCA A   | GAA E   | GGA G   | A\n",
      "G | GTG V(s)| GCG A   | GAG E   | GGG G   | G\n",
      "--+---------+---------+---------+---------+--\n"
     ]
    }
   ],
   "source": [
    "from Bio.Data import CodonTable\n",
    "standard_table = CodonTable.unambiguous_dna_by_name[\"Standard\"]\n",
    "mito_table = CodonTable.unambiguous_dna_by_name[\"Vertebrate Mitochondrial\"]\n",
    "print(standard_table)\n",
    "print(mito_table)"
   ]
  },
  {
   "cell_type": "code",
   "execution_count": 14,
   "metadata": {},
   "outputs": [
    {
     "name": "stdout",
     "output_type": "stream",
     "text": [
      "VKKMQSIVLALSLVLVAPMAAQAAEITLVPSVKLQIGDRDNRGYYWDGGHWRDHGWWKQHYEWRGNRWHLHGPPPPPRHHKKAPHDHHGGHGPGKHHR*\n",
      "MKKMQSIVLALSLVLVAPMAAQAAEITLVPSVKLQIGDRDNRGYYWDGGHWRDHGWWKQHYEWRGNRWHLHGPPPPPRHHKKAPHDHHGGHGPGKHHR\n"
     ]
    }
   ],
   "source": [
    "from Bio.Alphabet import generic_dna\n",
    "gene = Seq(\"GTGAAAAAGATGCAATCTATCGTACTCGCACTTTCCCTGGTTCTGGTCGCTCCCATGGCA\" + \\\n",
    "            \"GCACAGGCTGCGGAAATTACGTTAGTCCCGTCAGTAAAATTACAGATAGGCGATCGTGAT\" + \\\n",
    "            \"AATCGTGGCTATTACTGGGATGGAGGTCACTGGCGCGACCACGGCTGGTGGAAACAACAT\" + \\\n",
    "            \"TATGAATGGCGAGGCAATCGCTGGCACCTACACGGACCGCCGCCACCGCCGCGCCACCAT\" + \\\n",
    "            \"AAGAAAGCTCCTCATGATCATCACGGCGGTCATGGTCCAGGCAAACATCACCGCTAA\",\n",
    "            generic_dna)\n",
    "print(gene.translate(table=\"Bacterial\"))\n",
    "\n",
    "#In the bacterial genetic code GTG is a valid start codon, \n",
    "#and while it does normally encode Valine, \n",
    "#if used as a start codon it should be translated as methionine.\n",
    "print(gene.translate(table=\"Bacterial\", cds=True))"
   ]
  },
  {
   "cell_type": "markdown",
   "metadata": {},
   "source": [
    "### SeqIO, SeqRecord objects"
   ]
  },
  {
   "cell_type": "code",
   "execution_count": 17,
   "metadata": {},
   "outputs": [
    {
     "name": "stdout",
     "output_type": "stream",
     "text": [
      "41892 reads\n"
     ]
    }
   ],
   "source": [
    "from Bio import SeqIO\n",
    "\n",
    "#统计reads的数目\n",
    "count = 0\n",
    "for rec in SeqIO.parse(\"./SRR020192.fastq\", \"fastq\"):\n",
    "    count += 1\n",
    "print(\"%i reads\" % count)"
   ]
  },
  {
   "cell_type": "code",
   "execution_count": 18,
   "metadata": {},
   "outputs": [
    {
     "name": "stdout",
     "output_type": "stream",
     "text": [
      "<class 'Bio.SeqRecord.SeqRecord'>\n",
      "ID: SRR020192.41892\n",
      "Name: SRR020192.41892\n",
      "Description: SRR020192.41892 E3XIUVN03DARAJ/2\n",
      "Number of features: 0\n",
      "Per letter annotation for: phred_quality\n",
      "Seq('GACGACGGTGTTTACATCGTTCCACCACTCATCTCTTCTGTCATGCCAAGAGTC...CAT', SingleLetterAlphabet())\n"
     ]
    }
   ],
   "source": [
    "print(type(rec))\n",
    "print(rec)"
   ]
  },
  {
   "cell_type": "code",
   "execution_count": 20,
   "metadata": {},
   "outputs": [
    {
     "name": "stdout",
     "output_type": "stream",
     "text": [
      "Seq('GACGACGGTGTTTACATCGTTCCACCACTCATCTCTTCTGTCATGCCAAGAGTC...CAT', SingleLetterAlphabet())\n",
      "{'phred_quality': [37, 37, 37, 37, 37, 37, 37, 37, 37, 37, 37, 37, 37, 37, 37, 37, 37, 37, 40, 40, 40, 40, 40, 40, 40, 40, 40, 40, 40, 40, 40, 40, 40, 40, 40, 40, 40, 40, 40, 40, 40, 40, 40, 40, 40, 37, 37, 37, 37, 37, 37, 37, 37, 37, 37, 37, 37, 37, 37, 37, 37, 37, 37, 37, 37, 37, 37, 37, 37, 37, 37, 37, 38, 38, 38, 37, 37, 37, 37, 38, 34, 24, 24, 24, 26, 26, 37, 37, 37, 37, 37, 37, 37, 37, 37, 37, 37, 37, 37, 37, 37, 37, 37, 37, 37, 37, 38, 38, 38, 37, 37, 37, 37, 37, 37, 37, 37, 37, 37, 37, 37, 38, 38, 38, 38, 38]}\n"
     ]
    }
   ],
   "source": [
    "print(repr(rec.seq))\n",
    "print(rec.letter_annotations)"
   ]
  },
  {
   "cell_type": "markdown",
   "metadata": {},
   "source": [
    "### fastq file QC"
   ]
  },
  {
   "cell_type": "code",
   "execution_count": 23,
   "metadata": {},
   "outputs": [
    {
     "data": {
      "text/plain": [
       "20050"
      ]
     },
     "execution_count": 23,
     "metadata": {},
     "output_type": "execute_result"
    }
   ],
   "source": [
    "#过滤PHRED质量不小于20\n",
    "good_reads = (rec for rec in \\\n",
    "              SeqIO.parse(\"./SRR020192.fastq\", \"fastq\") \\\n",
    "              if min(rec.letter_annotations[\"phred_quality\"]) >= 20)\n",
    "SeqIO.write(good_reads, \"./good_quality.fastq\", \"fastq\")"
   ]
  },
  {
   "cell_type": "code",
   "execution_count": null,
   "metadata": {},
   "outputs": [],
   "source": [
    "import matplotlib.pyplot as plt\n",
    "sizesRaw = [len(rec) for rec in SeqIO.parse(\"./SRR020192.fastq\", \"fastq\")]\n",
    "sizesGood = [len(rec) for rec in SeqIO.parse(\"./good_quality.fastq\", \"fastq\")]"
   ]
  },
  {
   "cell_type": "code",
   "execution_count": 63,
   "metadata": {},
   "outputs": [
    {
     "data": {
      "image/png": "[encoded data removed]",
      "text/plain": [
       "<Figure size 1152x576 with 2 Axes>"
      ]
     },
     "metadata": {
      "needs_background": "light"
     },
     "output_type": "display_data"
    }
   ],
   "source": [
    "fig, ax = plt.subplots(1,2)\n",
    "plt.rcParams['figure.figsize'] = (16.0, 8.0)\n",
    "ax[0].hist(sizesRaw, bins=20)\n",
    "ax[0].set(ylim=[0,18000],xlabel=\"Sequence length (bp)\", ylabel=\"Count\",title='SRR020192 RAW Data')\n",
    "\n",
    "ax[1].hist(sizesGood, bins=20)\n",
    "ax[1].set(ylim=[0,18000], xlabel=\"Sequence length (bp)\", ylabel=\"Count\",title='SRR020192 GOOD Data')\n",
    "plt.show()"
   ]
  },
  {
   "cell_type": "code",
   "execution_count": 32,
   "metadata": {},
   "outputs": [
    {
     "name": "stdout",
     "output_type": "stream",
     "text": [
      "<class 'generator'>\n",
      "Saved 41892 reads\n"
     ]
    }
   ],
   "source": [
    "from Bio import SeqIO\n",
    "def trim_primers(records, primer):\n",
    "    \"\"\"Removes perfect primer sequences at start of reads.\n",
    "\n",
    "    This is a generator function, the records argument should\n",
    "    be a list or iterator returning SeqRecord objects.\n",
    "    \"\"\"\n",
    "    len_primer = len(primer) #cache this for later\n",
    "    for record in records:\n",
    "        if record.seq.startswith(primer):\n",
    "            yield record[len_primer:]\n",
    "        else:\n",
    "            yield record\n",
    "\n",
    "original_reads = SeqIO.parse(\"./fasta/SRR020192.fastq\", \"fastq\")\n",
    "trimmed_reads = trim_primers(original_reads, \"GATGACGGTGT\")\n",
    "print(type(trimmed_reads))\n",
    "count = SeqIO.write(trimmed_reads, \"./fasta/trimmed.fastq\", \"fastq\")\n",
    "print(\"Saved %i reads\" % count)"
   ]
  },
  {
   "cell_type": "code",
   "execution_count": 64,
   "metadata": {},
   "outputs": [],
   "source": [
    "import matplotlib.pyplot as plt\n",
    "sizesTrim = [len(rec) for rec in SeqIO.parse(\"./fasta/trimmed.fastq\", \"fastq\")]"
   ]
  },
  {
   "cell_type": "code",
   "execution_count": 65,
   "metadata": {},
   "outputs": [
    {
     "data": {
      "image/png": "[encoded data removed]",
      "text/plain": [
       "<Figure size 1152x576 with 2 Axes>"
      ]
     },
     "metadata": {
      "needs_background": "light"
     },
     "output_type": "display_data"
    }
   ],
   "source": [
    "fig, ax = plt.subplots(1,2)\n",
    "plt.rcParams['figure.figsize'] = (16.0, 8.0)\n",
    "ax[0].hist(sizesRaw, bins=20)\n",
    "ax[0].set(ylim=[0,18000],xlabel=\"Sequence length (bp)\", ylabel=\"Count\",title='SRR020192 RAW Data')\n",
    "\n",
    "ax[1].hist(sizesTrim, bins=20)\n",
    "ax[1].set(ylim=[0,18000], xlabel=\"Sequence length (bp)\", ylabel=\"Count\",title='SRR020192 trimed')\n",
    "plt.show()"
   ]
  },
  {
   "cell_type": "code",
   "execution_count": null,
   "metadata": {},
   "outputs": [],
   "source": [
    "from Bio import SeqIO\n",
    "\n",
    "def trim_adaptors(records, adaptor, min_len):\n",
    "    \"\"\"Trims perfect adaptor sequences, checks read length.\n",
    "\n",
    "    This is a generator function, the records argument should\n",
    "    be a list or iterator returning SeqRecord objects.\n",
    "    \"\"\"\n",
    "    len_adaptor = len(adaptor) #cache this for later\n",
    "    for record in records:\n",
    "        len_record = len(record) #cache this for later\n",
    "        if len(record) < min_len:\n",
    "           #Too short to keep\n",
    "           continue\n",
    "        index = record.seq.find(adaptor)\n",
    "        if index == -1:\n",
    "            #adaptor not found, so won't trim\n",
    "            yield record\n",
    "        elif len_record - index - len_adaptor >= min_len:\n",
    "            #after trimming this will still be long enough\n",
    "            yield record[index+len_adaptor:]\n",
    "\n",
    "original_reads = SeqIO.parse(\"./fasta/SRR020192.fastq\", \"fastq\")\n",
    "trimmed_reads = trim_adaptors(original_reads, \"GATGACGGTGT\", 100)\n",
    "count = SeqIO.write(trimmed_reads, \"./fasta/trimmed.fastq\", \"fastq\")\n",
    "print(\"Saved %i reads\" % count)"
   ]
  },
  {
   "cell_type": "code",
   "execution_count": null,
   "metadata": {},
   "outputs": [],
   "source": [
    "import matplotlib.pyplot as plt\n",
    "sizes = [len(rec) for rec in SeqIO.parse(\"./fasta/trimmed.fastq\", \"fastq\")]\n",
    "fig, ax = plt.subplots()\n",
    "ax.hist(sizes, bins=20)\n",
    "ax.set(xlabel=\"Sequence length (bp)\", ylabel=\"Count\",title='SRR020192 trimed')\n",
    "plt.show()"
   ]
  },
  {
   "cell_type": "code",
   "execution_count": 34,
   "metadata": {},
   "outputs": [
    {
     "data": {
      "text/plain": [
       "41892"
      ]
     },
     "execution_count": 34,
     "metadata": {},
     "output_type": "execute_result"
    }
   ],
   "source": [
    "import numpy as np\n",
    "\n",
    "recs=[]\n",
    "for rec in SeqIO.parse(\"./fasta/trimmed.fastq\", \"fastq\"):\n",
    "    index=np.array(rec.letter_annotations[\"phred_quality\"]) >= 20\n",
    "    rec.letter_annotations={}\n",
    "#    rec.letter_annotations[\"phred_quality\"]=list(np.array(rec.letter_annotations[\"phred_quality\"])[index])\n",
    "    rec.seq=Seq(\"\".join([rec.seq[i] for i, j in enumerate(index) if j ]))\n",
    "    recs.append(rec)\n",
    "SeqIO.write(recs, \"./fasta/SRR020192.qc.fa\", \"fasta\")\n",
    "#SeqIO.write(recs, \"./fasta/SRR020192.qc.fq\", \"fastq\")"
   ]
  },
  {
   "cell_type": "code",
   "execution_count": 67,
   "metadata": {},
   "outputs": [],
   "source": [
    "import matplotlib.pyplot as plt\n",
    "sizesQc = [len(rec) for rec in SeqIO.parse(\"./fasta/SRR020192.qc.fa\", \"fasta\")]"
   ]
  },
  {
   "cell_type": "code",
   "execution_count": 69,
   "metadata": {},
   "outputs": [
    {
     "data": {
      "image/png": "[encoded data removed]",
      "text/plain": [
       "<Figure size 1152x576 with 3 Axes>"
      ]
     },
     "metadata": {
      "needs_background": "light"
     },
     "output_type": "display_data"
    }
   ],
   "source": [
    "fig, ax = plt.subplots(1,3)\n",
    "plt.rcParams['figure.figsize'] = (16.0, 8.0)\n",
    "ax[0].hist(sizesRaw, bins=20)\n",
    "ax[0].set(ylim=[0,18000],xlabel=\"Sequence length (bp)\", ylabel=\"Count\",title='SRR020192 RAW Data')\n",
    "\n",
    "ax[1].hist(sizesTrim, bins=20)\n",
    "ax[1].set(ylim=[0,18000], xlabel=\"Sequence length (bp)\", ylabel=\"Count\",title='SRR020192 trimed')\n",
    "\n",
    "ax[2].hist(sizesQc, bins=20)\n",
    "ax[2].set(ylim=[0,18000], xlabel=\"Sequence length (bp)\", ylabel=\"Count\",title='SRR020192 QC')\n",
    "plt.show()"
   ]
  },
  {
   "cell_type": "markdown",
   "metadata": {},
   "source": [
    "## PDB"
   ]
  },
  {
   "cell_type": "code",
   "execution_count": 12,
   "metadata": {},
   "outputs": [
    {
     "name": "stdout",
     "output_type": "stream",
     "text": [
      "{'name': ' crystal structure at 1.9 angstroms resolution of human immunodeficiency virus (hiv) ii protease complexed with l- 735,524, an orally bioavailable inhibitor of the hiv proteases', 'head': 'hydrolase (acid proteinase)', 'idcode': '1HSG', 'deposition_date': '1995-03-31', 'release_date': '1996-04-03', 'structure_method': 'x-ray diffraction', 'resolution': 2.0, 'structure_reference': [], 'journal_reference': 'z.chen,y.li,e.chen,d.l.hall,p.l.darke,c.culberson, j.a.shafer,l.c.kuo crystal structure at 1.9-a resolution of human immunodeficiency virus (hiv) ii protease complexed with l-735,524, an orally bioavailable inhibitor of the hiv proteases. j.biol.chem. v. 269 26344 1994 issn 0021-9258 7929352 ', 'author': 'Z.Chen', 'compound': {'1': {'misc': '', 'molecule': 'hiv-1 protease', 'chain': 'a, b', 'ec': '3.4.23.-', 'engineered': 'yes', 'other_details': 'ny5 isolate'}}, 'source': {'1': {'misc': '', 'organism_scientific': 'human immunodeficiency virus 1', 'organism_taxid': '11676', 'gene': 'hiv-1 protease from the ny5 isolate', 'expression_system': 'escherichia coli', 'expression_system_taxid': '562'}}, 'has_missing_residues': False, 'missing_residues': [], 'keywords': 'hydrolase (acid proteinase)', 'journal': 'AUTH   Z.CHEN,Y.LI,E.CHEN,D.L.HALL,P.L.DARKE,C.CULBERSON,AUTH 2 J.A.SHAFER,L.C.KUOTITL   CRYSTAL STRUCTURE AT 1.9-A RESOLUTION OF HUMANTITL 2 IMMUNODEFICIENCY VIRUS (HIV) II PROTEASE COMPLEXEDTITL 3 WITH L-735,524, AN ORALLY BIOAVAILABLE INHIBITORTITL 4 OF THE HIV PROTEASES.REF    J.BIOL.CHEM.                  V. 269 26344 1994REFN                   ISSN 0021-9258PMID   7929352'}\n"
     ]
    }
   ],
   "source": [
    "from Bio.PDB import parse_pdb_header\n",
    "\n",
    "with open(\"./1hsg.pdb\", \"r\") as handle:\n",
    "    header_dict = parse_pdb_header(handle)\n",
    "    header_structure = \n",
    "    print(header_dict)"
   ]
  },
  {
   "cell_type": "code",
   "execution_count": 13,
   "metadata": {},
   "outputs": [
    {
     "name": "stdout",
     "output_type": "stream",
     "text": [
      "name :   crystal structure at 1.9 angstroms resolution of human immunodeficiency virus (hiv) ii protease complexed with l- 735,524, an orally bioavailable inhibitor of the hiv proteases\n",
      "head :  hydrolase (acid proteinase)\n",
      "idcode :  1HSG\n",
      "deposition_date :  1995-03-31\n",
      "release_date :  1996-04-03\n",
      "structure_method :  x-ray diffraction\n",
      "resolution :  2.0\n",
      "structure_reference :  []\n",
      "journal_reference :  z.chen,y.li,e.chen,d.l.hall,p.l.darke,c.culberson, j.a.shafer,l.c.kuo crystal structure at 1.9-a resolution of human immunodeficiency virus (hiv) ii protease complexed with l-735,524, an orally bioavailable inhibitor of the hiv proteases. j.biol.chem. v. 269 26344 1994 issn 0021-9258 7929352 \n",
      "author :  Z.Chen\n",
      "compound :  {'1': {'misc': '', 'molecule': 'hiv-1 protease', 'chain': 'a, b', 'ec': '3.4.23.-', 'engineered': 'yes', 'other_details': 'ny5 isolate'}}\n",
      "source :  {'1': {'misc': '', 'organism_scientific': 'human immunodeficiency virus 1', 'organism_taxid': '11676', 'gene': 'hiv-1 protease from the ny5 isolate', 'expression_system': 'escherichia coli', 'expression_system_taxid': '562'}}\n",
      "has_missing_residues :  False\n",
      "missing_residues :  []\n",
      "keywords :  hydrolase (acid proteinase)\n",
      "journal :  AUTH   Z.CHEN,Y.LI,E.CHEN,D.L.HALL,P.L.DARKE,C.CULBERSON,AUTH 2 J.A.SHAFER,L.C.KUOTITL   CRYSTAL STRUCTURE AT 1.9-A RESOLUTION OF HUMANTITL 2 IMMUNODEFICIENCY VIRUS (HIV) II PROTEASE COMPLEXEDTITL 3 WITH L-735,524, AN ORALLY BIOAVAILABLE INHIBITORTITL 4 OF THE HIV PROTEASES.REF    J.BIOL.CHEM.                  V. 269 26344 1994REFN                   ISSN 0021-9258PMID   7929352\n"
     ]
    }
   ],
   "source": [
    "for a,b in header_dict.items():\n",
    "    print(a,\": \",b)"
   ]
  },
  {
   "cell_type": "markdown",
   "metadata": {},
   "source": [
    "### SMCRA (Structure/Model/Chain/Residue/Atom) architecture:\n",
    "\n",
    "    A structure consists of models\n",
    "    A model consists of chains\n",
    "    A chain consists of residues\n",
    "    A residue consists of atoms \n",
    "\n"
   ]
  },
  {
   "cell_type": "code",
   "execution_count": 26,
   "metadata": {},
   "outputs": [
    {
     "name": "stderr",
     "output_type": "stream",
     "text": [
      "/opt/conda/envs/bio/lib/python3.7/site-packages/Bio/PDB/StructureBuilder.py:91: PDBConstructionWarning: WARNING: Chain A is discontinuous at line 1924.\n",
      "  PDBConstructionWarning)\n",
      "/opt/conda/envs/bio/lib/python3.7/site-packages/Bio/PDB/StructureBuilder.py:91: PDBConstructionWarning: WARNING: Chain B is discontinuous at line 1968.\n",
      "  PDBConstructionWarning)\n"
     ]
    },
    {
     "data": {
      "text/plain": [
       "('1hsg',)"
      ]
     },
     "execution_count": 26,
     "metadata": {},
     "output_type": "execute_result"
    }
   ],
   "source": [
    "from Bio.PDB.PDBParser import PDBParser\n",
    "parser = PDBParser(PERMISSIVE=1)\n",
    "structure = parser.get_structure(file=\"1hsg.pdb\", id=\"1hsg\")\n",
    "structure.get_full_id()"
   ]
  },
  {
   "cell_type": "code",
   "execution_count": 102,
   "metadata": {},
   "outputs": [
    {
     "name": "stdout",
     "output_type": "stream",
     "text": [
      "[<Chain id=A>, <Chain id=B>]\n",
      "['PRO', 'GLN', 'ILE', 'THR', 'LEU', 'TRP', 'GLN', 'ARG', 'PRO', 'LEU', 'VAL', 'THR', 'ILE', 'LYS', 'ILE', 'GLY', 'GLY', 'GLN', 'LEU', 'LYS', 'GLU', 'ALA', 'LEU', 'LEU', 'ASP', 'THR', 'GLY', 'ALA', 'ASP', 'ASP', 'THR', 'VAL', 'LEU', 'GLU', 'GLU', 'MET', 'SER', 'LEU', 'PRO', 'GLY', 'ARG', 'TRP', 'LYS', 'PRO', 'LYS', 'MET', 'ILE', 'GLY', 'GLY', 'ILE', 'GLY', 'GLY', 'PHE', 'ILE', 'LYS', 'VAL', 'ARG', 'GLN', 'TYR', 'ASP', 'GLN', 'ILE', 'LEU', 'ILE', 'GLU', 'ILE', 'CYS', 'GLY', 'HIS', 'LYS', 'ALA', 'ILE', 'GLY', 'THR', 'VAL', 'LEU', 'VAL', 'GLY', 'PRO', 'THR', 'PRO', 'VAL', 'ASN', 'ILE', 'ILE', 'GLY', 'ARG', 'ASN', 'LEU', 'LEU', 'THR', 'GLN', 'ILE', 'GLY', 'CYS', 'THR', 'LEU', 'ASN', 'PHE', 'HOH', 'HOH', 'HOH', 'HOH', 'HOH', 'HOH', 'HOH', 'HOH', 'HOH', 'HOH', 'HOH', 'HOH', 'HOH', 'HOH', 'HOH', 'HOH', 'HOH', 'HOH', 'HOH', 'HOH', 'HOH', 'HOH', 'HOH', 'HOH', 'HOH', 'HOH', 'HOH', 'HOH', 'HOH', 'HOH', 'HOH', 'HOH', 'HOH', 'HOH', 'HOH', 'HOH', 'HOH', 'HOH', 'HOH', 'HOH', 'HOH', 'HOH', 'HOH', 'HOH', 'PRO', 'GLN', 'ILE', 'THR', 'LEU', 'TRP', 'GLN', 'ARG', 'PRO', 'LEU', 'VAL', 'THR', 'ILE', 'LYS', 'ILE', 'GLY', 'GLY', 'GLN', 'LEU', 'LYS', 'GLU', 'ALA', 'LEU', 'LEU', 'ASP', 'THR', 'GLY', 'ALA', 'ASP', 'ASP', 'THR', 'VAL', 'LEU', 'GLU', 'GLU', 'MET', 'SER', 'LEU', 'PRO', 'GLY', 'ARG', 'TRP', 'LYS', 'PRO', 'LYS', 'MET', 'ILE', 'GLY', 'GLY', 'ILE', 'GLY', 'GLY', 'PHE', 'ILE', 'LYS', 'VAL', 'ARG', 'GLN', 'TYR', 'ASP', 'GLN', 'ILE', 'LEU', 'ILE', 'GLU', 'ILE', 'CYS', 'GLY', 'HIS', 'LYS', 'ALA', 'ILE', 'GLY', 'THR', 'VAL', 'LEU', 'VAL', 'GLY', 'PRO', 'THR', 'PRO', 'VAL', 'ASN', 'ILE', 'ILE', 'GLY', 'ARG', 'ASN', 'LEU', 'LEU', 'THR', 'GLN', 'ILE', 'GLY', 'CYS', 'THR', 'LEU', 'ASN', 'PHE', 'MK1', 'HOH', 'HOH', 'HOH', 'HOH', 'HOH', 'HOH', 'HOH', 'HOH', 'HOH', 'HOH', 'HOH', 'HOH', 'HOH', 'HOH', 'HOH', 'HOH', 'HOH', 'HOH', 'HOH', 'HOH', 'HOH', 'HOH', 'HOH', 'HOH', 'HOH', 'HOH', 'HOH', 'HOH', 'HOH', 'HOH', 'HOH', 'HOH', 'HOH', 'HOH', 'HOH', 'HOH', 'HOH', 'HOH', 'HOH', 'HOH', 'HOH', 'HOH', 'HOH', 'HOH', 'HOH', 'HOH', 'HOH', 'HOH', 'HOH', 'HOH', 'HOH', 'HOH', 'HOH', 'HOH', 'HOH', 'HOH', 'HOH', 'HOH', 'HOH', 'HOH', 'HOH', 'HOH', 'HOH', 'HOH', 'HOH', 'HOH', 'HOH', 'HOH', 'HOH', 'HOH', 'HOH', 'HOH', 'HOH', 'HOH', 'HOH', 'HOH', 'HOH', 'HOH', 'HOH', 'HOH', 'HOH', 'HOH', 'HOH']\n",
      "['PRO', 'GLN', 'ILE', 'THR', 'LEU', 'TRP', 'GLN', 'ARG', 'PRO', 'LEU', 'VAL', 'THR', 'ILE', 'LYS', 'ILE', 'GLY', 'GLY', 'GLN', 'LEU', 'LYS', 'GLU', 'ALA', 'LEU', 'LEU', 'ASP', 'THR', 'GLY', 'ALA', 'ASP', 'ASP', 'THR', 'VAL', 'LEU', 'GLU', 'GLU', 'MET', 'SER', 'LEU', 'PRO', 'GLY', 'ARG', 'TRP', 'LYS', 'PRO', 'LYS', 'MET', 'ILE', 'GLY', 'GLY', 'ILE', 'GLY', 'GLY', 'PHE', 'ILE', 'LYS', 'VAL', 'ARG', 'GLN', 'TYR', 'ASP', 'GLN', 'ILE', 'LEU', 'ILE', 'GLU', 'ILE', 'CYS', 'GLY', 'HIS', 'LYS', 'ALA', 'ILE', 'GLY', 'THR', 'VAL', 'LEU', 'VAL', 'GLY', 'PRO', 'THR', 'PRO', 'VAL', 'ASN', 'ILE', 'ILE', 'GLY', 'ARG', 'ASN', 'LEU', 'LEU', 'THR', 'GLN', 'ILE', 'GLY', 'CYS', 'THR', 'LEU', 'ASN', 'PHE', 'HOH', 'HOH', 'HOH', 'HOH', 'HOH', 'HOH', 'HOH', 'HOH', 'HOH', 'HOH', 'HOH', 'HOH', 'HOH', 'HOH', 'HOH', 'HOH', 'HOH', 'HOH', 'HOH', 'HOH', 'HOH', 'HOH', 'HOH', 'HOH', 'HOH', 'HOH', 'HOH', 'HOH', 'HOH', 'HOH', 'HOH', 'HOH', 'HOH', 'HOH', 'HOH', 'HOH', 'HOH', 'HOH', 'HOH', 'HOH', 'HOH', 'HOH', 'HOH', 'HOH']\n"
     ]
    }
   ],
   "source": [
    "chains = structure.get_chains()\n",
    "print([chain for chain in chains])\n",
    "\n",
    "residues = structure.get_residues()\n",
    "print([res.get_resname() for res in residues])\n",
    "\n",
    "chains = structure[0]['A']\n",
    "residues = chains\n",
    "print([res.get_resname() for res in residues])"
   ]
  },
  {
   "cell_type": "code",
   "execution_count": 87,
   "metadata": {},
   "outputs": [
    {
     "name": "stdout",
     "output_type": "stream",
     "text": [
      "['PRO', 'GLN', 'ILE', 'THR', 'LEU', 'TRP', 'GLN', 'ARG', 'PRO', 'LEU', 'VAL', 'THR', 'ILE', 'LYS', 'ILE', 'GLY', 'GLY', 'GLN', 'LEU', 'LYS', 'GLU', 'ALA', 'LEU', 'LEU', 'ASP', 'THR', 'GLY', 'ALA', 'ASP', 'ASP', 'THR', 'VAL', 'LEU', 'GLU', 'GLU', 'MET', 'SER', 'LEU', 'PRO', 'GLY', 'ARG', 'TRP', 'LYS', 'PRO', 'LYS', 'MET', 'ILE', 'GLY', 'GLY', 'ILE', 'GLY', 'GLY', 'PHE', 'ILE', 'LYS', 'VAL', 'ARG', 'GLN', 'TYR', 'ASP', 'GLN', 'ILE', 'LEU', 'ILE', 'GLU', 'ILE', 'CYS', 'GLY', 'HIS', 'LYS', 'ALA', 'ILE', 'GLY', 'THR', 'VAL', 'LEU', 'VAL', 'GLY', 'PRO', 'THR', 'PRO', 'VAL', 'ASN', 'ILE', 'ILE', 'GLY', 'ARG', 'ASN', 'LEU', 'LEU', 'THR', 'GLN', 'ILE', 'GLY', 'CYS', 'THR', 'LEU', 'ASN', 'PHE', 'HOH', 'HOH', 'HOH', 'HOH', 'HOH', 'HOH', 'HOH', 'HOH', 'HOH', 'HOH', 'HOH', 'HOH', 'HOH', 'HOH', 'HOH', 'HOH', 'HOH', 'HOH', 'HOH', 'HOH', 'HOH', 'HOH', 'HOH', 'HOH', 'HOH', 'HOH', 'HOH', 'HOH', 'HOH', 'HOH', 'HOH', 'HOH', 'HOH', 'HOH', 'HOH', 'HOH', 'HOH', 'HOH', 'HOH', 'HOH', 'HOH', 'HOH', 'HOH', 'HOH']\n",
      "['PRO', 'GLN', 'ILE', 'THR', 'LEU', 'TRP', 'GLN', 'ARG', 'PRO', 'LEU', 'VAL', 'THR', 'ILE', 'LYS', 'ILE', 'GLY', 'GLY', 'GLN', 'LEU', 'LYS', 'GLU', 'ALA', 'LEU', 'LEU', 'ASP', 'THR', 'GLY', 'ALA', 'ASP', 'ASP', 'THR', 'VAL', 'LEU', 'GLU', 'GLU', 'MET', 'SER', 'LEU', 'PRO', 'GLY', 'ARG', 'TRP', 'LYS', 'PRO', 'LYS', 'MET', 'ILE', 'GLY', 'GLY', 'ILE', 'GLY', 'GLY', 'PHE', 'ILE', 'LYS', 'VAL', 'ARG', 'GLN', 'TYR', 'ASP', 'GLN', 'ILE', 'LEU', 'ILE', 'GLU', 'ILE', 'CYS', 'GLY', 'HIS', 'LYS', 'ALA', 'ILE', 'GLY', 'THR', 'VAL', 'LEU', 'VAL', 'GLY', 'PRO', 'THR', 'PRO', 'VAL', 'ASN', 'ILE', 'ILE', 'GLY', 'ARG', 'ASN', 'LEU', 'LEU', 'THR', 'GLN', 'ILE', 'GLY', 'CYS', 'THR', 'LEU', 'ASN', 'PHE', 'MK1', 'HOH', 'HOH', 'HOH', 'HOH', 'HOH', 'HOH', 'HOH', 'HOH', 'HOH', 'HOH', 'HOH', 'HOH', 'HOH', 'HOH', 'HOH', 'HOH', 'HOH', 'HOH', 'HOH', 'HOH', 'HOH', 'HOH', 'HOH', 'HOH', 'HOH', 'HOH', 'HOH', 'HOH', 'HOH', 'HOH', 'HOH', 'HOH', 'HOH', 'HOH', 'HOH', 'HOH', 'HOH', 'HOH', 'HOH', 'HOH', 'HOH', 'HOH', 'HOH', 'HOH', 'HOH', 'HOH', 'HOH', 'HOH', 'HOH', 'HOH', 'HOH', 'HOH', 'HOH', 'HOH', 'HOH', 'HOH', 'HOH', 'HOH', 'HOH', 'HOH', 'HOH', 'HOH', 'HOH', 'HOH', 'HOH', 'HOH', 'HOH', 'HOH', 'HOH', 'HOH', 'HOH', 'HOH', 'HOH', 'HOH', 'HOH', 'HOH', 'HOH', 'HOH', 'HOH', 'HOH', 'HOH', 'HOH', 'HOH']\n"
     ]
    }
   ],
   "source": [
    "chainA = structure[0]['A']\n",
    "chainB = structure[0]['B']\n",
    "print([res.get_resname() for res in chainA])\n",
    "print([res.get_resname() for res in chainB])"
   ]
  },
  {
   "cell_type": "code",
   "execution_count": 121,
   "metadata": {},
   "outputs": [
    {
     "name": "stdout",
     "output_type": "stream",
     "text": [
      "('H_MK1', 902, ' ')\n",
      "[<Atom N1>, <Atom C1>, <Atom C2>, <Atom C3>, <Atom O1>, <Atom N2>, <Atom C4>, <Atom C5>, <Atom C6>, <Atom C7>, <Atom N3>, <Atom C8>, <Atom C9>, <Atom C10>, <Atom C11>, <Atom O2>, <Atom C12>, <Atom C13>, <Atom C14>, <Atom C15>, <Atom C16>, <Atom C17>, <Atom C18>, <Atom C19>, <Atom C20>, <Atom C21>, <Atom O3>, <Atom N4>, <Atom C22>, <Atom C23>, <Atom O4>, <Atom C24>, <Atom C25>, <Atom C26>, <Atom C27>, <Atom C28>, <Atom C29>, <Atom C30>, <Atom C31>, <Atom C32>, <Atom C33>, <Atom N5>, <Atom C34>, <Atom C35>, <Atom C36>]\n"
     ]
    }
   ],
   "source": [
    "ligand = []\n",
    "for residue in chainB.get_list():\n",
    "    residue_id = residue.get_id()\n",
    "    hetfield = residue_id[0]\n",
    "    if hetfield[0]!=\"W\" and hetfield[0]!=\" \":\n",
    "        print(residue_id)\n",
    "        ligand.append(residue)\n",
    "\n",
    "print([atom for atom in ligand[0]])"
   ]
  },
  {
   "cell_type": "code",
   "execution_count": 126,
   "metadata": {},
   "outputs": [],
   "source": [
    "class ligandSelect(Select):\n",
    "    def accept_residue(self, residue):\n",
    "        residue_id = residue.get_id()\n",
    "        hetfield = residue_id[0]\n",
    "        if hetfield[0]!=\"W\" and hetfield[0]!=\" \":\n",
    "            return 1\n",
    "        else:\n",
    "            return 0\n",
    "\n",
    "io = PDBIO()\n",
    "io.set_structure(structure)\n",
    "io.save(\"ligand.pdb\", ligandSelect())"
   ]
  },
  {
   "cell_type": "code",
   "execution_count": 128,
   "metadata": {},
   "outputs": [],
   "source": [
    "class recptorSelect(Select):\n",
    "    def accept_residue(self, residue):\n",
    "        residue_id = residue.get_id()\n",
    "        hetfield = residue_id[0]\n",
    "        if hetfield[0] ==\" \":\n",
    "            return 1\n",
    "        else:\n",
    "            return 0\n",
    "\n",
    "io = PDBIO()\n",
    "io.set_structure(structure)\n",
    "io.save(\"recptor.pdb\", recptorSelect())"
   ]
  },
  {
   "cell_type": "code",
   "execution_count": 67,
   "metadata": {},
   "outputs": [
    {
     "name": "stdout",
     "output_type": "stream",
     "text": [
      "PRO GLN\n",
      "[30.307 38.663  5.319] [30.158 36.492  2.199]\n",
      "3.803923\n"
     ]
    }
   ],
   "source": [
    "residues1 = chainA[1]\n",
    "residues2 = chainA[2]\n",
    "print(residues1.get_resname(), residues2.get_resname())\n",
    "\n",
    "ca1 = residues1[\"CA\"]\n",
    "ca2 = residues2[\"CA\"]\n",
    "print(ca1.get_coord(),ca2.get_coord())\n",
    "\n",
    "import numpy as np\n",
    "coord1 = np.array(ca1.get_coord())\n",
    "coord2 = np.array(ca2.get_coord())\n",
    "distance = np.linalg.norm(coord1-coord2)\n",
    "print(distance)"
   ]
  },
  {
   "cell_type": "code",
   "execution_count": 75,
   "metadata": {},
   "outputs": [
    {
     "name": "stdout",
     "output_type": "stream",
     "text": [
      "two ca distance is : 3.803923\n",
      "[<Vector 29.36, 39.69, 5.86>, <Vector 30.31, 38.66, 5.32>, <Vector 29.76, 38.07, 4.02>, <Vector 28.60, 38.30, 3.68>, <Vector 30.51, 37.54, 6.34>, <Vector 29.30, 37.59, 7.16>, <Vector 28.78, 39.01, 7.02>]\n",
      "angle is : 2.0978364014833564\n",
      "dihedral is : -0.7333232671727313\n"
     ]
    }
   ],
   "source": [
    "from Bio.PDB import *\n",
    "\n",
    "distance = ca1 - ca2\n",
    "print(\"two ca distance is :\", distance)\n",
    "\n",
    "atoms = [atom.get_vector() for atom in residues1]\n",
    "print(atoms)\n",
    "\n",
    "angle = calc_angle(atoms[1], atoms[2], atoms[3])\n",
    "print(\"angle is :\", angle)\n",
    "\n",
    "angle = calc_dihedral(atoms[1], atoms[2], atoms[3], atoms[4])\n",
    "print(\"dihedral is :\", angle)"
   ]
  },
  {
   "cell_type": "code",
   "execution_count": 138,
   "metadata": {},
   "outputs": [
    {
     "data": {
      "text/plain": [
       "array([[0.0, 1.4954257, 2.4805305, ..., 27.113453, 51.407173, 24.251959],\n",
       "       [1.4954257, 0.0, 1.5270493, ..., 27.685976, 50.43523, 23.083632],\n",
       "       [2.4805305, 1.5270493, 0.0, ..., 26.69348, 49.640152, 22.004047],\n",
       "       ...,\n",
       "       [27.113453, 27.685976, 26.69348, ..., 0.0, 51.458992, 31.606743],\n",
       "       [51.407173, 50.43523, 49.640152, ..., 51.458992, 0.0, 29.76383],\n",
       "       [24.251959, 23.083632, 22.004047, ..., 31.606743, 29.76383, 0.0]],\n",
       "      dtype=object)"
      ]
     },
     "execution_count": 138,
     "metadata": {},
     "output_type": "execute_result"
    }
   ],
   "source": [
    "model = structure[0]\n",
    "atoms = [atom for chain in model \n",
    "                 for residue in chain \n",
    "                     for atom in residue] \n",
    "\n",
    "atoms = np.array(atoms)\n",
    "atoms - atoms.reshape(len(atoms),1)"
   ]
  },
  {
   "cell_type": "code",
   "execution_count": 151,
   "metadata": {},
   "outputs": [
    {
     "name": "stdout",
     "output_type": "stream",
     "text": [
      "Object `kdtrees.KDTree` not found.\n"
     ]
    }
   ],
   "source": [
    "atom = np.array(range(1,5))\n",
    "dMatrix = abs(atom - atom.reshape(4,1))\n",
    "filterMa = dMatrix >1"
   ]
  },
  {
   "cell_type": "code",
   "execution_count": 100,
   "metadata": {},
   "outputs": [
    {
     "name": "stdout",
     "output_type": "stream",
     "text": [
      "PQITLWQRPLVTIKIGGQLKEALLDTGADDTVLEEMSLPGRWKPKMIGGIGGFIKVRQYDQILIEICGHKAIGTVLVGPTPVNIIGRNLLTQIGCTLNF\n",
      "PQITLWQRPLVTIKIGGQLKEALLDTGADDTVLEEMSLPGRWKPKMIGGIGGFIKVRQYDQILIEICGHKAIGTVLVGPTPVNIIGRNLLTQIGCTLNF\n",
      "chainA seq is :  PQITLWQRPLVTIKIGGQLKEALLDTGADDTVLEEMSLPGRWKPKMIGGIGGFIKVRQYDQILIEICGHKAIGTVLVGPTPVNIIGRNLLTQIGCTLNF\n"
     ]
    }
   ],
   "source": [
    "# Using C-N\n",
    "ppb = PPBuilder()\n",
    "for pp in ppb.build_peptides(structure):\n",
    "    print(pp.get_sequence())\n",
    "\n",
    "\n",
    "# Using CA-CA\n",
    "ppb = CaPPBuilder()\n",
    "pp = ppb.build_peptides(structure)\n",
    "seq = pp[0].get_sequence()\n",
    "print(\"chainA seq is : \",seq)"
   ]
  },
  {
   "cell_type": "code",
   "execution_count": 124,
   "metadata": {},
   "outputs": [
    {
     "data": {
      "text/plain": [
       "Bio.Seq.Seq"
      ]
     },
     "execution_count": 124,
     "metadata": {},
     "output_type": "execute_result"
    }
   ],
   "source": [
    "from Bio import Seq\n",
    "type(seq)"
   ]
  }
 ],
 "metadata": {
  "kernelspec": {
   "display_name": "Python [conda env:bio]",
   "language": "python",
   "name": "conda-env-bio-py"
  },
  "language_info": {
   "codemirror_mode": {
    "name": "ipython",
    "version": 3
   },
   "file_extension": ".py",
   "mimetype": "text/x-python",
   "name": "python",
   "nbconvert_exporter": "python",
   "pygments_lexer": "ipython3",
   "version": "3.7.3"
  }
 },
 "nbformat": 4,
 "nbformat_minor": 2
}
