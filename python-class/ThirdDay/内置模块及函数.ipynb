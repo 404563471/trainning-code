{
 "cells": [
  {
   "cell_type": "markdown",
   "metadata": {},
   "source": [
    "# 一、python三元表达式\n",
    "\n",
    "### 1、使用普通的条件判断\n",
    "\n",
    "\n",
    "```\n",
    "x = 3\n",
    "y = 4\n",
    "\n",
    "if x > y:\n",
    "    res = x\n",
    "else:\n",
    "    res = y\n",
    "```\n",
    "### 2、使用三元表达式\n",
    "\n",
    "```\n",
    "x,y = 3,4\n",
    "res = x if x>y else y\n",
    "```"
   ]
  },
  {
   "cell_type": "code",
   "execution_count": 1,
   "metadata": {},
   "outputs": [
    {
     "name": "stdout",
     "output_type": "stream",
     "text": [
      "4\n"
     ]
    }
   ],
   "source": [
    "x = 3\n",
    "y = 4\n",
    "\n",
    "if x > y:\n",
    "    res = x\n",
    "else:\n",
    "    res = y\n",
    "    \n",
    "print(res)"
   ]
  },
  {
   "cell_type": "code",
   "execution_count": 2,
   "metadata": {},
   "outputs": [
    {
     "name": "stdout",
     "output_type": "stream",
     "text": [
      "4\n"
     ]
    }
   ],
   "source": [
    "x,y = 3,4\n",
    "res = x if x>y else y\n",
    "\n",
    "print(res)"
   ]
  },
  {
   "cell_type": "markdown",
   "metadata": {},
   "source": [
    "# 二、range函数及列表推导式\n",
    "\n",
    "### 1、range函数\n",
    "\n",
    "#### Python3 range() 函数返回的是一个可迭代对象（类型是对象），而不是列表类型， 所以打印的时候不会打印列表。\n",
    "\n",
    "#### Python3 list() 函数是对象迭代器，可以把range()返回的可迭代对象转为一个列表，返回的变量类型为列表。\n",
    "\n",
    "#### 语法：\n",
    "```\n",
    "range(stop)\n",
    "range(start, stop[, step])\n",
    "```\n",
    "#### 参数：\n",
    "```\n",
    "start: 计数从 start 开始。默认是从 0 开始。例如range（5）等价于range（0， 5）;\n",
    "stop: 计数到 stop 结束，但不包括 stop。例如：range（0， 5） 是[0, 1, 2, 3, 4]没有5\n",
    "step：步长，默认为1。例如：range（0， 5） 等价于 range(0, 5, 1)\n",
    "```\n",
    "\n",
    "### 2、列表推导式的使用\n",
    "\n",
    "#### 作用：python中列表推导式用于使用其他列表创建一个新列表\n",
    "\n",
    "#### 列表推导式书写形式：\n",
    "\n",
    "```\n",
    "[表达式 for 变量 in 列表]   或者  [表达式 for 变量 in 列表 if 条件]\n",
    "```\n",
    "\n",
    "#### 简单版列表推导式：\n",
    "```\n",
    "li = [1,2,3,4,5,6,7,8,9]\n",
    "print [x**2 for x in li]\n",
    "```\n",
    "#### 结合条件判断的列表推导式：\n",
    "```\n",
    "print [x**2 for x in li if x>5]\n",
    "```\n",
    "#### 复杂嵌套示例：\n",
    "```\n",
    "print([(x, y) for x in range(10) if x % 2 for y in range(10) if y > 7 if y != 8 ])\n",
    "```\n",
    "\n",
    "### 3、练习\n",
    "\n",
    "```\n",
    "利用列表推导式改写昨天读取文件的程序，让程序变得更加简短、可读。\n",
    "```"
   ]
  },
  {
   "cell_type": "code",
   "execution_count": 7,
   "metadata": {},
   "outputs": [
    {
     "name": "stdout",
     "output_type": "stream",
     "text": [
      "0\n",
      "1\n",
      "2\n",
      "3\n",
      "4\n"
     ]
    }
   ],
   "source": [
    "a = [5,4,6,4,6]\n",
    "for i in range(len(a)):\n",
    "    print(i)"
   ]
  },
  {
   "cell_type": "code",
   "execution_count": 8,
   "metadata": {},
   "outputs": [
    {
     "name": "stdout",
     "output_type": "stream",
     "text": [
      "[1, 4, 9, 16, 25, 36, 49, 64, 81]\n"
     ]
    }
   ],
   "source": [
    "li = [1,2,3,4,5,6,7,8,9]\n",
    "\n",
    "li2 = []\n",
    "for i in li:\n",
    "    li2.append(i**2)\n",
    "    \n",
    "print(li2)"
   ]
  },
  {
   "cell_type": "code",
   "execution_count": 9,
   "metadata": {},
   "outputs": [
    {
     "name": "stdout",
     "output_type": "stream",
     "text": [
      "[1, 4, 9, 16, 25, 36, 49, 64, 81]\n"
     ]
    }
   ],
   "source": [
    "li = [1,2,3,4,5,6,7,8,9]\n",
    "\n",
    "li2 = [i**2 for i in li]\n",
    "\n",
    "print(li2)"
   ]
  },
  {
   "cell_type": "code",
   "execution_count": 10,
   "metadata": {},
   "outputs": [
    {
     "name": "stdout",
     "output_type": "stream",
     "text": [
      "[36, 49, 64, 81]\n"
     ]
    }
   ],
   "source": [
    "li = [1,2,3,4,5,6,7,8,9]\n",
    "\n",
    "li2 = []\n",
    "for i in li:\n",
    "    if i > 5:\n",
    "        li2.append(i**2)\n",
    "    \n",
    "print(li2)"
   ]
  },
  {
   "cell_type": "code",
   "execution_count": 19,
   "metadata": {},
   "outputs": [
    {
     "name": "stdout",
     "output_type": "stream",
     "text": [
      "[1, 2, 3, 4, 5, 36, 49, 64, 81]\n"
     ]
    }
   ],
   "source": [
    "li = [1,2,3,4,5,6,7,8,9]\n",
    "\n",
    "li2 = [i**2 if i > 5 else i for i in li]\n",
    "\n",
    "print(li2)"
   ]
  },
  {
   "cell_type": "code",
   "execution_count": 16,
   "metadata": {},
   "outputs": [
    {
     "name": "stdout",
     "output_type": "stream",
     "text": [
      "[(1, 9), (3, 9), (5, 9), (7, 9), (9, 9)]\n"
     ]
    }
   ],
   "source": [
    "print([(x, y) for x in range(10) if x % 2 for y in range(10) if y > 7 if y != 8 ])"
   ]
  },
  {
   "cell_type": "code",
   "execution_count": 21,
   "metadata": {},
   "outputs": [
    {
     "name": "stdout",
     "output_type": "stream",
     "text": [
      "['gene1\\t3.606291331\\t11.00427401\\t0.015680197\\t1\\n', 'gene9\\t-5.044719823\\t9.323697751\\t0.004501148\\t1\\n', 'gene14\\t2.958113227\\t9.545059767\\t0.049621155\\t1\\n', 'gene18\\t-1.076173783\\t15.01836181\\t0.038802705\\t1\\n']\n"
     ]
    }
   ],
   "source": [
    "with open('expression.txt','r') as f:\n",
    "    all_line = f.readlines()\n",
    "    result = [line for line in all_line[1:] if float(line.split('\\t')[3]) < 0.05]\n",
    "    print(result)"
   ]
  },
  {
   "cell_type": "markdown",
   "metadata": {},
   "source": [
    "# 三、匿名函数lambda\n",
    "\n",
    "#### python 使用 lambda 来创建匿名函数。\n",
    "\n",
    "#### 所谓匿名，意即不再使用 def 语句这样标准的形式定义一个函数。\n",
    "\n",
    "#### 特点：\n",
    "```\n",
    "lambda 只是一个表达式，函数体比 def 简单很多。\n",
    "lambda的主体是一个表达式，而不是一个代码块。仅仅能在lambda表达式中封装有限的逻辑进去。\n",
    "lambda 函数拥有自己的命名空间，且不能访问自己参数列表之外或全局命名空间里的参数。\n",
    "虽然lambda函数看起来只能写一行，却不等同于C或C++的内联函数，后者的目的是调用小函数时不占用栈内存从而增加运行效率。\n",
    "```\n",
    "\n",
    "#### 语法：\n",
    "```\n",
    "lambda [arg1 [,arg2,.....argn]]:expression\n",
    "```\n",
    "#### 示例：\n",
    "\n",
    "```\n",
    "f = lambda x,y:x+y\n",
    "\n",
    "f = lambda x,y:x if x>y else y\n",
    "```"
   ]
  },
  {
   "cell_type": "code",
   "execution_count": 23,
   "metadata": {},
   "outputs": [
    {
     "data": {
      "text/plain": [
       "7"
      ]
     },
     "execution_count": 23,
     "metadata": {},
     "output_type": "execute_result"
    }
   ],
   "source": [
    "f = lambda x,y:x+y\n",
    "\n",
    "f(1,2)\n",
    "f(3,4)"
   ]
  },
  {
   "cell_type": "code",
   "execution_count": 24,
   "metadata": {},
   "outputs": [
    {
     "data": {
      "text/plain": [
       "4"
      ]
     },
     "execution_count": 24,
     "metadata": {},
     "output_type": "execute_result"
    }
   ],
   "source": [
    "f = lambda x,y:x if x>y else y\n",
    "\n",
    "f(3,4)"
   ]
  },
  {
   "cell_type": "markdown",
   "metadata": {},
   "source": [
    "# 四、sorted内置函数\n",
    "\n",
    "#### sorted() 函数对所有可迭代的对象进行排序操作。\n",
    "\n",
    "#### sort 与 sorted 区别：\n",
    "\n",
    "```\n",
    "sort 是应用在 list 上的方法，sorted 可以对所有可迭代的对象进行排序操作。\n",
    "\n",
    "list 的 sort 方法返回的是对已经存在的列表进行操作，而内建函数 sorted 方法返回的是一个新的 list，而不是在原来的基础上进行的操作。\n",
    "```\n",
    "\n",
    "#### 语法：\n",
    "```\n",
    "sorted(iterable, key=None, reverse=False)\n",
    "```\n",
    "#### 参数：\n",
    "```\n",
    "iterable -- 可迭代对象。\n",
    "key -- 主要是用来进行比较的元素，只有一个参数，具体的函数的参数就是取自于可迭代对象中，指定可迭代对象中的一个元素来进行排序。\n",
    "reverse -- 排序规则，reverse = True 降序 ， reverse = False 升序（默认）。\n",
    "```\n",
    "\n",
    "#### 示例：\n",
    "```\n",
    "sorted([5, 2, 3, 1, 4])\n",
    "sorted({1: 'D', 2: 'B', 3: 'B', 4: 'E', 5: 'A'})\n",
    "example_list = [5, 0, 6, 1, 2, 7, 3, 4]\n",
    "result_list = sorted(example_list, key=lambda x: x*-1)\n",
    "print(result_list)\n",
    "```"
   ]
  },
  {
   "cell_type": "code",
   "execution_count": 26,
   "metadata": {},
   "outputs": [
    {
     "data": {
      "text/plain": [
       "[5, 4, 3, 2, 1]"
      ]
     },
     "execution_count": 26,
     "metadata": {},
     "output_type": "execute_result"
    }
   ],
   "source": [
    "sorted([5, 2, 3, 1, 4],reverse=True)"
   ]
  },
  {
   "cell_type": "code",
   "execution_count": 27,
   "metadata": {},
   "outputs": [
    {
     "data": {
      "text/plain": [
       "[1, 2, 3, 4, 5]"
      ]
     },
     "execution_count": 27,
     "metadata": {},
     "output_type": "execute_result"
    }
   ],
   "source": [
    "sorted({1: 'D', 2: 'B', 3: 'B', 4: 'E', 5: 'A'})"
   ]
  },
  {
   "cell_type": "code",
   "execution_count": 28,
   "metadata": {},
   "outputs": [
    {
     "name": "stdout",
     "output_type": "stream",
     "text": [
      "[7, 6, 5, 4, 3, 2, 1, 0]\n"
     ]
    }
   ],
   "source": [
    "example_list = [5, 0, 6, 1, 2, 7, 3, 4]\n",
    "\n",
    "result_list = sorted(example_list, key=lambda x: x*-1)\n",
    "\n",
    "print(result_list)"
   ]
  },
  {
   "cell_type": "markdown",
   "metadata": {},
   "source": [
    "# 五、map函数\n",
    "\n",
    "#### map() 会根据提供的函数对指定序列做映射。\n",
    "\n",
    "#### 第一个参数 function 以参数序列中的每一个元素调用 function 函数，返回包含每次 function 函数返回值的新列表。\n",
    "\n",
    "#### 语法：\n",
    "```\n",
    "map(function, iterable, ...)\n",
    "```\n",
    "#### 参数：\n",
    "```\n",
    "function -- 函数\n",
    "iterable -- 一个或多个序列\n",
    "```\n",
    "\n",
    "#### 示例：\n",
    "```\n",
    "s = map(lambda x: x ** 2, [1, 2, 3, 4, 5])\n",
    "print(list(s))\n",
    "```"
   ]
  },
  {
   "cell_type": "code",
   "execution_count": 31,
   "metadata": {},
   "outputs": [
    {
     "data": {
      "text/plain": [
       "[1, 4, 9, 16, 25]"
      ]
     },
     "execution_count": 31,
     "metadata": {},
     "output_type": "execute_result"
    }
   ],
   "source": [
    "# s = map(lambda x: x ** 2, [1, 2, 3, 4, 5])\n",
    "# list(s)\n",
    "\n",
    "f = lambda x:x**2\n",
    "a = [1,2,3,4,5]\n",
    "s = map(f,a)\n",
    "list(s)"
   ]
  },
  {
   "cell_type": "markdown",
   "metadata": {},
   "source": [
    "# 六、reduce函数\n",
    "\n",
    "#### 在 Python3 中，reduce() 函数已经被从全局名字空间里移除了，它现在被放置在 functools 模块里，如果想要使用它，则需要通过引入 functools 模块来调用 reduce() 函数：\n",
    "\n",
    "```\n",
    "from functools import reduce\n",
    "\n",
    "def add(x,y):\n",
    "    return x + y\n",
    "\n",
    "print (reduce(add, [1,2,3,4]))\n",
    "```"
   ]
  },
  {
   "cell_type": "code",
   "execution_count": 32,
   "metadata": {},
   "outputs": [
    {
     "name": "stdout",
     "output_type": "stream",
     "text": [
      "10\n"
     ]
    }
   ],
   "source": [
    "from functools import reduce\n",
    "\n",
    "def add(x,y):\n",
    "    return x + y\n",
    "\n",
    "print(reduce(add, [1,2,3,4]))"
   ]
  },
  {
   "cell_type": "markdown",
   "metadata": {},
   "source": [
    "# 七、filter函数\n",
    "\n",
    "#### filter() 函数用于过滤序列，过滤掉不符合条件的元素，返回一个迭代器对象，如果要转换为列表，可以使用 list() 来转换。\n",
    "\n",
    "#### 该接收两个参数，第一个为函数，第二个为序列，序列的每个元素作为参数传递给函数进行判，然后返回 True 或 False，最后将返回 True 的元素放到新列表中。\n",
    "\n",
    "#### 语法：\n",
    "```\n",
    "filter(function, iterable)\n",
    "```\n",
    "#### 参数：\n",
    "```\n",
    "function -- 判断函数。\n",
    "iterable -- 可迭代对象。\n",
    "```\n",
    "\n",
    "#### 示例：\n",
    "```\n",
    "def is_odd(n):\n",
    "    return n % 2 == 1\n",
    " \n",
    "tmplist = filter(is_odd, [1, 2, 3, 4, 5, 6, 7, 8, 9, 10])\n",
    "newlist = list(tmplist)\n",
    "print(newlist)\n",
    "```"
   ]
  },
  {
   "cell_type": "code",
   "execution_count": 33,
   "metadata": {},
   "outputs": [
    {
     "name": "stdout",
     "output_type": "stream",
     "text": [
      "[1, 3, 5, 7, 9]\n"
     ]
    }
   ],
   "source": [
    "def is_odd(n):\n",
    "    return n % 2 == 1\n",
    " \n",
    "tmplist = filter(is_odd, [1, 2, 3, 4, 5, 6, 7, 8, 9, 10])\n",
    "\n",
    "newlist = list(tmplist)\n",
    "\n",
    "print(newlist)"
   ]
  },
  {
   "cell_type": "code",
   "execution_count": null,
   "metadata": {},
   "outputs": [],
   "source": []
  }
 ],
 "metadata": {
  "kernelspec": {
   "display_name": "Python 3",
   "language": "python",
   "name": "python3"
  },
  "language_info": {
   "codemirror_mode": {
    "name": "ipython",
    "version": 3
   },
   "file_extension": ".py",
   "mimetype": "text/x-python",
   "name": "python",
   "nbconvert_exporter": "python",
   "pygments_lexer": "ipython3",
   "version": "3.7.3"
  }
 },
 "nbformat": 4,
 "nbformat_minor": 2
}
