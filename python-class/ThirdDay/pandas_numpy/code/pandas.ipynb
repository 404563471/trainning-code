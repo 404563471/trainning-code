{
 "cells": [
  {
   "cell_type": "markdown",
   "metadata": {},
   "source": [
    "**Pandas数据结构**  \n",
    "Python数据分析主要用到Pandas、NumPy，matplotlib这几个模块，使用前需要先导入"
   ]
  },
  {
   "cell_type": "code",
   "execution_count": null,
   "metadata": {},
   "outputs": [],
   "source": [
    "#模块的导入\n",
    "import pandas as pd\n",
    "import numpy as np"
   ]
  },
  {
   "cell_type": "markdown",
   "metadata": {},
   "source": [
    "## Series数据结构"
   ]
  },
  {
   "cell_type": "markdown",
   "metadata": {},
   "source": [
    "### Serise是什么  \n",
    "Serise是一种类似一维数组的对象，由一组数据及一组与之相关数据标签（即索引）组成"
   ]
  },
  {
   "cell_type": "markdown",
   "metadata": {},
   "source": [
    "###  创建一个Series\n",
    "用pd.Series()方法创建，通过给Series()方法传入不同的对象即可实现"
   ]
  },
  {
   "cell_type": "code",
   "execution_count": null,
   "metadata": {},
   "outputs": [],
   "source": [
    "#传入一个列表\n",
    "S1 = pd.Series([\"a\",\"b\",\"c\",\"d\"])\n",
    "#S1 = pd.Series([\"a\",\"b\",\"c\",\"d\", 1])\n",
    "S1"
   ]
  },
  {
   "cell_type": "code",
   "execution_count": null,
   "metadata": {},
   "outputs": [],
   "source": [
    "#指定索引\n",
    "S2 = pd.Series([1,2,3,4],index = [\"a\",\"b\",\"c\",\"d\"])\n",
    "S2"
   ]
  },
  {
   "cell_type": "code",
   "execution_count": null,
   "metadata": {},
   "outputs": [],
   "source": [
    "#传入字典\n",
    "S3 = pd.Series({\"a\":1,\"b\":2,\"c\":3,\"d\":4})\n",
    "S3"
   ]
  },
  {
   "cell_type": "markdown",
   "metadata": {},
   "source": [
    "### 利用index方法获取Series的索引"
   ]
  },
  {
   "cell_type": "code",
   "execution_count": null,
   "metadata": {},
   "outputs": [],
   "source": [
    "S1.index"
   ]
  },
  {
   "cell_type": "code",
   "execution_count": null,
   "metadata": {},
   "outputs": [],
   "source": [
    "S2.index"
   ]
  },
  {
   "cell_type": "markdown",
   "metadata": {},
   "source": [
    "### 利用values方法获取Series的值"
   ]
  },
  {
   "cell_type": "code",
   "execution_count": null,
   "metadata": {},
   "outputs": [],
   "source": [
    "S1.values"
   ]
  },
  {
   "cell_type": "code",
   "execution_count": null,
   "metadata": {},
   "outputs": [],
   "source": [
    "S2.values"
   ]
  },
  {
   "cell_type": "markdown",
   "metadata": {},
   "source": [
    "## DataFrame表格型数据结构"
   ]
  },
  {
   "cell_type": "markdown",
   "metadata": {},
   "source": [
    "### DataFrame是什么  \n",
    "DataFrame是由一组数据与一对索引（行索引和列索引）组成的表格型数据结构"
   ]
  },
  {
   "cell_type": "markdown",
   "metadata": {},
   "source": [
    "### 创建一个DataFrame  \n",
    "使用pd.DataFrame()方法创建，通过传入对象即可实现"
   ]
  },
  {
   "cell_type": "code",
   "execution_count": null,
   "metadata": {},
   "outputs": [],
   "source": [
    "#传入一个列表\n",
    "import pandas as pd\n",
    "df1 = pd.DataFrame([\"a\",\"b\",\"c\",\"d\"])\n",
    "df1"
   ]
  },
  {
   "cell_type": "code",
   "execution_count": null,
   "metadata": {},
   "outputs": [],
   "source": [
    "#传入一个嵌套列表\n",
    "df2 = pd.DataFrame([[\"a\",\"A\"],[\"b\",\"B\"],[\"c\",\"C\"],[\"d\",\"D\"]])\n",
    "df2"
   ]
  },
  {
   "cell_type": "markdown",
   "metadata": {},
   "source": [
    "**指定行、列索引**  \n",
    "- columns 参数自定义列索引\n",
    "- index 参数自定义行索引"
   ]
  },
  {
   "cell_type": "code",
   "execution_count": null,
   "metadata": {},
   "outputs": [],
   "source": [
    "# 设置列索引\n",
    "df31 = pd.DataFrame([[\"a\",\"A\"],[\"b\",\"B\"],[\"c\",\"C\"],[\"d\",\"D\"]],columns = [\"小写\",\"大写\"])\n",
    "df31"
   ]
  },
  {
   "cell_type": "code",
   "execution_count": null,
   "metadata": {},
   "outputs": [],
   "source": [
    "# 设置行索引\n",
    "df32 = pd.DataFrame([[\"a\",\"A\"],[\"b\",\"B\"],[\"c\",\"C\"],[\"d\",\"D\"]],index = [\"一\",\"二\",\"三\",\"四\"])\n",
    "df32"
   ]
  },
  {
   "cell_type": "code",
   "execution_count": null,
   "metadata": {},
   "outputs": [],
   "source": [
    "# 行、列同时设置\n",
    "df33 = pd.DataFrame([[\"a\",\"A\"],[\"b\",\"B\"],[\"c\",\"C\"],[\"d\",\"D\"]],columns = [\"小写\",\"大写\"],index = [\"一\",\"二\",\"三\",\"四\"])\n",
    "df33"
   ]
  },
  {
   "cell_type": "code",
   "execution_count": null,
   "metadata": {},
   "outputs": [],
   "source": [
    "#传入一个字段\n",
    "data = {\"小写\":[\"a\",\"b\",\"c\",\"d\"],\"大写\":[\"A\",\"B\",\"C\",\"D\"]}\n",
    "df41 = pd.DataFrame(data)\n",
    "df41"
   ]
  },
  {
   "cell_type": "markdown",
   "metadata": {},
   "source": [
    "- 字典传入DataFrame时，key的值相当于列索引，如没设置行索引默认从0开始，如需设置行索引，可以赢index参数"
   ]
  },
  {
   "cell_type": "code",
   "execution_count": null,
   "metadata": {},
   "outputs": [],
   "source": [
    "# 给传入字典的数据设置行索引\n",
    "data = {\"小写\":[\"a\",\"b\",\"c\",\"d\"],\"大写\":[\"A\",\"B\",\"C\",\"D\"]}\n",
    "df42 = pd.DataFrame(data,index = [\"一\",\"二\",\"三\",\"四\"])\n",
    "df42"
   ]
  },
  {
   "cell_type": "markdown",
   "metadata": {},
   "source": [
    "### 获取DataFrame的行、列索引  \n",
    "- 利用columns方法获取DataFrame的列索引\n",
    "- 利用index方法获取DataFrame的行索引"
   ]
  },
  {
   "cell_type": "code",
   "execution_count": null,
   "metadata": {},
   "outputs": [],
   "source": [
    "#获取DataFrame列索引\n",
    "df2.columns"
   ]
  },
  {
   "cell_type": "code",
   "execution_count": null,
   "metadata": {},
   "outputs": [],
   "source": [
    "df33.columns"
   ]
  },
  {
   "cell_type": "code",
   "execution_count": null,
   "metadata": {},
   "outputs": [],
   "source": [
    "#获取DataFrame行索引\n",
    "df2.index"
   ]
  },
  {
   "cell_type": "code",
   "execution_count": null,
   "metadata": {},
   "outputs": [],
   "source": [
    "df33.index"
   ]
  },
  {
   "cell_type": "markdown",
   "metadata": {},
   "source": [
    "# 获取数据"
   ]
  },
  {
   "cell_type": "markdown",
   "metadata": {},
   "source": [
    "## 导入外部数据  \n",
    "导入数据主要用到pandas的read_x()方法，x表示待导入文件的式"
   ]
  },
  {
   "cell_type": "markdown",
   "metadata": {},
   "source": [
    "### 导入.xlsx文件  \n",
    "```\n",
    "conda install xlrd\n",
    "```\n",
    "- 用read_excel()方法，传入文件路径即可，避免路径被转义前面加一个**r**\n",
    "- 指定导入那个Sheet可以设定sheet_name参数\n",
    "- 指定行索引index_col参数，默认是从0开始\n",
    "- 指定列索引header参数，默认为0，即第一行作为列索引\n",
    "- 指定导入列usecols参数"
   ]
  },
  {
   "cell_type": "code",
   "execution_count": null,
   "metadata": {},
   "outputs": [],
   "source": [
    "#直接导入\n",
    "import pandas as pd\n",
    "df = pd.read_excel(r\"../pandas-data/excel.xlsx\")\n",
    "df"
   ]
  },
  {
   "cell_type": "code",
   "execution_count": null,
   "metadata": {},
   "outputs": [],
   "source": [
    "#导入具体的sheet\n",
    "df = pd.read_excel(r\"../pandas-data/excel.xlsx\",sheet_name = 1)\n",
    "df"
   ]
  },
  {
   "cell_type": "code",
   "execution_count": null,
   "metadata": {},
   "outputs": [],
   "source": [
    "#读取中文表名\n",
    "df = pd.read_excel(r\"../pandas-data/excel.xlsx\",sheet_name = \"测试\")\n",
    "df"
   ]
  },
  {
   "cell_type": "code",
   "execution_count": null,
   "metadata": {},
   "outputs": [],
   "source": [
    "#指定行索引\n",
    "df = pd.read_excel(r\"../pandas-data/excel.xlsx\",sheet_name = 0,index_col = 0)\n",
    "df\n",
    "#df.index"
   ]
  },
  {
   "cell_type": "code",
   "execution_count": null,
   "metadata": {},
   "outputs": [],
   "source": [
    "#指定列索引\n",
    "df = pd.read_excel(r\"../pandas-data/excel.xlsx\",sheet_name = 2,header = 1)\n",
    "df"
   ]
  },
  {
   "cell_type": "code",
   "execution_count": null,
   "metadata": {},
   "outputs": [],
   "source": [
    "#导入指定的列\n",
    "df = pd.read_excel(r\"../pandas-data/excel.xlsx\",usecols = [0,])\n",
    "df"
   ]
  },
  {
   "cell_type": "code",
   "execution_count": null,
   "metadata": {},
   "outputs": [],
   "source": [
    "#导入多列\n",
    "df = pd.read_excel(r\"../pandas-data/excel.xlsx\",sheet_name = 0,usecols =[1,2])\n",
    "df"
   ]
  },
  {
   "cell_type": "markdown",
   "metadata": {},
   "source": [
    "### 导入.csv文件  \n",
    "- read_csv()方法直接导入\n",
    "- sep参数指明分隔符\n",
    "- nrows参数指明读取行\n",
    "- engineing参数指定文件编码格式\n",
    "- 如果文件路径含有中文需要设定engine\n"
   ]
  },
  {
   "cell_type": "markdown",
   "metadata": {},
   "source": [
    "### 导入.txt文件  \n",
    "- 用read_table()方法读取\n",
    "- sep参数指定分隔符\n",
    "- 也可以读取csv文件\n",
    "- 其他参数与read_csv()方法基本一致"
   ]
  },
  {
   "cell_type": "markdown",
   "metadata": {},
   "source": [
    "## 熟悉数据"
   ]
  },
  {
   "cell_type": "markdown",
   "metadata": {},
   "source": [
    "### 利用head预览前几行  \n",
    "head()方法如果不传参数，默认显示**前5行**"
   ]
  },
  {
   "cell_type": "code",
   "execution_count": null,
   "metadata": {},
   "outputs": [],
   "source": [
    "#默认显示\n",
    "df.head()"
   ]
  },
  {
   "cell_type": "code",
   "execution_count": null,
   "metadata": {},
   "outputs": [],
   "source": [
    "#显示前2行\n",
    "df.head(2)"
   ]
  },
  {
   "cell_type": "markdown",
   "metadata": {},
   "source": [
    "### 利用shape获取数据表的大小  \n",
    "Python中shape方法获取数据表的行和列数**(注意没括号)**"
   ]
  },
  {
   "cell_type": "code",
   "execution_count": null,
   "metadata": {},
   "outputs": [],
   "source": [
    "df.shape"
   ]
  },
  {
   "cell_type": "markdown",
   "metadata": {},
   "source": [
    "### 利用info获取数据类型  \n",
    "Python中info()方法查看数据表的中的数据类型"
   ]
  },
  {
   "cell_type": "code",
   "execution_count": null,
   "metadata": {},
   "outputs": [],
   "source": [
    "df.info()"
   ]
  },
  {
   "cell_type": "markdown",
   "metadata": {},
   "source": [
    "### 利用describe获取数值分布情况\n",
    "Python中describe()方法可以获取所有数值类型字段的分布值"
   ]
  },
  {
   "cell_type": "code",
   "execution_count": null,
   "metadata": {},
   "outputs": [],
   "source": [
    "df.describe()"
   ]
  },
  {
   "cell_type": "markdown",
   "metadata": {},
   "source": [
    "# 数据处理"
   ]
  },
  {
   "cell_type": "markdown",
   "metadata": {},
   "source": [
    "## 缺失值处理\n",
    "### 缺失值查看"
   ]
  },
  {
   "cell_type": "code",
   "execution_count": null,
   "metadata": {},
   "outputs": [],
   "source": [
    "df = pd.read_excel(r\"../pandas-data/na_value.xlsx\")\n",
    "#head()默认只显示前5条数据\n",
    "#df.info()#info()方法返回各个字段属性及每一列缺失数据的情况\n",
    "df.head(20).info()\n",
    "df"
   ]
  },
  {
   "cell_type": "markdown",
   "metadata": {},
   "source": [
    "### 缺失值删除"
   ]
  },
  {
   "cell_type": "code",
   "execution_count": null,
   "metadata": {},
   "outputs": [],
   "source": [
    "df.dropna() #dropna()删除缺失值的行"
   ]
  },
  {
   "cell_type": "code",
   "execution_count": null,
   "metadata": {},
   "outputs": [],
   "source": [
    "df.dropna(how = \"all\")#删除所有列为空的行"
   ]
  },
  {
   "cell_type": "markdown",
   "metadata": {},
   "source": [
    "### 缺失值填充"
   ]
  },
  {
   "cell_type": "code",
   "execution_count": null,
   "metadata": {},
   "outputs": [],
   "source": [
    "import pandas as pd\n",
    "df = pd.read_excel(r\"../pandas-data/na_value.xlsx\")\n",
    "df.fillna(0)#fillna将缺失值填充为0\n",
    "df.fillna({\"性别\":\"男\",\"年龄\":30})#分别对性别和年龄填充"
   ]
  },
  {
   "cell_type": "markdown",
   "metadata": {},
   "source": [
    "## 重复数据处理"
   ]
  },
  {
   "cell_type": "code",
   "execution_count": null,
   "metadata": {},
   "outputs": [],
   "source": [
    "import pandas as pd\n",
    "df = pd.read_excel(r\"../pandas-data/na_value.xlsx\",sheet_name=2)\n",
    "df"
   ]
  },
  {
   "cell_type": "code",
   "execution_count": null,
   "metadata": {},
   "outputs": [],
   "source": [
    "df.drop_duplicates() #删除重复的行\n",
    "df.drop_duplicates(subset = \"唯一识别码\") #指定判断的列\n",
    "df.drop_duplicates(subset = [\"客户姓名\",\"唯一识别码\"])\n",
    "df.drop_duplicates(subset = [\"客户姓名\",\"唯一识别码\"],keep = \"last\") #keep参数（first,last）设置保留那个值"
   ]
  },
  {
   "cell_type": "markdown",
   "metadata": {},
   "source": [
    "## 数据类型转换"
   ]
  },
  {
   "cell_type": "markdown",
   "metadata": {},
   "source": [
    "### 数据类型"
   ]
  },
  {
   "cell_type": "markdown",
   "metadata": {},
   "source": [
    "类型 | 说明\n",
    "---|---\n",
    "int | 整型数，即整数\n",
    "flat | 浮点数，即含有小数点的数\n",
    "object | Python对象类型，用O表示\n",
    "string_ | 字符串类型，经常用S表示，S10表示长度为10的字符串\n",
    "unicode_ | 谷歌程度的unicode类型，跟字符串的定义方式一样\n",
    "datatime64[ns] | 表示时间格式"
   ]
  },
  {
   "cell_type": "code",
   "execution_count": null,
   "metadata": {},
   "outputs": [],
   "source": [
    "import pandas as pd\n",
    "df = pd.read_excel(r\"../pandas-data/na_value.xlsx\",sheet_name = 2)\n",
    "df.info() #info( )获取每一列的数据类型\n",
    "df[\"订单编号\"].dtype # 查看订单编号这一列的数据类型\n",
    "#df[\"唯一识别码\"].dtype # 查看唯一识别码这一列的数据类型"
   ]
  },
  {
   "cell_type": "markdown",
   "metadata": {},
   "source": [
    "### 类型转换"
   ]
  },
  {
   "cell_type": "code",
   "execution_count": null,
   "metadata": {},
   "outputs": [],
   "source": [
    "import pandas as pd\n",
    "df = pd.read_excel(r\"../pandas-data/na_value.xlsx\",sheet_name = 2)\n",
    "df[\"唯一识别码\"].dtype #查看类型\n",
    "df[\"唯一识别码\"].astype(\"float64\", ascopy=False)#将唯一识别码冲int类型转为float类型\n",
    "df"
   ]
  },
  {
   "cell_type": "markdown",
   "metadata": {},
   "source": [
    "## 索引设置"
   ]
  },
  {
   "cell_type": "markdown",
   "metadata": {},
   "source": [
    "### 为无索引表添加索引"
   ]
  },
  {
   "cell_type": "code",
   "execution_count": null,
   "metadata": {},
   "outputs": [],
   "source": [
    "import pandas as pd\n",
    "df = pd.read_excel(r\"../pandas-data/na_value.xlsx\",sheet_name = 3,header= None)\n",
    "df"
   ]
  },
  {
   "cell_type": "code",
   "execution_count": null,
   "metadata": {},
   "outputs": [],
   "source": [
    "df.columns = [\"订单编号\",\"客户姓名\",\"唯一识别码\",\"成交时间\"]#header需要设置为None，否则会覆盖第一行数据\n",
    "df.index = [1,2,3,4,5]\n",
    "df"
   ]
  },
  {
   "cell_type": "markdown",
   "metadata": {},
   "source": [
    "### 重新设置索引"
   ]
  },
  {
   "cell_type": "code",
   "execution_count": null,
   "metadata": {},
   "outputs": [],
   "source": [
    "import pandas as pd\n",
    "df.set_index(\"订单编号\") #se_index()方法重新设置索引列"
   ]
  },
  {
   "cell_type": "markdown",
   "metadata": {},
   "source": [
    "### 重命名索引"
   ]
  },
  {
   "cell_type": "code",
   "execution_count": null,
   "metadata": {},
   "outputs": [],
   "source": [
    "import pandas as pd\n",
    "df = pd.read_excel(r\"../pandas-data/na_value.xlsx\",sheet_name = 4)\n",
    "df"
   ]
  },
  {
   "cell_type": "code",
   "execution_count": null,
   "metadata": {},
   "outputs": [],
   "source": [
    "df.index = [1,2,3,4,5] #添加索引\n",
    "df.rename(columns={\"订单编号\":\"新订单编号\",\"客户姓名\":\"新客户姓名\"}) #重命名列索引\n",
    "df.rename(index = {1:\"一\",2:\"二\",3:\"三\"}) #重命名行索引\n",
    "#df.rename(columns={\"订单编号\":\"新订单编号\",\"客户姓名\":\"新客户姓名\"},index = {1:\"一\",2:\"二\",3:\"三\",4:'四'})#同时重命名列和行索引"
   ]
  },
  {
   "cell_type": "markdown",
   "metadata": {},
   "source": [
    "### 重置索引"
   ]
  },
  {
   "cell_type": "code",
   "execution_count": null,
   "metadata": {},
   "outputs": [],
   "source": [
    "df.reset_index()"
   ]
  },
  {
   "cell_type": "markdown",
   "metadata": {},
   "source": [
    "## 列选择"
   ]
  },
  {
   "cell_type": "markdown",
   "metadata": {},
   "source": [
    "### 选择某一列/某几列"
   ]
  },
  {
   "cell_type": "code",
   "execution_count": null,
   "metadata": {},
   "outputs": [],
   "source": [
    "import pandas as pd\n",
    "df = pd.read_excel(r\"../pandas-data/select_data.xlsx\",sheet_name = 0)\n",
    "#通过传入列名选择数据的方式称为普通索引\n",
    "df"
   ]
  },
  {
   "cell_type": "code",
   "execution_count": null,
   "metadata": {},
   "outputs": [],
   "source": [
    "df['客户姓名']\n",
    "#df[['客户姓名','订单编号','客户姓名']]\n",
    "df[['客户姓名','订单编号']]"
   ]
  },
  {
   "cell_type": "code",
   "execution_count": null,
   "metadata": {
    "scrolled": true
   },
   "outputs": [],
   "source": [
    "#通过传入具体位置来选择数据的方式称为位置索引\n",
    "df.iloc[:,[0,2]] #获取第1和第3列的数值，：表示获取所有的行"
   ]
  },
  {
   "cell_type": "markdown",
   "metadata": {},
   "source": [
    "### 连续选择某几列"
   ]
  },
  {
   "cell_type": "code",
   "execution_count": null,
   "metadata": {},
   "outputs": [],
   "source": [
    "#通过传入一个位置区间来获取数据的方式称为切片索引\n",
    "df.iloc[:,0:3] #选择第1列到第4列的之间的值（包含第1列但是不包含第4列）"
   ]
  },
  {
   "cell_type": "markdown",
   "metadata": {},
   "source": [
    "## 行选择"
   ]
  },
  {
   "cell_type": "markdown",
   "metadata": {},
   "source": [
    "### 选择某一行/某几行"
   ]
  },
  {
   "cell_type": "code",
   "execution_count": null,
   "metadata": {},
   "outputs": [],
   "source": [
    "#利用iloc方法，位置索引\n",
    "df.iloc[0]\n",
    "df.iloc[[0,1]] #选择第一和第二行"
   ]
  },
  {
   "cell_type": "code",
   "execution_count": null,
   "metadata": {},
   "outputs": [],
   "source": [
    "#利用loc()方法，普通索引\n",
    "df.index = [\"一\",\"二\",\"三\",\"四\",\"五\",\"六\"]\n",
    "df.loc[\"一\"]\n",
    "df.loc[[\"一\",\"二\"]]"
   ]
  },
  {
   "cell_type": "markdown",
   "metadata": {},
   "source": [
    "### 选择连续的某几行"
   ]
  },
  {
   "cell_type": "code",
   "execution_count": null,
   "metadata": {
    "scrolled": true
   },
   "outputs": [],
   "source": [
    "df.iloc[0:3]#选择第一行到第四行（不包含第四行）"
   ]
  },
  {
   "cell_type": "markdown",
   "metadata": {},
   "source": [
    "### 选择满足条件的行"
   ]
  },
  {
   "cell_type": "code",
   "execution_count": null,
   "metadata": {},
   "outputs": [],
   "source": [
    "import pandas as pd\n",
    "df = pd.read_excel(r\"../pandas-data/select_data.xlsx\",sheet_name=3)\n",
    "df"
   ]
  },
  {
   "cell_type": "code",
   "execution_count": null,
   "metadata": {},
   "outputs": [],
   "source": [
    "#选择年龄小于200的数据\n",
    "df[df['年龄']<200]"
   ]
  },
  {
   "cell_type": "code",
   "execution_count": null,
   "metadata": {},
   "outputs": [],
   "source": [
    "#选择年龄小于200并且唯一识别码小于200，条件用括号括起来\n",
    "df[(df['年龄']<200) & (df['唯一识别码']<102)]"
   ]
  },
  {
   "cell_type": "code",
   "execution_count": null,
   "metadata": {},
   "outputs": [],
   "source": [
    "df.dropna(inplace=True)\n",
    "df[df[\"客户姓名\"].str.startswith(\"赵\")]\n",
    "df[df[\"订单编号\"].str.contains(\"\\w[1-2]\")]"
   ]
  },
  {
   "cell_type": "markdown",
   "metadata": {},
   "source": [
    "## 行列同时选择"
   ]
  },
  {
   "cell_type": "markdown",
   "metadata": {},
   "source": [
    "### 普通索引+普通索引选择指定的行和列"
   ]
  },
  {
   "cell_type": "code",
   "execution_count": null,
   "metadata": {},
   "outputs": [],
   "source": [
    "import pandas as pd\n",
    "df = pd.read_excel(r\"../pandas-data/select_data.xlsx\",sheet_name=4)\n",
    "df.index = [\"一\",\"二\",\"三\",\"四\",\"五\"]\n",
    "#用loc传入行列名称\n",
    "df.loc[[\"一\",\"二\"],[\"订单编号\",\"客户姓名\",\"唯一识别码\"]]"
   ]
  },
  {
   "cell_type": "markdown",
   "metadata": {},
   "source": [
    "### 位置索引+位置索引选择指定的行和列"
   ]
  },
  {
   "cell_type": "code",
   "execution_count": null,
   "metadata": {},
   "outputs": [],
   "source": [
    "#用iloc方法传入行列位置\n",
    "df.iloc[[0,1],[0,2]]"
   ]
  },
  {
   "cell_type": "markdown",
   "metadata": {},
   "source": [
    "### 布尔索引+普通索引选择指定的行和列"
   ]
  },
  {
   "cell_type": "code",
   "execution_count": null,
   "metadata": {},
   "outputs": [],
   "source": [
    "#先进行布尔选择，然后通过普通索引选择列\n",
    "df[df[\"年龄\"]<200][[\"订单编号\",\"年龄\"]]"
   ]
  },
  {
   "cell_type": "markdown",
   "metadata": {},
   "source": [
    "### 切片索引+切片索引选择指定的行和列"
   ]
  },
  {
   "cell_type": "code",
   "execution_count": null,
   "metadata": {},
   "outputs": [],
   "source": [
    "import pandas as pd\n",
    "df = pd.read_excel(r\"..\\Data\\Chapter06.xlsx\",sheet_name=4)\n",
    "df.index = [\"一\",\"二\",\"三\",\"四\",\"五\"]\n",
    "#iloc第一个参数选择的是行区间，第二个参数选的是列的区间\n",
    "df.iloc[0:3,1:4]"
   ]
  },
  {
   "cell_type": "markdown",
   "metadata": {},
   "source": [
    "### 切片索引+普通索引指定的行和列"
   ]
  },
  {
   "cell_type": "code",
   "execution_count": null,
   "metadata": {},
   "outputs": [],
   "source": [
    "df.iloc[0:3][[\"客户姓名\",\"唯一识别码\"]]"
   ]
  },
  {
   "cell_type": "markdown",
   "metadata": {},
   "source": [
    "## 数值替换"
   ]
  },
  {
   "cell_type": "markdown",
   "metadata": {},
   "source": [
    "### 一对一替换"
   ]
  },
  {
   "cell_type": "code",
   "execution_count": null,
   "metadata": {},
   "outputs": [],
   "source": [
    "import pandas as pd\n",
    "import numpy as np\n",
    "df = pd.read_excel(r\"../pandas-data/reshape_data.xlsx\",sheet_name =0)\n",
    "df"
   ]
  },
  {
   "cell_type": "code",
   "execution_count": null,
   "metadata": {},
   "outputs": [],
   "source": [
    "#对某一列进行数值替换\n",
    "df[\"年龄\"].replace(240,33,inplace = True)\n",
    "df"
   ]
  },
  {
   "cell_type": "code",
   "execution_count": null,
   "metadata": {},
   "outputs": [],
   "source": [
    "#对全表中的缺失值进行替换\n",
    "df.replace(np.NaN,0)\n",
    "#df.fillna(0)"
   ]
  },
  {
   "cell_type": "markdown",
   "metadata": {},
   "source": [
    "### 多对一替换"
   ]
  },
  {
   "cell_type": "code",
   "execution_count": null,
   "metadata": {},
   "outputs": [],
   "source": [
    "import pandas as pd\n",
    "import numpy as np\n",
    "df = pd.read_excel(r\"../pandas-data/reshape_data.xlsx\",sheet_name =0)\n",
    "#多对一用replace([A,B],C)方法，表示将A、B替换成C\n",
    "error_age=df[\"年龄\"][df[\"年龄\"]>200]\n",
    "df.replace(list(error_age),35)"
   ]
  },
  {
   "cell_type": "code",
   "execution_count": null,
   "metadata": {},
   "outputs": [],
   "source": [
    "#df[\"年龄\"][df[\"年龄\"]>200] = 35\n",
    "#df"
   ]
  },
  {
   "cell_type": "markdown",
   "metadata": {},
   "source": [
    "### 多个一对一替换"
   ]
  },
  {
   "cell_type": "code",
   "execution_count": null,
   "metadata": {},
   "outputs": [],
   "source": [
    "import pandas as pd\n",
    "import numpy as np\n",
    "df = pd.read_excel(r\"../pandas-data/reshape_data.xlsx\",sheet_name =0)\n",
    "df\n",
    "#多对多的替换借助replace()方法，用字典的形式表示,replace({\"A\":\"a\",\"B\":\"b\"})表示用a替换A，用b替换B.\n",
    "df.replace({240:32,260:33,280:34})"
   ]
  },
  {
   "cell_type": "markdown",
   "metadata": {},
   "source": [
    "## 数值排序"
   ]
  },
  {
   "cell_type": "markdown",
   "metadata": {},
   "source": [
    "### 按照一定数值进行排序"
   ]
  },
  {
   "cell_type": "code",
   "execution_count": null,
   "metadata": {},
   "outputs": [],
   "source": [
    "import pandas as pd\n",
    "import numpy as np\n",
    "df = pd.read_excel(r\"../pandas-data/reshape_data.xlsx\",sheet_name =1)\n",
    "#df.sort_values(by=[\"col\"],ascending = False) 默认是升序\n",
    "#按照销售ID进行升序排序\n",
    "df.sort_values(by=[\"销售ID\"])\n",
    "#按照销售ID进行降序排序\n",
    "df.sort_values(by=[\"销售ID\"],ascending= False)"
   ]
  },
  {
   "cell_type": "markdown",
   "metadata": {},
   "source": [
    "### 按照有缺失值的列进行排序"
   ]
  },
  {
   "cell_type": "code",
   "execution_count": null,
   "metadata": {},
   "outputs": [],
   "source": [
    "import pandas as pd\n",
    "df = pd.read_excel(r\"../pandas-data/reshape_data.xlsx\",sheet_name =2)\n",
    "df\n",
    "#默认空值是排在最后面\n",
    "df.sort_values( by = [\"销售ID\"])\n",
    "#通过设置na_position参数将缺失的值显示在前面，默认参数值是last\n",
    "df.sort_values(by = [\"销售ID\"],na_position = \"first\")"
   ]
  },
  {
   "cell_type": "markdown",
   "metadata": {},
   "source": [
    "### 按照多列数字进行排序"
   ]
  },
  {
   "cell_type": "code",
   "execution_count": null,
   "metadata": {},
   "outputs": [],
   "source": [
    "import pandas as pd\n",
    "df = pd.read_excel(r\"../pandas-data/reshape_data.xlsx\",sheet_name =3)\n",
    "df\n",
    "#将需要排序的by里面，然后在设置升降序\n",
    "df.sort_values(by=[\"销售ID\",\"成交时间\"],ascending = [True,False])"
   ]
  },
  {
   "cell_type": "markdown",
   "metadata": {},
   "source": [
    "## 数值排名\n",
    "- 使用rank()方法，有两个参数，一个是ascending用来指明排列默认升序，另外一个是method，指明列有重复值是的处理情况  \n",
    "\n",
    "method | 说明\n",
    "---|---\n",
    "average|与Excel中的RANK.AVG函数功能一样 \n",
    "first|按值在所有待排列数据中出现的先后顺序排名\n",
    "min|与Excle中的RANK.EQ函数的功能一样\n",
    "max|与min相反，取重复值对应的最大排名\n",
    "\n",
    "- Excel中RANK、RANK.AVG、RANK.EQ区别\n",
    "- Rank是Excel早起版本就有的函数，而RANK.EQ是Excel2010才开始出现的，同时增加了RANK.AVG函数\n",
    "\n",
    "函数名|说明\n",
    "-|-\n",
    " RANK|根据数值获取排名，默认降序\n",
    " RANK.AVG|根据排名相同值的排名求得平均值的排名，默认降序\n",
    " RANK.EQ|与RANK的方法一致\n"
   ]
  },
  {
   "cell_type": "code",
   "execution_count": null,
   "metadata": {},
   "outputs": [],
   "source": [
    "#Excel中RANK、RANK.AVG、RANK.EQ的使用\n",
    "import pandas as pd\n",
    "df = pd.read_excel(r\"../pandas-data/reshape_data.xlsx\",sheet_name =4)\n",
    "df"
   ]
  },
  {
   "cell_type": "code",
   "execution_count": null,
   "metadata": {},
   "outputs": [],
   "source": [
    "import pandas as pd\n",
    "df = pd.read_excel(r\"../pandas-data/reshape_data.xlsx\",sheet_name =1)\n",
    "df[\"销售ID\"]\n",
    "#method取average时与Excel中的RANK.AVG函数一样\n",
    "df[\"销售ID\"].rank(method =\"average\")"
   ]
  },
  {
   "cell_type": "code",
   "execution_count": null,
   "metadata": {},
   "outputs": [],
   "source": [
    "#method取first时，取数值第一次出现的排名\n",
    "df[\"销售ID\"].rank(method =\"first\")"
   ]
  },
  {
   "cell_type": "code",
   "execution_count": null,
   "metadata": {},
   "outputs": [],
   "source": [
    "#method取min时与Excel中的RANK.EQ函数一样\n",
    "df[\"销售ID\"].rank(method =\"min\")"
   ]
  },
  {
   "cell_type": "code",
   "execution_count": null,
   "metadata": {},
   "outputs": [],
   "source": [
    "#与min相反\n",
    "df[\"销售ID\"].rank(method =\"max\")"
   ]
  },
  {
   "cell_type": "markdown",
   "metadata": {},
   "source": [
    "## 数值删除"
   ]
  },
  {
   "cell_type": "markdown",
   "metadata": {},
   "source": [
    "### 删除列\n",
    "用drop()方法，在括号中设置需要删除的位置，设置参数axis = 1"
   ]
  },
  {
   "cell_type": "code",
   "execution_count": null,
   "metadata": {},
   "outputs": [],
   "source": [
    "#直接传入列名\n",
    "import pandas as pd\n",
    "df = pd.read_excel(r\"../pandas-data/reshape_data.xlsx\",sheet_name =1)\n",
    "df\n",
    "#axis为1时表示列，0时表示行\n",
    "df.drop([\"销售ID\",\"成交时间\"],axis =1)"
   ]
  },
  {
   "cell_type": "code",
   "execution_count": null,
   "metadata": {},
   "outputs": [],
   "source": [
    "#传入列的位置\n",
    "df.drop(df.columns[[4,5]],axis =1)"
   ]
  },
  {
   "cell_type": "code",
   "execution_count": null,
   "metadata": {},
   "outputs": [],
   "source": [
    "#传入列表\n",
    "df.drop(columns = [\"销售ID\",\"成交时间\"])"
   ]
  },
  {
   "cell_type": "markdown",
   "metadata": {},
   "source": [
    "### 删除行\n",
    "用drop方法，设置参数axis=0"
   ]
  },
  {
   "cell_type": "code",
   "execution_count": null,
   "metadata": {},
   "outputs": [],
   "source": [
    "#添加行索引\n",
    "df.index = [\"0a\",\"1b\",\"2c\",\"3d\",\"4e\"]\n",
    "#传入列名称\n",
    "df.drop([\"0a\",\"1b\"],axis = 0)"
   ]
  },
  {
   "cell_type": "code",
   "execution_count": null,
   "metadata": {},
   "outputs": [],
   "source": [
    "#传入待删除的行号\n",
    "df.drop(df.index[[0,1]],axis = 0)"
   ]
  },
  {
   "cell_type": "code",
   "execution_count": null,
   "metadata": {},
   "outputs": [],
   "source": [
    "#行名直接传给index参数\n",
    "df.drop(index = [\"0a\",\"1b\"])"
   ]
  },
  {
   "cell_type": "markdown",
   "metadata": {},
   "source": [
    "### 删除特定的行\n",
    "python中不能直接删除满足条件的值，而是把不满足条件的值筛选出来作为新数据"
   ]
  },
  {
   "cell_type": "code",
   "execution_count": null,
   "metadata": {},
   "outputs": [],
   "source": [
    "#删除年龄大于40对应的行\n",
    "df[df[\"年龄\"]<40]"
   ]
  },
  {
   "cell_type": "markdown",
   "metadata": {},
   "source": [
    "## 数值计算\n",
    "- 数值计算就是计算某个值在一个系列中数值出现的次数\n",
    "- 使用value_counts()方法，如需出现占比可以传入参数normalize = True"
   ]
  },
  {
   "cell_type": "code",
   "execution_count": null,
   "metadata": {},
   "outputs": [],
   "source": [
    "#计算销售ID的值出现的次数\n",
    "df[\"销售ID\"].value_counts()"
   ]
  },
  {
   "cell_type": "code",
   "execution_count": null,
   "metadata": {},
   "outputs": [],
   "source": [
    "#计算销售ID的值占比\n",
    "df[\"销售ID\"].value_counts(normalize = True)"
   ]
  },
  {
   "cell_type": "markdown",
   "metadata": {},
   "source": [
    "## 唯一值获取\n",
    "- 唯一值获取就是把一系列值删除重复项一以后的结果\n",
    "- 使用unique()方法，返回数组"
   ]
  },
  {
   "cell_type": "code",
   "execution_count": null,
   "metadata": {},
   "outputs": [],
   "source": [
    "df[\"销售ID\"].unique()"
   ]
  },
  {
   "cell_type": "markdown",
   "metadata": {},
   "source": [
    "## 数值查找\n",
    "- 就是看数据表中是否包含某个值\n",
    "- 用isin() 方法，将需要查找的值作为参数,返回布尔值"
   ]
  },
  {
   "cell_type": "code",
   "execution_count": null,
   "metadata": {},
   "outputs": [],
   "source": [
    "#单列查找\n",
    "df['年龄'].isin([31,21])"
   ]
  },
  {
   "cell_type": "code",
   "execution_count": null,
   "metadata": {},
   "outputs": [],
   "source": [
    "#全表查找\n",
    "df.isin([\"A2\",31])"
   ]
  },
  {
   "cell_type": "markdown",
   "metadata": {},
   "source": [
    "## 区间切分\n",
    "- cut()方法对区间检查切分，用参数bins来指明切分区间\n",
    "- qcut()方法也可以，但是不要事先指明切分区间，只需指明切分个数\n",
    "- 当数据分布比较均匀时，两个方法得到的区间基本一致，如果分布不均时则偏差比较大"
   ]
  },
  {
   "cell_type": "code",
   "execution_count": null,
   "metadata": {},
   "outputs": [],
   "source": [
    "#cut切分结果是几个左开又闭的区间\n",
    "import pandas as pd\n",
    "df = pd.read_excel(r\"../pandas-data/reshape_data.xlsx\",sheet_name =5)\n",
    "df\n",
    "pd.cut(df[\"年龄\"],bins = [0,3,6,9,10])"
   ]
  },
  {
   "cell_type": "code",
   "execution_count": null,
   "metadata": {},
   "outputs": [],
   "source": [
    "#qcut只需要指明切分个数\n",
    "pd.qcut(df[\"年龄\"],3)"
   ]
  },
  {
   "cell_type": "markdown",
   "metadata": {},
   "source": [
    "## 插入新的行或列  \n",
    "- 在python中没有专门用来插入行的方法，可以待插入的行当做一个新的列表，然后将两个表在纵轴方向上进行拼接\n",
    "- 在python中插入一列用insert()方法实现，在扩后中指明要插入的位置、插入后新列的列名，以及要插入的数据"
   ]
  },
  {
   "cell_type": "code",
   "execution_count": null,
   "metadata": {},
   "outputs": [],
   "source": [
    "#用insert()方法插入列\n",
    "import pandas as pd\n",
    "df = pd.read_excel(r\"../pandas-data/reshape_data.xlsx\",sheet_name =3)\n",
    "df\n",
    "df.insert(2,\"商品类别\",[\"cat01\",\"cat02\",\"cat03\",\"cat04\",\"cat05\"])\n",
    "df"
   ]
  },
  {
   "cell_type": "code",
   "execution_count": null,
   "metadata": {},
   "outputs": [],
   "source": [
    "#通过索引的方式插入列\n",
    "import pandas as pd\n",
    "df = pd.read_excel(r\"../pandas-data/reshape_data.xlsx\",sheet_name =3)\n",
    "df[\"商品类别\"]= [\"cat01\",\"cat02\",\"cat03\",\"cat04\",\"cat05\"]\n",
    "df"
   ]
  },
  {
   "cell_type": "markdown",
   "metadata": {},
   "source": [
    "## 行列互换\n",
    "- 所谓的行列互换(又称转置)就是行将数据的转换到列方向上，将列数据转换到行方向上。  \n",
    "- 用.T方法实现"
   ]
  },
  {
   "cell_type": "code",
   "execution_count": null,
   "metadata": {},
   "outputs": [],
   "source": [
    "import pandas as pd\n",
    "df = pd.read_excel(r\"../pandas-data/reshape_data.xlsx\",sheet_name =3)\n",
    "#行列转置\n",
    "df.T\n",
    "#再转置则回到原来的结果\n",
    "df.T.T\n",
    "m=df[\"成交时间\"]"
   ]
  },
  {
   "cell_type": "markdown",
   "metadata": {},
   "source": [
    "## 索引重塑\n",
    "- 所谓的索引重塑就是将原来的索引进行重构。\n",
    "- 把数据从表格型数据转换到树形结果的过程叫重塑，用strack()方法实现\n",
    "- 用unstack()将树形数据转为表格型数据"
   ]
  },
  {
   "cell_type": "code",
   "execution_count": null,
   "metadata": {},
   "outputs": [],
   "source": [
    "import pandas as pd\n",
    "df = pd.read_excel(r\"../pandas-data/reshape_data.xlsx\",sheet_name =6)\n",
    "df\n",
    "df.stack()"
   ]
  },
  {
   "cell_type": "code",
   "execution_count": null,
   "metadata": {},
   "outputs": [],
   "source": [
    "#将树形转为表格型\n",
    "df.stack().unstack()"
   ]
  },
  {
   "cell_type": "markdown",
   "metadata": {},
   "source": [
    "## 长宽表转换\n",
    "长宽表转换就是将比较长(很多行)的表转为比较宽的表(很多列)的表，或者将比较宽的表转为比较长的表"
   ]
  },
  {
   "cell_type": "markdown",
   "metadata": {},
   "source": [
    "### 宽表转为长表  \n",
    "Python中用stack()或melt()方法实现"
   ]
  },
  {
   "cell_type": "code",
   "execution_count": null,
   "metadata": {},
   "outputs": [],
   "source": [
    "import pandas as pd\n",
    "df = pd.read_excel(r\"../pandas-data/reshape_data.xlsx\",sheet_name =7)\n",
    "df\n",
    "#设置索引\n",
    "df.set_index([\"Company\",\"Name\"])\n",
    "#将列索引转为行索引\n",
    "df.set_index([\"Company\",\"Name\"]).stack()\n",
    "#重置索引\n",
    "df.set_index([\"Company\",\"Name\"]).stack().reset_index()\n",
    "#重命名索引\n",
    "df.set_index([\"Company\",\"Name\"]).stack().reset_index().rename(columns={\"level_2\":\"Year\",0:\"sale\"})"
   ]
  },
  {
   "cell_type": "markdown",
   "metadata": {},
   "source": [
    "melt中的id_vars参数用于指明宽表转黄到成都表时保持不变的列，var_name参数表示原来的列索引转化为“行索引”以后的列名，value_name表示新索引对于的值的列名  \n",
    "**注意：**这里的“行索引”是有双引号的，并非实际行索引，只是类似的实际行索引"
   ]
  },
  {
   "cell_type": "code",
   "execution_count": null,
   "metadata": {},
   "outputs": [],
   "source": [
    "#用melt()方法实现\n",
    "import pandas as pd\n",
    "df = pd.read_excel(r\"../pandas-data/reshape_data.xlsx\",sheet_name =7)\n",
    "df\n",
    "df.melt(id_vars=[\"Company\",\"Name\"],var_name=\"Year\",value_name = \"Sale\")"
   ]
  },
  {
   "cell_type": "markdown",
   "metadata": {},
   "source": [
    "### 长表转为宽表"
   ]
  },
  {
   "cell_type": "code",
   "execution_count": null,
   "metadata": {},
   "outputs": [],
   "source": [
    "import pandas as pd\n",
    "df = pd.read_excel(r\"../pandas-data/reshape_data.xlsx\",sheet_name =8)\n",
    "df\n",
    "df.pivot_table(index=[\"Company\",\"Name\"],columns=\"Year\",values=\"Sale\")"
   ]
  },
  {
   "cell_type": "markdown",
   "metadata": {},
   "source": [
    "## apply()与applymap()函数  \n",
    "- apply()函数主要用于对DataFrame中的某一column或row中的元素执行相同的函数操作\n",
    "- applymap()函数主要用于对DataFrame中每一个元素执行系统的操作\n",
    "- apply()和applymap()都要与lambda结合使用"
   ]
  },
  {
   "cell_type": "code",
   "execution_count": null,
   "metadata": {},
   "outputs": [],
   "source": [
    "#对C1列的远隔元素加1\n",
    "import pandas as pd\n",
    "df = pd.read_excel(r\"../pandas-data/reshape_data.xlsx\",sheet_name =9)\n",
    "df\n",
    "df[\"C1\"].apply(lambda x:x+1)"
   ]
  },
  {
   "cell_type": "code",
   "execution_count": null,
   "metadata": {},
   "outputs": [],
   "source": [
    "#对表内的每个元素加1\n",
    "df.applymap(lambda x:x+1)"
   ]
  },
  {
   "cell_type": "markdown",
   "metadata": {},
   "source": [
    "## 汇总运算"
   ]
  },
  {
   "cell_type": "markdown",
   "metadata": {},
   "source": [
    "**count()非空值计数**  \n",
    "非空值计数就是计算摸一个区域中非空数值的个数  \n",
    "默认是求每一列非空值的个数  \n",
    "修改axis=1可以计算每一行的非空值个数"
   ]
  },
  {
   "cell_type": "markdown",
   "metadata": {},
   "source": [
    "**sum()求和**"
   ]
  },
  {
   "cell_type": "markdown",
   "metadata": {},
   "source": [
    "**mean()求均值**  \n",
    "求均值就是对某一区域中的所有值进行算数平均值运算"
   ]
  },
  {
   "cell_type": "markdown",
   "metadata": {},
   "source": [
    "**max()求最大值**"
   ]
  },
  {
   "cell_type": "markdown",
   "metadata": {},
   "source": [
    "**min()求最小值使用方法和max()一致**"
   ]
  },
  {
   "cell_type": "markdown",
   "metadata": {},
   "source": [
    "**median()求中位数**  \n",
    "中位数就是将一组含有n个数据的序列X按照从小到大排列，位于中间位置的那个数，使用方法和其他函数一致"
   ]
  },
  {
   "cell_type": "markdown",
   "metadata": {},
   "source": [
    "**mode()求众数**  \n",
    "众数就是在一组数据中出现次数最多的数，使用方法与其他函数一致"
   ]
  },
  {
   "cell_type": "markdown",
   "metadata": {},
   "source": [
    "**var()求方差✩**  \n",
    "方差是用来衡量一组数据离散程度的，使用方法与其他函数一致  \n",
    "**std()求标准差✩**  \n",
    "标准差是方差的平方根，二者都是用来表示数据的离散程度的，使用方法与其他函数一致"
   ]
  },
  {
   "cell_type": "markdown",
   "metadata": {},
   "source": [
    "**quantile()求分数位**  \n",
    "分数位是比中数位更加详细的基于位置的指标，有四分之一分数位、四分之二分数位、四分之三分数位，而四分之二分数位就是中数位。\n"
   ]
  },
  {
   "cell_type": "markdown",
   "metadata": {},
   "source": [
    "**corr()函数相关性**  \n",
    "相关性长用来衡量两个事之间的相关程度"
   ]
  },
  {
   "cell_type": "markdown",
   "metadata": {},
   "source": [
    "## 时间索引  \n",
    "时间索引就是根据时间来对时间格式的字段进行数据选取的一种索引方式。"
   ]
  },
  {
   "cell_type": "code",
   "execution_count": null,
   "metadata": {},
   "outputs": [],
   "source": [
    "import pandas as pd\n",
    "import numpy as np\n",
    "index = pd.DatetimeIndex(['2018-01-01','2018-01-02','2018-01-03','2018-01-04','2018-01-05',\n",
    "                          '2019-01-06','2019-01-07','2019-01-08','2019-01-09','2019-01-10'])\n",
    "data = pd.DataFrame(np.arange(1,11),columns =[\"num\"],index = index)\n",
    "data"
   ]
  },
  {
   "cell_type": "code",
   "execution_count": null,
   "metadata": {},
   "outputs": [],
   "source": [
    "#获取2018年的数据\n",
    "data[\"2018\"]"
   ]
  },
  {
   "cell_type": "code",
   "execution_count": null,
   "metadata": {},
   "outputs": [],
   "source": [
    "#获取2018年1月份的数据\n",
    "data[\"2018-01\"]"
   ]
  },
  {
   "cell_type": "code",
   "execution_count": null,
   "metadata": {},
   "outputs": [],
   "source": [
    "#获取2018年1月1日到2018年1月5日的数据\n",
    "data[\"2018-01-01\":\"2018-01-03\"]"
   ]
  },
  {
   "cell_type": "code",
   "execution_count": null,
   "metadata": {},
   "outputs": [],
   "source": [
    "import pandas as pd\n",
    "from datetime import datetime\n",
    "df = pd.read_excel(r\"../pandas-data/select_data.xlsx\",sheet_name = 4)\n",
    "df"
   ]
  },
  {
   "cell_type": "code",
   "execution_count": null,
   "metadata": {},
   "outputs": [],
   "source": [
    "df[df[\"成交时间\"]>datetime(2018,8,10)]"
   ]
  },
  {
   "cell_type": "code",
   "execution_count": null,
   "metadata": {},
   "outputs": [],
   "source": [
    "df[df[\"成交时间\"] == datetime(2018,8,8)]"
   ]
  },
  {
   "cell_type": "code",
   "execution_count": null,
   "metadata": {},
   "outputs": [],
   "source": [
    "df[df[\"成交时间\"] < datetime(2018,8,9)]"
   ]
  },
  {
   "cell_type": "code",
   "execution_count": null,
   "metadata": {},
   "outputs": [],
   "source": [
    "df[(df[\"成交时间\"]>datetime(2018,8,8)) & (df[\"成交时间\"]< datetime(2018,8,11))]"
   ]
  },
  {
   "cell_type": "markdown",
   "metadata": {},
   "source": [
    "## 时间运算"
   ]
  },
  {
   "cell_type": "markdown",
   "metadata": {},
   "source": [
    "**两个时间之差**"
   ]
  },
  {
   "cell_type": "code",
   "execution_count": null,
   "metadata": {},
   "outputs": [],
   "source": [
    "cha = datetime(2018,5,21,19,50)-datetime(2018,5,18,20,32)\n",
    "cha"
   ]
  },
  {
   "cell_type": "code",
   "execution_count": null,
   "metadata": {},
   "outputs": [],
   "source": [
    "#返回天数\n",
    "cha.days"
   ]
  },
  {
   "cell_type": "code",
   "execution_count": null,
   "metadata": {},
   "outputs": [],
   "source": [
    "#返回秒时差\n",
    "cha.seconds"
   ]
  },
  {
   "cell_type": "code",
   "execution_count": null,
   "metadata": {},
   "outputs": [],
   "source": [
    "#换算成小时的时间差\n",
    "cha.seconds/3600"
   ]
  },
  {
   "cell_type": "markdown",
   "metadata": {},
   "source": [
    "**时间偏移**\n",
    "- timedelata只能偏移天、秒、微秒\n",
    "- 日期偏移量,可以直接实现天、小时、分钟单位的偏移date offset"
   ]
  },
  {
   "cell_type": "markdown",
   "metadata": {},
   "source": [
    "**timedelate**"
   ]
  },
  {
   "cell_type": "code",
   "execution_count": null,
   "metadata": {},
   "outputs": [],
   "source": [
    "from datetime import timedelta,datetime\n",
    "date = datetime.now()\n",
    "date\n",
    "\n",
    "#往后推一天\n",
    "date+timedelta(days =1)"
   ]
  },
  {
   "cell_type": "code",
   "execution_count": null,
   "metadata": {},
   "outputs": [],
   "source": [
    "#往后推60秒\n",
    "date+timedelta(seconds = 60)"
   ]
  },
  {
   "cell_type": "code",
   "execution_count": null,
   "metadata": {},
   "outputs": [],
   "source": [
    "#往前推一天\n",
    "date - timedelta(days =1)"
   ]
  },
  {
   "cell_type": "markdown",
   "metadata": {},
   "source": [
    "**data offset**"
   ]
  },
  {
   "cell_type": "code",
   "execution_count": null,
   "metadata": {},
   "outputs": [],
   "source": [
    "from pandas.tseries.offsets import Hour,Minute,Day,MonthEnd\n",
    "date = datetime.now()\n",
    "date\n",
    "\n",
    "#往后推一天\n",
    "date+Day(1)\n",
    "\n",
    "#往后推1小时\n",
    "date+Hour(1)\n",
    "\n",
    "#往后推10分钟\n",
    "date+Minute(10)\n",
    "\n",
    "#推后到月底\n",
    "date+MonthEnd(1)"
   ]
  },
  {
   "cell_type": "markdown",
   "metadata": {},
   "source": [
    "# 数据分组"
   ]
  },
  {
   "cell_type": "markdown",
   "metadata": {},
   "source": [
    "## 分组键是列名  \n",
    "分组键是列名时将某一列或者多列的列名传给groupby()方法，groupby()方法会按照这一列或多列进行分组。"
   ]
  },
  {
   "cell_type": "markdown",
   "metadata": {},
   "source": [
    "**按照一列进行分组**"
   ]
  },
  {
   "cell_type": "code",
   "execution_count": null,
   "metadata": {},
   "outputs": [],
   "source": [
    "import pandas as pd\n",
    "df = pd.read_excel(r\"../pandas-data/group_data.xlsx\",sheet_name =0)\n",
    "df"
   ]
  },
  {
   "cell_type": "code",
   "execution_count": null,
   "metadata": {},
   "outputs": [],
   "source": [
    "g=df.groupby(df[\"客户分类\"])\n",
    "g"
   ]
  },
  {
   "cell_type": "code",
   "execution_count": null,
   "metadata": {},
   "outputs": [],
   "source": [
    "g.mean()"
   ]
  },
  {
   "cell_type": "code",
   "execution_count": null,
   "metadata": {},
   "outputs": [],
   "source": [
    "g.describe()"
   ]
  },
  {
   "cell_type": "code",
   "execution_count": null,
   "metadata": {},
   "outputs": [],
   "source": [
    "g.sum()"
   ]
  },
  {
   "cell_type": "markdown",
   "metadata": {},
   "source": [
    "**按照多列进行分组**"
   ]
  },
  {
   "cell_type": "code",
   "execution_count": null,
   "metadata": {},
   "outputs": [],
   "source": [
    "df.groupby([\"客户分类\",\"区域\"]).count()"
   ]
  },
  {
   "cell_type": "code",
   "execution_count": null,
   "metadata": {},
   "outputs": [],
   "source": [
    "df.groupby([\"客户分类\",\"区域\"]).count().reset_index()"
   ]
  },
  {
   "cell_type": "code",
   "execution_count": null,
   "metadata": {},
   "outputs": [],
   "source": [
    "df.groupby([\"客户分类\",\"区域\"]).sum()"
   ]
  },
  {
   "cell_type": "code",
   "execution_count": null,
   "metadata": {},
   "outputs": [],
   "source": [
    "df.groupby(\"客户分类\")[\"用户ID\"].count()"
   ]
  },
  {
   "cell_type": "markdown",
   "metadata": {},
   "source": [
    "## 分组键是Series"
   ]
  },
  {
   "cell_type": "markdown",
   "metadata": {},
   "source": [
    "**按照一个Series进行分组**"
   ]
  },
  {
   "cell_type": "code",
   "execution_count": null,
   "metadata": {},
   "outputs": [],
   "source": [
    "df[\"客户分类\"]\n",
    "df.groupby(df[\"客户分类\"]).count()"
   ]
  },
  {
   "cell_type": "markdown",
   "metadata": {},
   "source": [
    "**按照多个Series进行分组**"
   ]
  },
  {
   "cell_type": "code",
   "execution_count": null,
   "metadata": {},
   "outputs": [],
   "source": [
    "df.groupby([df[\"客户分类\"],df[\"用户ID\"]]).sum()"
   ]
  },
  {
   "cell_type": "code",
   "execution_count": null,
   "metadata": {},
   "outputs": [],
   "source": [
    "df.groupby(df[\"客户分类\"])[\"用户ID\"].count()"
   ]
  },
  {
   "cell_type": "markdown",
   "metadata": {},
   "source": [
    "## aggregate方法"
   ]
  },
  {
   "cell_type": "code",
   "execution_count": null,
   "metadata": {},
   "outputs": [],
   "source": [
    "df.groupby(\"客户分类\").aggregate([\"count\",\"sum\"])"
   ]
  },
  {
   "cell_type": "code",
   "execution_count": null,
   "metadata": {},
   "outputs": [],
   "source": [
    "df.groupby(\"客户分类\").aggregate({\"用户ID\":\"count\",\"7月销量\":\"sum\",\"8月销量\":\"sum\"})"
   ]
  },
  {
   "cell_type": "code",
   "execution_count": null,
   "metadata": {},
   "outputs": [],
   "source": [
    "df.groupby(\"客户分类\").sum()"
   ]
  },
  {
   "cell_type": "markdown",
   "metadata": {},
   "source": [
    "## 对分组后的结果进行重置索引"
   ]
  },
  {
   "cell_type": "code",
   "execution_count": null,
   "metadata": {},
   "outputs": [],
   "source": [
    "#利用reset_index()方法重置索引\n",
    "df.groupby(\"客户分类\").sum().reset_index()"
   ]
  },
  {
   "cell_type": "markdown",
   "metadata": {},
   "source": [
    "# 数据透析   \n",
    "Python中数据透析表用pivot_table()方法，参数如下：  \n",
    "pd.pivot_table(data, values = None, index = None, columns = None, aggfunc = 'mean', fill_value = None, magrins = False, dropna = False, margins_name = 'All')  \n",
    "- data表示要做数据透析表的整个表 \n",
    "- values对应Excel中的值的那个框\n",
    "- index对应Excel中行的那个框\n",
    "- columns对应Excel中列的那个框\n",
    "- aggfunc表示values的计算类型\n",
    "- fill_value表示对空值的填充\n",
    "- margins 表示是否显示合并的列\n",
    "- dropna表似乎删除缺失，如果为真时，则把一整行全部作为缺失值删除\n",
    "- margins_name表示合并的列"
   ]
  },
  {
   "cell_type": "code",
   "execution_count": null,
   "metadata": {},
   "outputs": [],
   "source": [
    "import pandas as pd\n",
    "df = pd.read_excel(r\"../pandas-data/group_data.xlsx\",sheet_name =0)\n",
    "pd.pivot_table(df,values = \"用户ID\",columns =\"区域\",index=\"客户分类\",aggfunc=\"count\")"
   ]
  },
  {
   "cell_type": "code",
   "execution_count": null,
   "metadata": {},
   "outputs": [],
   "source": [
    "pd.pivot_table(df,values = \"用户ID\",columns =\"区域\",index=\"客户分类\",aggfunc=\"count\",margins = True)"
   ]
  },
  {
   "cell_type": "code",
   "execution_count": null,
   "metadata": {},
   "outputs": [],
   "source": [
    "pd.pivot_table(df,values = \"用户ID\",columns =\"区域\",index=\"客户分类\",aggfunc=\"count\",margins = True,fill_value =0)"
   ]
  },
  {
   "cell_type": "code",
   "execution_count": null,
   "metadata": {},
   "outputs": [],
   "source": [
    "pd.pivot_table(df,values = [\"用户ID\",\"7月销量\"],columns=\"区域\",index=\"客户分类\",aggfunc={\"用户ID\":\"count\",\"7月销量\":\"sum\"})"
   ]
  },
  {
   "cell_type": "code",
   "execution_count": null,
   "metadata": {},
   "outputs": [],
   "source": [
    "pd.pivot_table(df,values=\"用户ID\",columns=\"区域\",index=\"客户分类\",aggfunc=\"count\")"
   ]
  },
  {
   "cell_type": "code",
   "execution_count": null,
   "metadata": {},
   "outputs": [],
   "source": [
    "pd.pivot_table(df,values=\"用户ID\",columns=\"区域\",index=\"客户分类\",aggfunc=\"count\").reset_index()"
   ]
  },
  {
   "cell_type": "markdown",
   "metadata": {},
   "source": [
    "## 表的横向拼接"
   ]
  },
  {
   "cell_type": "markdown",
   "metadata": {},
   "source": [
    "### 连接表的类型"
   ]
  },
  {
   "cell_type": "markdown",
   "metadata": {},
   "source": [
    "**一对一**"
   ]
  },
  {
   "cell_type": "code",
   "execution_count": null,
   "metadata": {},
   "outputs": [],
   "source": [
    "import pandas as pd\n",
    "df1 = pd.read_excel(r\"../pandas-data/merge_data.xlsx\",sheet_name =0)\n",
    "df1"
   ]
  },
  {
   "cell_type": "code",
   "execution_count": null,
   "metadata": {},
   "outputs": [],
   "source": [
    "df2 = pd.read_excel(r\"../pandas-data/merge_data.xlsx\",sheet_name =1)\n",
    "df2"
   ]
  },
  {
   "cell_type": "code",
   "execution_count": null,
   "metadata": {},
   "outputs": [],
   "source": [
    "#一对一连接\n",
    "pd.merge(df1,df2)"
   ]
  },
  {
   "cell_type": "markdown",
   "metadata": {},
   "source": [
    "**多对一**"
   ]
  },
  {
   "cell_type": "code",
   "execution_count": null,
   "metadata": {},
   "outputs": [],
   "source": [
    "df1 = pd.read_excel(r\"../pandas-data/merge_data.xlsx\",sheet_name =2)\n",
    "df2 = pd.read_excel(r\"../pandas-data/merge_data.xlsx\",sheet_name =3)\n",
    "pd.merge(df1,df2,on = \"学号\")"
   ]
  },
  {
   "cell_type": "markdown",
   "metadata": {},
   "source": [
    "**多对多**"
   ]
  },
  {
   "cell_type": "code",
   "execution_count": null,
   "metadata": {},
   "outputs": [],
   "source": [
    "df1 = pd.read_excel(r\"../pandas-data/merge_data.xlsx\",sheet_name =4)\n",
    "df2 = pd.read_excel(r\"../pandas-data/merge_data.xlsx\",sheet_name =3)\n",
    "pd.merge(df1,df2)"
   ]
  },
  {
   "cell_type": "markdown",
   "metadata": {},
   "source": [
    "### 连接键的类型"
   ]
  },
  {
   "cell_type": "markdown",
   "metadata": {},
   "source": [
    "**默认以公共列作为连接键**"
   ]
  },
  {
   "cell_type": "code",
   "execution_count": null,
   "metadata": {},
   "outputs": [],
   "source": [
    "df1 = pd.read_excel(r\"../Data/Chapter11.xlsx\",sheet_name =0)\n",
    "df2 = pd.read_excel(r\"../Data/Chapter11.xlsx\",sheet_name =1)\n",
    "df1\n",
    "df2\n",
    "pd.merge(df1,df2)"
   ]
  },
  {
   "cell_type": "markdown",
   "metadata": {},
   "source": [
    "**用on来指定连接键**"
   ]
  },
  {
   "cell_type": "code",
   "execution_count": null,
   "metadata": {},
   "outputs": [],
   "source": [
    "pd.merge(df1,df2,on=\"学号\")"
   ]
  },
  {
   "cell_type": "code",
   "execution_count": null,
   "metadata": {},
   "outputs": [],
   "source": [
    "#连接键有多个\n",
    "df1 = pd.read_excel(r\"../pandas-data/merge_data.xlsx\",sheet_name =0)\n",
    "df2 = pd.read_excel(r\"../pandas-data/merge_data.xlsx\",sheet_name =5)\n",
    "pd.merge(df1,df2,on=[\"姓名\",\"学号\"])"
   ]
  },
  {
   "cell_type": "markdown",
   "metadata": {},
   "source": [
    "**分别指定左右连接键**  \n",
    "当两个表面有公共列时，实际值一样，但列名不同。用left_on和right_on来指明连接的列名"
   ]
  },
  {
   "cell_type": "code",
   "execution_count": null,
   "metadata": {},
   "outputs": [],
   "source": [
    "df1 = pd.read_excel(r\"../pandas-data/merge_data.xlsx\",sheet_name =6)\n",
    "df2 = pd.read_excel(r\"../pandas-data/merge_data.xlsx\",sheet_name =1)\n",
    "pd.merge(df1,df2,left_on = \"编号\",right_on = \"学号\")"
   ]
  },
  {
   "cell_type": "markdown",
   "metadata": {},
   "source": [
    "**把索引列当作连接键**  \n",
    "索引列不算真正的列，当公共列是索引列时，就要把索引列单做连接键，使用left_index、right_index来设置索引"
   ]
  },
  {
   "cell_type": "code",
   "execution_count": null,
   "metadata": {},
   "outputs": [],
   "source": [
    "df1 = pd.read_excel(r\"../pandas-data/merge_data.xlsx\",sheet_name =7)\n",
    "df1.set_index(\"编号\")"
   ]
  },
  {
   "cell_type": "code",
   "execution_count": null,
   "metadata": {},
   "outputs": [],
   "source": [
    "df2 = pd.read_excel(r\"../pandas-data/merge_data.xlsx\",sheet_name =1)\n",
    "df2.set_index(\"学号\")"
   ]
  },
  {
   "cell_type": "code",
   "execution_count": null,
   "metadata": {
    "scrolled": true
   },
   "outputs": [],
   "source": [
    "#当左右表的连接键均为索引\n",
    "pd.merge(df1.set_index(\"编号\"),df2.set_index(\"学号\"),left_index = True,right_index = True)"
   ]
  },
  {
   "cell_type": "code",
   "execution_count": null,
   "metadata": {},
   "outputs": [],
   "source": [
    "df2 = pd.read_excel(r\"../pandas-data/merge_data.xlsx\",sheet_name =1)\n",
    "df2"
   ]
  },
  {
   "cell_type": "code",
   "execution_count": null,
   "metadata": {
    "scrolled": true
   },
   "outputs": [],
   "source": [
    "#索引列和普通索引列混用\n",
    "pd.merge(df1.set_index(\"编号\"),df2,left_index = True,right_on = \"学号\")"
   ]
  },
  {
   "cell_type": "markdown",
   "metadata": {},
   "source": [
    "### 连接方式  \n",
    "用参数how来指明具体的连接方式,如果不指定默认是内连接"
   ]
  },
  {
   "cell_type": "markdown",
   "metadata": {},
   "source": [
    "**内连接(inner)**"
   ]
  },
  {
   "cell_type": "markdown",
   "metadata": {},
   "source": [
    "**左连接(left)**"
   ]
  },
  {
   "cell_type": "markdown",
   "metadata": {},
   "source": [
    "**右连接(right)**"
   ]
  },
  {
   "cell_type": "markdown",
   "metadata": {},
   "source": [
    "**外连接(outer)**  \n",
    "就是两个表的并集"
   ]
  },
  {
   "cell_type": "markdown",
   "metadata": {},
   "source": [
    "**重复列名处理**  \n",
    "pd.merge()方法默认会给这些重复的列名加后缀\\_x,\\_y"
   ]
  },
  {
   "cell_type": "markdown",
   "metadata": {},
   "source": [
    "**自定义重复列名**  \n",
    "用suffixes参数"
   ]
  },
  {
   "cell_type": "code",
   "execution_count": null,
   "metadata": {
    "scrolled": true
   },
   "outputs": [],
   "source": [
    "pd.merge(df1,df2,on=\"学号\",how=\"inner\",suffixes=[\"_L\",\"_R\"])"
   ]
  },
  {
   "cell_type": "markdown",
   "metadata": {},
   "source": [
    "## 表的纵向拼接"
   ]
  },
  {
   "cell_type": "markdown",
   "metadata": {},
   "source": [
    "**普通合并**"
   ]
  },
  {
   "cell_type": "code",
   "execution_count": null,
   "metadata": {},
   "outputs": [],
   "source": [
    "pd.concat([df1,df2])"
   ]
  },
  {
   "cell_type": "markdown",
   "metadata": {},
   "source": [
    "**索引设置**"
   ]
  },
  {
   "cell_type": "code",
   "execution_count": null,
   "metadata": {},
   "outputs": [],
   "source": [
    "pd.concat([df1.set_index(\"编号\"),df2.set_index(\"编号\")],ignore_index = True)"
   ]
  },
  {
   "cell_type": "markdown",
   "metadata": {},
   "source": [
    "## 导出.xlsx文件\n",
    "**设置文件导出路径**"
   ]
  },
  {
   "cell_type": "code",
   "execution_count": null,
   "metadata": {},
   "outputs": [],
   "source": [
    "import pandas as pd\n",
    "df = pd.read_excel(r\"../Data/Chapter12.xlsx\",sheet_name =0 )\n",
    "df.to_excel(excel_writer = r\"C:\\Users\\Administrator\\Excel-Python\\Data\\测试文档01.xlsx\")"
   ]
  },
  {
   "cell_type": "markdown",
   "metadata": {},
   "source": [
    "**设置Sheet名称**"
   ]
  },
  {
   "cell_type": "code",
   "execution_count": null,
   "metadata": {},
   "outputs": [],
   "source": [
    "df.to_excel(excel_writer = r\"C:\\Users\\Administrator\\Excel-Python\\Data\\测试文档02.xlsx\",\n",
    "            sheet_name =\"测试\")"
   ]
  },
  {
   "cell_type": "markdown",
   "metadata": {},
   "source": [
    "**设置索引**"
   ]
  },
  {
   "cell_type": "code",
   "execution_count": null,
   "metadata": {},
   "outputs": [],
   "source": [
    "df.to_excel(excel_writer = r\"C:\\Users\\Administrator\\Excel-Python\\Data\\测试文档03.xlsx\",\n",
    "            index = False)"
   ]
  },
  {
   "cell_type": "markdown",
   "metadata": {},
   "source": [
    "**设置要导出的列**"
   ]
  },
  {
   "cell_type": "code",
   "execution_count": null,
   "metadata": {},
   "outputs": [],
   "source": [
    "df = pd.read_excel(r\"../Data/Chapter12.xlsx\",sheet_name =0 )\n",
    "df.to_excel(excel_writer = r\"C:\\Users\\Administrator\\Excel-Python\\Data\\测试文档04.xlsx\",\n",
    "            sheet_name = \"测试文档\",\n",
    "            index=False,columns = [\"用户ID\",\"7月销量\",\"8月销量\",\"9月销量\"])"
   ]
  },
  {
   "cell_type": "markdown",
   "metadata": {},
   "source": [
    "**设置编码格式**"
   ]
  },
  {
   "cell_type": "code",
   "execution_count": null,
   "metadata": {},
   "outputs": [],
   "source": [
    "df.to_excel(excel_writer = r\"C:\\Users\\Administrator\\Excel-Python\\Data\\测试文档05.xlsx\",\n",
    "           sheet_name = \"测试文档\",\n",
    "           index = False,\n",
    "           encoding = \"utf-8\")"
   ]
  },
  {
   "cell_type": "markdown",
   "metadata": {},
   "source": [
    "**缺失值处理**"
   ]
  },
  {
   "cell_type": "code",
   "execution_count": null,
   "metadata": {},
   "outputs": [],
   "source": [
    "df = pd.read_excel(r\"../Data/Chapter12.xlsx\",sheet_name =2)\n",
    "df.to_excel(excel_writer = r\"C:\\Users\\Administrator\\Excel-Python\\Data\\测试文档06.xlsx\",\n",
    "           sheet_name=\"测试文档\",\n",
    "           index = False,\n",
    "           encoding = \"utf-8\",\n",
    "           na_rep = 0 #缺失值填充为0\n",
    "           )"
   ]
  },
  {
   "cell_type": "markdown",
   "metadata": {},
   "source": [
    "**无穷值处理**"
   ]
  },
  {
   "cell_type": "code",
   "execution_count": null,
   "metadata": {},
   "outputs": [],
   "source": [
    "df = pd.read_excel(r\"../Data/Chapter12.xlsx\",sheet_name =1)\n",
    "df.to_excel(excel_writer = r\"C:\\Users\\Administrator\\Excel-Python\\Data\\测试文档07.xlsx\",\n",
    "           sheet_name = \"测试文档\",\n",
    "           index = False,\n",
    "           encoding = \"utf-8\",\n",
    "           na_rep = 0,\n",
    "           inf_rep = 0 #无穷值填充为0\n",
    "           )"
   ]
  },
  {
   "cell_type": "markdown",
   "metadata": {},
   "source": [
    "## 多个dataframe保存一个excel的多个Sheet"
   ]
  },
  {
   "cell_type": "code",
   "execution_count": null,
   "metadata": {},
   "outputs": [],
   "source": [
    "#声明一个对象\n",
    "writer = pd.ExcelWriter(r\"C:\\Users\\Administrator\\Excel-Python\\Data\\test02.xlsx\",\n",
    "                        engine = \"xlsxwriter\")\n",
    "#将df1、df2、df3写入Excel中的sheet1、sheet2、sheet3\n",
    "#重命名表1、表2、表3\n",
    "df1.to_excel(writer,sheet_name =\"表1\")\n",
    "df2.to_excel(writer,sheet_name =\"表2\")\n",
    "df3.to_excel(writer,sheet_name =\"表3\")\n",
    "#保存读写的内容\n",
    "writer.save()"
   ]
  }
 ],
 "metadata": {
  "kernelspec": {
   "display_name": "Python 3",
   "language": "python",
   "name": "python3"
  },
  "language_info": {
   "codemirror_mode": {
    "name": "ipython",
    "version": 3
   },
   "file_extension": ".py",
   "mimetype": "text/x-python",
   "name": "python",
   "nbconvert_exporter": "python",
   "pygments_lexer": "ipython3",
   "version": "3.7.3"
  },
  "toc": {
   "base_numbering": 1,
   "nav_menu": {},
   "number_sections": true,
   "sideBar": true,
   "skip_h1_title": false,
   "title_cell": "Table of Contents",
   "title_sidebar": "第3章 Pandas数据结构",
   "toc_cell": false,
   "toc_position": {
    "height": "calc(100% - 180px)",
    "left": "10px",
    "top": "150px",
    "width": "320px"
   },
   "toc_section_display": true,
   "toc_window_display": true
  }
 },
 "nbformat": 4,
 "nbformat_minor": 2
}
