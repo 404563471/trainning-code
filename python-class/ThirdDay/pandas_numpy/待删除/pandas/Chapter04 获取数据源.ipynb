{
 "cells": [
  {
   "cell_type": "markdown",
   "metadata": {},
   "source": [
    "# 获取数据"
   ]
  },
  {
   "cell_type": "markdown",
   "metadata": {},
   "source": [
    "## 导入外部数据  \n",
    "导入数据主要用到pandas的read_x()方法，x表示待导入文件的式"
   ]
  },
  {
   "cell_type": "markdown",
   "metadata": {},
   "source": [
    "### 导入.xlsx文件  \n",
    "- 用read_excel()方法，传入文件路径即可，避免路径被转义前面加一个**r**\n",
    "- 指定导入那个Sheet可以设定sheet_name参数\n",
    "- 指定行索引index_col参数，默认是从0开始\n",
    "- 指定列索引header参数，默认为0，即第一行作为列索引\n",
    "- 指定导入列usecols参数"
   ]
  },
  {
   "cell_type": "code",
   "execution_count": null,
   "metadata": {},
   "outputs": [],
   "source": [
    "#直接导入\n",
    "import pandas as pd\n",
    "df = pd.read_excel(r\"../Data/Chapter04.xlsx\")\n",
    "df"
   ]
  },
  {
   "cell_type": "code",
   "execution_count": null,
   "metadata": {},
   "outputs": [],
   "source": [
    "#导入具体的sheet\n",
    "df = pd.read_excel(r\"../Data/Chapter04.xlsx\",sheet_name = 0)\n",
    "df"
   ]
  },
  {
   "cell_type": "code",
   "execution_count": null,
   "metadata": {},
   "outputs": [],
   "source": [
    "#指定行索引\n",
    "df = pd.read_excel(r\"../Data/Chapter04.xlsx\",sheet_name = 0,index_col = 0)\n",
    "df"
   ]
  },
  {
   "cell_type": "code",
   "execution_count": null,
   "metadata": {},
   "outputs": [],
   "source": [
    "#指定列索引\n",
    "df = pd.read_excel(r\"../Data/Chapter04.xlsx\",sheet_name = 0,header = 0)\n",
    "df"
   ]
  },
  {
   "cell_type": "code",
   "execution_count": null,
   "metadata": {},
   "outputs": [],
   "source": [
    "#导入指定的列\n",
    "df = pd.read_excel(r\"../Data/Chapter04.xlsx\",usecols =0)\n",
    "df"
   ]
  },
  {
   "cell_type": "code",
   "execution_count": null,
   "metadata": {},
   "outputs": [],
   "source": [
    "#导入多列\n",
    "df = pd.read_excel(r\"../Data/Chapter04.xlsx\",sheet_name = 0,usecols =[1,2])\n",
    "df"
   ]
  },
  {
   "cell_type": "code",
   "execution_count": null,
   "metadata": {},
   "outputs": [],
   "source": [
    "#读取中文表名\n",
    "df = pd.read_excel(r\"../Data/Chapter04.xlsx\",sheet_name = \"你好\")\n",
    "df"
   ]
  },
  {
   "cell_type": "markdown",
   "metadata": {},
   "source": [
    "### 导入.csv文件  \n",
    "- read_csv()方法直接导入\n",
    "- sep参数指明分隔符\n",
    "- nrows参数指明读取行\n",
    "- engineing参数指定文件编码格式\n",
    "- 如果文件路径含有中文需要设定engine\n"
   ]
  },
  {
   "cell_type": "code",
   "execution_count": null,
   "metadata": {},
   "outputs": [],
   "source": [
    "#直接导入\n",
    "df = pd.read_csv(r\"../Data/Chapter04.csv\")\n",
    "df"
   ]
  },
  {
   "cell_type": "code",
   "execution_count": null,
   "metadata": {},
   "outputs": [],
   "source": [
    "#指定分隔符\n",
    "df = pd.read_csv(r\"../Data/Chapter04.1.csv\",sep=\" \")\n",
    "df"
   ]
  },
  {
   "cell_type": "code",
   "execution_count": null,
   "metadata": {},
   "outputs": [],
   "source": [
    "#指定读取行数\n",
    "df = pd.read_csv(r\"../Data/Chapter04.csv\",nrows =2)\n",
    "df"
   ]
  },
  {
   "cell_type": "markdown",
   "metadata": {},
   "source": [
    "### 导入.txt文件  \n",
    "- 用read_table()方法读取\n",
    "- sep参数指定分隔符\n",
    "- 也可以读取csv文件\n",
    "- 其他参数与read_csv()方法基本一致"
   ]
  },
  {
   "cell_type": "code",
   "execution_count": null,
   "metadata": {},
   "outputs": [],
   "source": [
    "#指定读取行数\n",
    "df = pd.read_csv(r\"../Data/Chapter04.txt\",sep =\",\")\n",
    "df"
   ]
  },
  {
   "cell_type": "markdown",
   "metadata": {},
   "source": [
    "### 导入sql文件\n",
    "- 连接数据库\n",
    "- 执行SQL查询"
   ]
  },
  {
   "cell_type": "code",
   "execution_count": null,
   "metadata": {},
   "outputs": [],
   "source": [
    "#导入pymysql模块\n",
    "import pymysql\n",
    "import pandas as pd\n",
    "\n",
    "#创建连接\n",
    "eng = pymysql.connect(host='localhost',\n",
    "                      user='root',\n",
    "                      password='',\n",
    "                      db='new_website',\n",
    "                      charset='utf8')\n",
    "sql= 'SELECT * FROM lara_migrations'\n",
    "df = pd.read_sql(sql,eng,)\n",
    "df"
   ]
  },
  {
   "cell_type": "markdown",
   "metadata": {},
   "source": [
    "## 熟悉数据"
   ]
  },
  {
   "cell_type": "markdown",
   "metadata": {},
   "source": [
    "### 利用head预览前几行  \n",
    "head()方法如果不传参数，默认显示**前5行**"
   ]
  },
  {
   "cell_type": "code",
   "execution_count": null,
   "metadata": {},
   "outputs": [],
   "source": [
    "import pandas as pd\n",
    "df = pd.read_excel(r\"../Data/Chapter04.xlsx\")\n",
    "df\n",
    "#默认显示\n",
    "df.head()"
   ]
  },
  {
   "cell_type": "code",
   "execution_count": null,
   "metadata": {},
   "outputs": [],
   "source": [
    "#显示前2行\n",
    "df.head(2)"
   ]
  },
  {
   "cell_type": "markdown",
   "metadata": {},
   "source": [
    "### 利用shape获取数据表的大小  \n",
    "Python中shape方法获取数据表的行和列数**(注意没括号)**"
   ]
  },
  {
   "cell_type": "code",
   "execution_count": null,
   "metadata": {},
   "outputs": [],
   "source": [
    "import pandas as pd\n",
    "df = pd.read_excel(r\"../Data/Chapter04.xlsx\")\n",
    "df.shape"
   ]
  },
  {
   "cell_type": "markdown",
   "metadata": {},
   "source": [
    "### 利用info获取数据类型  \n",
    "Python中info()方法查看数据表的中的数据类型"
   ]
  },
  {
   "cell_type": "code",
   "execution_count": null,
   "metadata": {},
   "outputs": [],
   "source": [
    "df.info()"
   ]
  },
  {
   "cell_type": "markdown",
   "metadata": {},
   "source": [
    "### 利用describe获取数值分布情况\n",
    "Python中describe()方法可以获取所有数值类型字段的分布值"
   ]
  },
  {
   "cell_type": "code",
   "execution_count": null,
   "metadata": {},
   "outputs": [],
   "source": [
    "df.describe()"
   ]
  }
 ],
 "metadata": {
  "kernelspec": {
   "display_name": "Python 3",
   "language": "python",
   "name": "python3"
  },
  "language_info": {
   "codemirror_mode": {
    "name": "ipython",
    "version": 3
   },
   "file_extension": ".py",
   "mimetype": "text/x-python",
   "name": "python",
   "nbconvert_exporter": "python",
   "pygments_lexer": "ipython3",
   "version": "3.7.2"
  },
  "toc": {
   "base_numbering": 1,
   "nav_menu": {},
   "number_sections": true,
   "sideBar": true,
   "skip_h1_title": false,
   "title_cell": "Table of Contents",
   "title_sidebar": "第4章  获取数据源",
   "toc_cell": false,
   "toc_position": {
    "height": "calc(100% - 180px)",
    "left": "10px",
    "top": "150px",
    "width": "320px"
   },
   "toc_section_display": true,
   "toc_window_display": true
  }
 },
 "nbformat": 4,
 "nbformat_minor": 2
}
