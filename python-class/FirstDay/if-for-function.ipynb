{
 "cells": [
  {
   "cell_type": "markdown",
   "metadata": {},
   "source": [
    "## if 判断语法\n",
    "\n",
    "1. 单个判断条件\n",
    "```\n",
    "if 判断条件：\n",
    "    执行语句……\n",
    "else：\n",
    "    执行语句……\n",
    "```\n",
    "- 判断条件可以用>（大于）、<(小于)、==（等于）、>=（大于等于）、<=（小于等于）来表示\n",
    "- 非零数值、非空字符串、非空 list 等，判断为 True，否则为 False"
   ]
  },
  {
   "cell_type": "code",
   "execution_count": 2,
   "metadata": {},
   "outputs": [
    {
     "name": "stdout",
     "output_type": "stream",
     "text": [
      "及格\n"
     ]
    }
   ],
   "source": [
    "#results=59\n",
    "results=70\n",
    "if results>=60:\n",
    "    print ('及格')\n",
    "else :\n",
    "    print ('不及格')"
   ]
  },
  {
   "cell_type": "markdown",
   "metadata": {},
   "source": [
    "2. 多个判断条件的形式\n",
    "```\n",
    "if 判断条件1:\n",
    "    执行语句1……\n",
    "elif 判断条件2:\n",
    "    执行语句2……\n",
    "elif 判断条件3:\n",
    "    执行语句3……\n",
    "else:\n",
    "    执行语句4……\n",
    "```"
   ]
  },
  {
   "cell_type": "code",
   "execution_count": null,
   "metadata": {},
   "outputs": [],
   "source": [
    "results = 89\n",
    "\n",
    "if results > 90:\n",
    "    print('优秀')\n",
    "elif results > 80:\n",
    "    print('良好')\n",
    "elif results >= 60:\n",
    "    print ('及格')\n",
    "else :\n",
    "    print ('不及格')"
   ]
  },
  {
   "cell_type": "code",
   "execution_count": 4,
   "metadata": {},
   "outputs": [
    {
     "name": "stdout",
     "output_type": "stream",
     "text": [
      "False\n",
      "True\n",
      "False\n",
      "True\n",
      "0\n",
      "2\n",
      "False\n"
     ]
    }
   ],
   "source": [
    "### 逻辑运算\n",
    "print(True and False)\n",
    "print(True or False)\n",
    "print(not True)\n",
    "print(not False)\n",
    "print(1 and 0)\n",
    "print(2 or 0)\n",
    "print(not 3)"
   ]
  },
  {
   "cell_type": "code",
   "execution_count": 8,
   "metadata": {},
   "outputs": [
    {
     "ename": "TypeError",
     "evalue": "超出0~100范围",
     "output_type": "error",
     "traceback": [
      "\u001b[1;31m---------------------------------------------------------------------------\u001b[0m",
      "\u001b[1;31mTypeError\u001b[0m                                 Traceback (most recent call last)",
      "\u001b[1;32m<ipython-input-8-685682f09aab>\u001b[0m in \u001b[0;36m<module>\u001b[1;34m\u001b[0m\n\u001b[0;32m      9\u001b[0m     \u001b[0mprint\u001b[0m \u001b[1;33m(\u001b[0m\u001b[1;34m'不及格'\u001b[0m\u001b[1;33m)\u001b[0m\u001b[1;33m\u001b[0m\u001b[1;33m\u001b[0m\u001b[0m\n\u001b[0;32m     10\u001b[0m \u001b[1;32melse\u001b[0m \u001b[1;33m:\u001b[0m\u001b[1;33m\u001b[0m\u001b[1;33m\u001b[0m\u001b[0m\n\u001b[1;32m---> 11\u001b[1;33m     \u001b[1;32mraise\u001b[0m \u001b[0mTypeError\u001b[0m\u001b[1;33m(\u001b[0m\u001b[1;34m\"超出0~100范围\"\u001b[0m\u001b[1;33m)\u001b[0m\u001b[1;33m\u001b[0m\u001b[1;33m\u001b[0m\u001b[0m\n\u001b[0m",
      "\u001b[1;31mTypeError\u001b[0m: 超出0~100范围"
     ]
    }
   ],
   "source": [
    "#results = 89\n",
    "results = 110\n",
    "\n",
    "if results > 90 and results <=100:\n",
    "    print('优秀')\n",
    "elif 90 >= results > 80:\n",
    "    print('良好')\n",
    "elif 0<= results <= 60:\n",
    "    print ('不及格')\n",
    "else :\n",
    "    raise TypeError(\"超出0~100范围\")"
   ]
  },
  {
   "cell_type": "code",
   "execution_count": 11,
   "metadata": {},
   "outputs": [
    {
     "name": "stdout",
     "output_type": "stream",
     "text": [
      "<class 'int'>\n"
     ]
    },
    {
     "data": {
      "text/plain": [
       "float"
      ]
     },
     "execution_count": 11,
     "metadata": {},
     "output_type": "execute_result"
    }
   ],
   "source": [
    "### 类型判断\n",
    "print(type(results))\n",
    "isinstance(results, int)\n",
    "isinstance(True, (bool, int))\n",
    "type(1.1)"
   ]
  },
  {
   "cell_type": "code",
   "execution_count": 15,
   "metadata": {},
   "outputs": [
    {
     "name": "stdout",
     "output_type": "stream",
     "text": [
      "优秀\n"
     ]
    }
   ],
   "source": [
    "results = \"100\"\n",
    "\n",
    "if isinstance(results, (str, bool)):\n",
    "    results=int(results)\n",
    "    if results > 90 and results <=100:\n",
    "        print('优秀')\n",
    "    elif 90 >= results > 80:\n",
    "        print('良好')\n",
    "    elif 0<= results <= 60:\n",
    "        print ('不及格')\n",
    "    else :\n",
    "        raise TypeError(\"超出0~100范围\")\n",
    "else:\n",
    "    if results > 90 and results <=100:\n",
    "        print('优秀')\n",
    "    elif 90 >= results > 80:\n",
    "        print('良好')\n",
    "    elif 0<= results <= 60:\n",
    "        print ('不及格')\n",
    "    else :\n",
    "        raise TypeError(\"超出0~100范围\")"
   ]
  },
  {
   "cell_type": "markdown",
   "metadata": {},
   "source": [
    "## 循环语句\n",
    "1. for 循环\n",
    "```\n",
    "for 单个循环变量 in 多个循环变量:\n",
    "   单个循环执行语句\n",
    "   （循环控制）\n",
    "```\n",
    "- break\t在语句块执行过程中终止循环，并且跳出整个循环\n",
    "- continue\t在语句块执行过程中终止当前循环，跳出该次循环，执行下一次循环\n",
    "- pass\tpass 是空语句，是为了保持程序结构的完整性"
   ]
  },
  {
   "cell_type": "code",
   "execution_count": 16,
   "metadata": {},
   "outputs": [
    {
     "name": "stdout",
     "output_type": "stream",
     "text": [
      "1\n",
      "2\n",
      "3\n"
     ]
    }
   ],
   "source": [
    "for x in [1,2,3]:\n",
    "    print(x)"
   ]
  },
  {
   "cell_type": "code",
   "execution_count": 20,
   "metadata": {
    "scrolled": true
   },
   "outputs": [
    {
     "name": "stdout",
     "output_type": "stream",
     "text": [
      "0\n",
      "1\n",
      "2\n",
      "3\n",
      "4\n",
      "5\n",
      "6\n",
      "7\n",
      "8\n",
      "9\n",
      "10\n"
     ]
    }
   ],
   "source": [
    "#for x in range(1,11):\n",
    "for x in range(11):\n",
    "    print(x)"
   ]
  },
  {
   "cell_type": "code",
   "execution_count": 21,
   "metadata": {},
   "outputs": [
    {
     "name": "stdout",
     "output_type": "stream",
     "text": [
      "a\n",
      "b\n",
      "c\n",
      "1\n",
      "2\n",
      "3\n",
      "('a', 1)\n",
      "('b', 2)\n",
      "('c', 3)\n",
      "a\n",
      "1\n",
      "b\n",
      "2\n",
      "c\n",
      "3\n"
     ]
    }
   ],
   "source": [
    "d = {'a': 1, 'b': 2, 'c': 3}\n",
    "for key in d:\n",
    "    print(key)\n",
    "\n",
    "for value in d.values():\n",
    "    print(value)\n",
    "\n",
    "for itms in d.items():\n",
    "    print(itms)\n",
    "\n",
    "for key, value in d.items():\n",
    "    print(key)\n",
    "    print(value)"
   ]
  },
  {
   "cell_type": "code",
   "execution_count": 23,
   "metadata": {},
   "outputs": [
    {
     "name": "stdout",
     "output_type": "stream",
     "text": [
      "1\n",
      "2\n",
      "3\n",
      "4\n",
      "5\n",
      "6\n"
     ]
    }
   ],
   "source": [
    "for i,j in [(1,2), (3,4), (5,6)]:\n",
    "    print(i)\n",
    "    print(j)"
   ]
  },
  {
   "cell_type": "code",
   "execution_count": 24,
   "metadata": {},
   "outputs": [
    {
     "name": "stdout",
     "output_type": "stream",
     "text": [
      "david 18\n",
      "mason 19\n",
      "jason 20\n"
     ]
    }
   ],
   "source": [
    "names = ['david', 'mason', 'jason']\n",
    "ages = [18, 19, 20]\n",
    "\n",
    "for name, age in zip(names, ages):\n",
    "     print(name,age)"
   ]
  },
  {
   "cell_type": "code",
   "execution_count": 25,
   "metadata": {},
   "outputs": [
    {
     "name": "stdout",
     "output_type": "stream",
     "text": [
      "1\n",
      "4\n",
      "9\n",
      "16\n",
      "25\n",
      "36\n",
      "49\n",
      "64\n",
      "81\n",
      "100\n"
     ]
    }
   ],
   "source": [
    "for x in range(1,11):\n",
    "    print(x*x)"
   ]
  },
  {
   "cell_type": "code",
   "execution_count": 27,
   "metadata": {},
   "outputs": [
    {
     "name": "stdout",
     "output_type": "stream",
     "text": [
      "4\n",
      "16\n",
      "36\n",
      "64\n",
      "100\n"
     ]
    }
   ],
   "source": [
    "for x in range(1,11):\n",
    "    if x%2==0:\n",
    "        print(x*x)\n",
    "    else:\n",
    "        pass"
   ]
  },
  {
   "cell_type": "code",
   "execution_count": 28,
   "metadata": {},
   "outputs": [
    {
     "name": "stdout",
     "output_type": "stream",
     "text": [
      "1\n",
      "3\n",
      "5\n",
      "7\n",
      "9\n"
     ]
    }
   ],
   "source": [
    "for i in range(1, 11, 2):\n",
    "    print(i)"
   ]
  },
  {
   "cell_type": "code",
   "execution_count": 29,
   "metadata": {},
   "outputs": [
    {
     "name": "stdout",
     "output_type": "stream",
     "text": [
      "Value a Index  0\n",
      "Value b Index  1\n",
      "Value c Index  2\n",
      "Value d Index  3\n"
     ]
    }
   ],
   "source": [
    "#使用枚举\n",
    "#我们常用 For 循环来遍历某个列表，同样我们也能枚举列表的索引与值。\n",
    "\n",
    "list1 = [\"a\", \"b\", \"c\", \"d\"]\n",
    "for index, element in enumerate(list1): \n",
    "    print(\"Value\", element, \"Index \", index, )"
   ]
  },
  {
   "cell_type": "code",
   "execution_count": 31,
   "metadata": {},
   "outputs": [
    {
     "name": "stdout",
     "output_type": "stream",
     "text": [
      "5 4 3 2 1 "
     ]
    },
    {
     "data": {
      "text/plain": [
       "[5, 4, 3, 2, 1]"
      ]
     },
     "execution_count": 31,
     "metadata": {},
     "output_type": "execute_result"
    }
   ],
   "source": [
    "list1 = [1,2,3,4,5]\n",
    "for num1 in reversed(list1):\n",
    "    print ( num1 , end = ' ' )\n",
    "\n",
    "list1[::-1]"
   ]
  },
  {
   "cell_type": "markdown",
   "metadata": {},
   "source": [
    "2. while 循环\n",
    "```\n",
    "while 循环条件：\n",
    "    单个循环执行语句\n",
    "   （循环控制）\n",
    "```\n",
    "- for 循环主要用在迭代可迭代对象的情况。\n",
    "- while 循环主要用在需要满足一定条件为真，反复执行的情况。 （死循环+break 退出等情况。）\n",
    "- 部分情况下，for 循环和 while 循环可以互换使用。"
   ]
  },
  {
   "cell_type": "code",
   "execution_count": 32,
   "metadata": {},
   "outputs": [
    {
     "name": "stdout",
     "output_type": "stream",
     "text": [
      "5050\n"
     ]
    }
   ],
   "source": [
    "n=0\n",
    "sum=0\n",
    "\n",
    "while n<=100:\n",
    "    sum+=n\n",
    "    n+=1\n",
    "\n",
    "print(sum)"
   ]
  },
  {
   "cell_type": "code",
   "execution_count": 33,
   "metadata": {},
   "outputs": [
    {
     "name": "stdout",
     "output_type": "stream",
     "text": [
      "2500\n"
     ]
    }
   ],
   "source": [
    "n=0\n",
    "sum=0\n",
    "while n<=100:\n",
    "    if n%2 !=0:\n",
    "        sum+=n\n",
    "    else:\n",
    "        pass\n",
    "    n+=1\n",
    "\n",
    "print(sum)"
   ]
  },
  {
   "cell_type": "code",
   "execution_count": 35,
   "metadata": {},
   "outputs": [
    {
     "name": "stdout",
     "output_type": "stream",
     "text": [
      "55\n"
     ]
    }
   ],
   "source": [
    "n=0\n",
    "sum=0\n",
    "while True:\n",
    "    if n > 10:\n",
    "        break\n",
    "    sum+=n\n",
    "    n+=1\n",
    "print(sum)"
   ]
  },
  {
   "cell_type": "markdown",
   "metadata": {},
   "source": [
    "3. for … else ；while … else\n",
    "for 循环中的语句和普通的没有区别，else 中的语句会在循环正常执行完（即 for 不是通过 break 跳出而中断的）的情况下执行。"
   ]
  },
  {
   "cell_type": "code",
   "execution_count": 37,
   "metadata": {},
   "outputs": [
    {
     "name": "stdout",
     "output_type": "stream",
     "text": [
      "-1\n"
     ]
    }
   ],
   "source": [
    "#test=[1,3,4,5]\n",
    "test=[1,3,4,5,-1]\n",
    "for i in test:\n",
    "    if i < 0:\n",
    "        print(i)\n",
    "        break\n",
    "    elif i==0:\n",
    "        raise ValueError(\"This is zero\")\n",
    "else:\n",
    "    print(\"hello\")"
   ]
  },
  {
   "cell_type": "markdown",
   "metadata": {},
   "source": [
    "## 自定义函数语法\n",
    "```\n",
    "def 函数名(参数1，参数2....参数n):\n",
    "    函数体\n",
    "    return 语句\n",
    "```\n",
    "- 函数代码块以 def 关键词开头，后接函数标识符名称和圆括号()\n",
    "- 任何传入参数和自变量必须放在圆括号中间。圆括号之间可以用于定义参数\n",
    "- 函数的第一行语句可以选择性地使用文档字符串（用于存放函数说明）\n",
    "- 函数内容以冒号起始，并且缩进\n",
    "- return [表达式] 结束函数，选择性地返回一个值给调用方。不带表达式的 return 相当于返回 None。"
   ]
  },
  {
   "cell_type": "code",
   "execution_count": 39,
   "metadata": {},
   "outputs": [
    {
     "name": "stdout",
     "output_type": "stream",
     "text": [
      "良好\n"
     ]
    }
   ],
   "source": [
    "def panduan(results):\n",
    "    if results > 90 and results <=100:\n",
    "        print('优秀')\n",
    "    elif 90 >= results > 80:\n",
    "        print('良好')\n",
    "    elif 0<= results <= 60:\n",
    "        print ('不及格')\n",
    "    else :\n",
    "        raise TypeError(\"超出0~100范围\")\n",
    "\n",
    "panduan(results=90)"
   ]
  },
  {
   "cell_type": "code",
   "execution_count": 42,
   "metadata": {},
   "outputs": [
    {
     "name": "stdout",
     "output_type": "stream",
     "text": [
      "1\n",
      "Help on function my_abs in module __main__:\n",
      "\n",
      "my_abs(x)\n",
      "    这是一个求绝对值的函数\n",
      "    example:\n",
      "        >>> absResult=my_abs(-1)\n",
      "        >>> print(absResult)\n",
      "            1\n",
      "\n"
     ]
    }
   ],
   "source": [
    "def my_abs(x):\n",
    "    '''这是一个求绝对值的函数\n",
    "    example:\n",
    "        >>> absResult=my_abs(-1)\n",
    "        >>> print(absResult)\n",
    "            1\n",
    "    '''\n",
    "    if not isinstance(x, (int,float)):\n",
    "        raiseTypeError('不是一个数字')\n",
    "    if x>=0:\n",
    "        return x\n",
    "    else:\n",
    "        return -x\n",
    "\n",
    "absResult=my_abs(-1)\n",
    "print(absResult)\n",
    "\n",
    "help(my_abs)"
   ]
  },
  {
   "cell_type": "code",
   "execution_count": null,
   "metadata": {},
   "outputs": [],
   "source": [
    "#重复元素判定\n",
    "#以下方法可以检查给定列表是不是存在重复元素，它会使用 set() 函数来移除所有重复元素。\n",
    "\n",
    "def all_unique(lst):\n",
    "    return len(lst) == len(set(lst))\n",
    "\n",
    "\n",
    "x = [1,1,2,2,3,2,3,4,5,6]\n",
    "y = [1,2,3,4,5]\n",
    "all_unique(x) # False\n",
    "all_unique(y) # True"
   ]
  },
  {
   "cell_type": "code",
   "execution_count": null,
   "metadata": {},
   "outputs": [],
   "source": [
    "#字符元素组成判定\n",
    "#检查两个字符串的组成元素是不是一样的。\n",
    "\n",
    "from collections import Counter\n",
    "\n",
    "def anagram(first, second):\n",
    "    return Counter(first) == Counter(second)\n",
    "\n",
    "\n",
    "anagram(\"abcd3\", \"3acdb\") # True\n",
    "#Counter(\"aaabc\")"
   ]
  },
  {
   "cell_type": "code",
   "execution_count": null,
   "metadata": {},
   "outputs": [],
   "source": [
    "#列表的差\n",
    "#该方法将返回第一个列表的元素，其不在第二个列表内。如果同时要反馈第二个列表独有的元素，还需要加一句 set_b.difference(set_a)。\n",
    "\n",
    "def difference(a, b):\n",
    "    set_a = set(a)\n",
    "    set_b = set(b)\n",
    "    comparison = set_a.difference(set_b)\n",
    "    return list(comparison)\n",
    "\n",
    "\n",
    "difference([1,2,3], [1,2,4]) # [3]"
   ]
  },
  {
   "cell_type": "code",
   "execution_count": null,
   "metadata": {},
   "outputs": [],
   "source": [
    "#链式函数调用\n",
    "#你可以在一行代码内调用多个函数。\n",
    "\n",
    "def add(a, b):\n",
    "    return a + b\n",
    "\n",
    "def subtract(a, b):\n",
    "    return a - b\n",
    "\n",
    "a, b = 4, 5\n",
    "print((subtract if a > b else add)(a, b)) # 9 "
   ]
  },
  {
   "cell_type": "code",
   "execution_count": null,
   "metadata": {},
   "outputs": [],
   "source": [
    "#合并两个字典\n",
    "#下面的方法将用于合并两个字典。\n",
    "\n",
    "def merge_two_dicts(a, b):\n",
    "    c = a.copy()   # make a copy of a \n",
    "    c.update(b)    # modify keys and values of a with the>    \n",
    "    return c\n",
    "\n",
    "a = { 'x': 1, 'y': 2}\n",
    "b = { 'y': 3, 'z': 4}\n",
    "print(merge_two_dicts(a, b))\n",
    "\n",
    "\n",
    "#在 Python 3.5 或更高版本中，我们也可以用以下方式合并字典：\n",
    "def merge_dictionaries(a, b):\n",
    "    return {**a, **b}\n",
    "\n",
    "print(merge_dictionaries(a, b))"
   ]
  },
  {
   "cell_type": "markdown",
   "metadata": {},
   "source": [
    "## 生成器 generator\n",
    "同一时间将所有计算出来的大量结果集分配到内存当中，特别是结果集里还包含循环，这样会耗很大的资源。在 Python 中，这种一边循环一边计算的机制，称为生成器：generator。在调用生成器运行的过程中，每次遇到 yield 时函数会暂停并保存当前所有的运行信息，返回 yield 的值。并在下一次执行 next()方法时从当前位置继续运行。"
   ]
  },
  {
   "cell_type": "code",
   "execution_count": null,
   "metadata": {},
   "outputs": [],
   "source": [
    "def odd():\n",
    "    print ( 'step 1' )\n",
    "    yield ( 1 )\n",
    "    print ( 'step 2' )\n",
    "    yield ( 3 )\n",
    "    print ( 'step 3' )\n",
    "    yield ( 5 )\n",
    "\n",
    "o = odd()\n",
    "print( next( o ) )\n",
    "print( next( o ) )\n",
    "print( next( o ) )"
   ]
  },
  {
   "cell_type": "code",
   "execution_count": null,
   "metadata": {},
   "outputs": [],
   "source": [
    "# 计算斐波那契数列\n",
    "def fibon(n):\n",
    "    a = b = 1\n",
    "    for i in range(n):\n",
    "        yield a\n",
    "        a, b = b, a + b\n",
    "\n",
    "# 引用函数\n",
    "for x in fibon(30):\n",
    "    print(x , end = ' ')"
   ]
  },
  {
   "cell_type": "markdown",
   "metadata": {},
   "source": [
    "经典洗牌算法（KD：Knuth_Durstenfeld)"
   ]
  },
  {
   "cell_type": "code",
   "execution_count": null,
   "metadata": {},
   "outputs": [],
   "source": [
    "import random\n",
    " \n",
    "def swap(arr, i, j):\n",
    "    '''\n",
    "    交换两个值\n",
    "    '''\n",
    "    arr[i], arr[j] = arr[j], arr[i]\n",
    "\n",
    "def kd(arr):\n",
    "    '''\n",
    "    算法时间复杂度 O（n）\n",
    "    属于原地打乱顺序的一种，不需要额外开辟存储打乱后的数组的空间\n",
    "    '''\n",
    "    i = len(arr)\n",
    "    for i in range(i - 1, -1, -1):\n",
    "        swap(arr, i, random.randint(0, i))\n",
    "    return arr\n",
    "\n",
    "sorted_arr=list(range(10))\n",
    "#sorted_arr=list(range(10000))\n",
    "un_sorted=kd(sorted_arr)\n",
    "print(un_sorted)"
   ]
  },
  {
   "cell_type": "markdown",
   "metadata": {},
   "source": [
    "冒泡排序（Bubble Sort）也是一种简单直观的排序算法。它重复地走访过要排序的数列，一次比较两个元素，如果他们的顺序错误就把他们交换过来。走访数列的工作是重复地进行直到没有再需要交换，也就是说该数列已经排序完成。这个算法的名字由来是因为越小的元素会经由交换慢慢“浮”到数列的顶端。\n",
    "\n",
    "作为最简单的排序算法之一，冒泡排序给我的感觉就像 Abandon 在单词书里出现的感觉一样，每次都在第一页第一位，所以最熟悉。冒泡排序还有一种优化算法，就是立一个 flag，当在一趟序列遍历中元素没有发生交换，则证明该序列已经有序。但这种改进对于提升性能来说并没有什么太大作用。\n",
    "1. 算法步骤\n",
    "\n",
    "\t1. \n",
    "比较相邻的元素。如果第一个比第二个大，就交换他们两个。\n",
    "\t2. \n",
    "对每一对相邻元素作同样的工作，从开始第一对到结尾的最后一对。这步做完后，最后的元素会是最大的数。\n",
    "\t3. \n",
    "针对所有的元素重复以上的步骤，除了最后一个。\n",
    "\t4. \n",
    "持续每次对越来越少的元素重复上面的步骤，直到没有任何一对数字需要比较。\n",
    "\n"
   ]
  },
  {
   "cell_type": "code",
   "execution_count": null,
   "metadata": {},
   "outputs": [],
   "source": [
    "def bubble_sort(arr): \n",
    "    for i in range(len(arr) - 1): \n",
    "        # 记录最小数的索引 \n",
    "        minIndex = i \n",
    "        for j in range(i + 1, len(arr)): \n",
    "            if arr[j] < arr[minIndex]: \n",
    "                minIndex = j \n",
    "                # i 不是最小数时，将 i 和最小数进行交换 \n",
    "        if i != minIndex: \n",
    "            arr[i], arr[minIndex] = arr[minIndex], arr[i] \n",
    "    return arr\n",
    "\n",
    "un_sorted=tuple(un_sorted)\n",
    "bubble_sort(list(un_sorted))"
   ]
  },
  {
   "cell_type": "markdown",
   "metadata": {},
   "source": [
    "选择排序\n",
    "\n",
    "选择排序是一种简单直观的排序算法，无论什么数据进去都是 O(n²) 的时间复杂度。所以用到它的时候，数据规模越小越好。唯一的好处可能就是不占用额外的内存空间了吧。\n",
    "1. 算法步骤\n",
    "\t1. 首先在未排序序列中找到最小（大）元素，存放到排序序列的起始位置。\n",
    "\t2. 再从剩余未排序元素中继续寻找最小（大）元素，然后放到已排序序列的末尾。\n",
    "\t3. 重复第二步，直到所有元素均排序完毕。"
   ]
  },
  {
   "cell_type": "code",
   "execution_count": null,
   "metadata": {},
   "outputs": [],
   "source": [
    "def selection_sort(arr):\n",
    "    for i in range(len(arr) - 1):\n",
    "        # 记录最小数的索引\n",
    "        minIndex = i\n",
    "        for j in range(i + 1, len(arr)):\n",
    "            if arr[j] < arr[minIndex]:\n",
    "                minIndex = j\n",
    "             # i 不是最小数时，将 i 和最小数进行交换\n",
    "        if i != minIndex:\n",
    "            arr[i], arr[minIndex] = arr[minIndex], arr[i]\n",
    "    return arr\n",
    "\n",
    "print(un_sorted)\n",
    "selection_sort(list(un_sorted))"
   ]
  },
  {
   "cell_type": "code",
   "execution_count": null,
   "metadata": {},
   "outputs": [],
   "source": [
    "un_sortedList=list(un_sorted)\n",
    "un_sortedList.sort()\n",
    "print(un_sortedList)"
   ]
  },
  {
   "cell_type": "code",
   "execution_count": null,
   "metadata": {},
   "outputs": [],
   "source": [
    "strList=['bob','about','Zoo','Credit']\n",
    "\n",
    "strList.sort()\n",
    "print(strList)\n",
    "\n",
    "strList.sort(key=str.lower)\n",
    "print(strList)"
   ]
  },
  {
   "cell_type": "code",
   "execution_count": null,
   "metadata": {},
   "outputs": [],
   "source": [
    "somelist = [(1, 5, 8), (6, 2, 4), (9, 7, 5)]\n",
    "def takeSecond(elem):\n",
    "    return elem[1]\n",
    "\n",
    "somelist.sort(key=takeSecond)\n",
    "\n",
    "somelist.sort(key=lambda elem: elem[2])\n",
    "print(somelist)"
   ]
  },
  {
   "cell_type": "code",
   "execution_count": null,
   "metadata": {},
   "outputs": [],
   "source": [
    "from operator import itemgetter\n",
    "\n",
    "somelist.sort(key=itemgetter(0))\n",
    "print(somelist)\n",
    "\n",
    "somelist.sort(key=itemgetter(1))\n",
    "print(somelist)\n",
    "\n",
    "somelist.sort(key=itemgetter(2))\n",
    "print(somelist)"
   ]
  },
  {
   "cell_type": "code",
   "execution_count": null,
   "metadata": {},
   "outputs": [],
   "source": [
    "## 字符串倒序\n",
    "def reverse(array, i, j):\n",
    "    while i < j:\n",
    "        array[i], array[j] = array[j], array[i]\n",
    "        i += 1\n",
    "        j -= 1\n",
    "\n",
    "def reverse_words(string):\n",
    "    arr = string.strip().split()  # arr is list of words\n",
    "    n = len(arr)\n",
    "    reverse(arr, 0, n-1)\n",
    "\n",
    "    return \" \".join(arr)"
   ]
  },
  {
   "cell_type": "code",
   "execution_count": null,
   "metadata": {},
   "outputs": [],
   "source": [
    "# 检查密码是否符合要求，返回最少修改字符数\n",
    "\n",
    "def strong_password(n, password):\n",
    "    count_error = 0\n",
    "    # Return the minimum number of characters to make the password strong\n",
    "    if any(i.isdigit() for i in password) == False:\n",
    "        count_error = count_error + 1\n",
    "    if any(i.islower() for i in password) == False:\n",
    "        count_error = count_error + 1\n",
    "    if any(i.isupper() for i in password) == False:\n",
    "        count_error = count_error + 1\n",
    "    if any(i in '!@#$%^&*()-+' for i in password) == False:\n",
    "        count_error = count_error + 1\n",
    "    return max(count_error, 6 - n)\n",
    "\n",
    "strong_password(3,\"Ab1\")\n",
    "strong_password(11,\"#Algorithms\")"
   ]
  },
  {
   "cell_type": "markdown",
   "metadata": {},
   "source": [
    "### python \n",
    "\n",
    "优美胜于丑陋（Python 以编写优美的代码为目标）\n",
    "明了胜于晦涩（优美的代码应当是明了的，命名规范，风格相似）\n",
    "简洁胜于复杂（优美的代码应当是简洁的，不要有复杂的内部实现）\n",
    "复杂胜于凌乱（如果复杂不可避免，那代码间也不能有难懂的关系，要保持接口简洁）\n",
    "扁平胜于嵌套（优美的代码应当是扁平的，不能有太多的嵌套）\n",
    "间隔胜于紧凑（优美的代码有适当的间隔，不要奢望一行代码解决问题）\n",
    "可读性很重要（优美的代码是可读的）\n",
    "即便假借特例的实用性之名，也不可违背这些规则（这些规则至高无上）\n",
    " \n",
    "不要包容所有错误，除非你确定需要这样做（精准地捕获异常，不写 except:pass 风格的代码）\n",
    " \n",
    "当存在多种可能，不要尝试去猜测\n",
    "而是尽量找一种，最好是唯一一种明显的解决方案（如果不确定，就用穷举法）\n",
    "虽然这并不容易，因为你不是 Python 之父（这里的 Dutch 是指 Guido ）\n",
    " \n",
    "做也许好过不做，但不假思索就动手还不如不做（动手之前要细思量）\n",
    " \n",
    "如果你无法向人描述你的方案，那肯定不是一个好方案；反之亦然（方案测评标准）\n",
    " \n",
    "命名空间是一种绝妙的理念，我们应当多加利用（倡导与号召）"
   ]
  },
  {
   "cell_type": "code",
   "execution_count": null,
   "metadata": {},
   "outputs": [],
   "source": [
    "import this"
   ]
  }
 ],
 "metadata": {
  "kernelspec": {
   "display_name": "Python 3",
   "language": "python",
   "name": "python3"
  },
  "language_info": {
   "codemirror_mode": {
    "name": "ipython",
    "version": 3
   },
   "file_extension": ".py",
   "mimetype": "text/x-python",
   "name": "python",
   "nbconvert_exporter": "python",
   "pygments_lexer": "ipython3",
   "version": "3.7.3"
  }
 },
 "nbformat": 4,
 "nbformat_minor": 2
}
