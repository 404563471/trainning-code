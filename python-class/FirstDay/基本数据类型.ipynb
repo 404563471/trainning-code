{
 "cells": [
  {
   "cell_type": "markdown",
   "metadata": {},
   "source": [
    "# Python3 基本数据类型\n",
    "\n",
    "Python 中的变量不需要声明。每个变量在使用前都必须赋值，变量赋值以后该变量才会被创建。\n",
    "\n",
    "在 Python 中，变量就是变量，它没有类型，我们所说的\"类型\"是变量所指的内存中对象的类型。\n",
    "\n",
    "等号（=）用来给变量赋值。\n",
    "\n",
    "等号（=）运算符左边是一个变量名,等号（=）运算符右边是存储在变量中的值。例如："
   ]
  },
  {
   "cell_type": "code",
   "execution_count": 2,
   "metadata": {},
   "outputs": [
    {
     "name": "stdout",
     "output_type": "stream",
     "text": [
      "2\n"
     ]
    }
   ],
   "source": [
    "a = 2\n",
    "b = 'hello'\n",
    "print(a)"
   ]
  },
  {
   "cell_type": "markdown",
   "metadata": {},
   "source": [
    "Python3 中有六个标准的数据类型：\n",
    "\n",
    "Number（数字）\n",
    "String（字符串）\n",
    "List（列表）\n",
    "Tuple（元组）\n",
    "Set（集合）\n",
    "Dictionary（字典）\n",
    "\n",
    "Python3 的六个标准数据类型中：\n",
    "\n",
    "不可变数据（3 个）：Number（数字）、String（字符串）、Tuple（元组）；\n",
    "\n",
    "可变数据（3 个）：List（列表）、Dictionary（字典）、Set（集合）。"
   ]
  },
  {
   "cell_type": "markdown",
   "metadata": {},
   "source": [
    "# 一、Number\n",
    "\n",
    "a = 2.5\n",
    "\n",
    "\n",
    "Python3 支持 int、float、bool、complex（复数）。\n",
    "\n",
    "在Python 3里，只有一种整数类型 int，表示为长整型，没有 python2 中的 Long。\n",
    "\n",
    "像大多数语言一样，数值类型的赋值和计算都是很直观的。\n",
    "\n",
    "内置的 type() 函数可以用来查询变量所指的对象类型。"
   ]
  },
  {
   "cell_type": "code",
   "execution_count": 5,
   "metadata": {},
   "outputs": [
    {
     "data": {
      "text/plain": [
       "str"
      ]
     },
     "execution_count": 5,
     "metadata": {},
     "output_type": "execute_result"
    }
   ],
   "source": [
    "a = 'aaa'\n",
    "type(a)\n",
    "\n",
    "a,b = 2,2.5"
   ]
  },
  {
   "cell_type": "code",
   "execution_count": 6,
   "metadata": {},
   "outputs": [
    {
     "name": "stdout",
     "output_type": "stream",
     "text": [
      "<class 'int'> <class 'float'> <class 'bool'> <class 'complex'>\n"
     ]
    }
   ],
   "source": [
    "a, b, c, d = 20, 5.5, True, 4+3j\n",
    "print(type(a), type(b), type(c), type(d))"
   ]
  },
  {
   "cell_type": "markdown",
   "metadata": {},
   "source": [
    "# 二、String\n",
    "\n",
    "Python中的字符串用单引号 ' 或双引号 \" 括起来，同时使用反斜杠 \\ 转义特殊字符。\n",
    "\n",
    "C++\n",
    "char\n",
    "\n",
    "python\n",
    "string\n",
    "\n",
    "例："
   ]
  },
  {
   "cell_type": "code",
   "execution_count": 9,
   "metadata": {},
   "outputs": [
    {
     "name": "stdout",
     "output_type": "stream",
     "text": [
      "<class 'str'>\n"
     ]
    }
   ],
   "source": [
    "a = \"h\"\n",
    "b = \"\\n\"\n",
    "print(type(a))"
   ]
  },
  {
   "cell_type": "markdown",
   "metadata": {},
   "source": [
    "# 三、list\n",
    "\n",
    "array\n",
    "\n",
    "序列是Python中最基本的数据结构。序列中的每个元素都分配一个数字 - 它的位置，或索引，第一个索引是0，第二个索引是1，依此类推。\n",
    "\n",
    "Python有6个序列的内置类型，但最常见的是列表和元组。\n",
    "\n",
    "序列都可以进行的操作包括索引，切片，加，乘，检查成员。\n",
    "\n",
    "列表是最常用的Python数据类型，它可以作为一个方括号内的逗号分隔值出现。\n",
    "\n",
    "列表的数据项不需要具有相同的类型\n",
    "\n",
    "创建一个列表，只要把逗号分隔的不同的数据项使用方括号括起来即可。如下所示：\n",
    "\n",
    "list1 = ['Google', 'Baidu', 1997, 2000];\n",
    "list2 = [1, 2, 3, 4, 5 ];\n",
    "list3 = [\"a\", \"b\", \"c\", \"d\"];"
   ]
  },
  {
   "cell_type": "code",
   "execution_count": 11,
   "metadata": {},
   "outputs": [
    {
     "name": "stdout",
     "output_type": "stream",
     "text": [
      "['Google', 'Baidu', 1997, 2000]\n"
     ]
    }
   ],
   "source": [
    "list1 = ['Google', 'Baidu', 1997, 2000]\n",
    "list2 = [1, 2, 3, 4, 5 ]\n",
    "list3 = [\"a\", \"b\", \"c\", \"d\"]\n",
    "print(list1)"
   ]
  },
  {
   "cell_type": "markdown",
   "metadata": {},
   "source": [
    "访问列表中的值\n",
    "\n",
    "使用下标索引来访问列表中的值，同样你也可以使用方括号的形式截取字符，如下所示：\n",
    "\n",
    "list1 = ['Google', 'Baidu', 1997, 2000];\n",
    "list2 = [1, 2, 3, 4, 5, 6, 7 ];\n",
    " \n",
    "print (\"list1[0]: \", list1[0])\n",
    "print (\"list2[1:5]: \", list2[1:5])"
   ]
  },
  {
   "cell_type": "code",
   "execution_count": 19,
   "metadata": {},
   "outputs": [
    {
     "name": "stdout",
     "output_type": "stream",
     "text": [
      "<class 'str'>\n",
      "['Baidu', 1997]\n"
     ]
    }
   ],
   "source": [
    "list1 = ['Google', 'Baidu', 1997, 2000]\n",
    "list2 = [1, 2, 3, 4, 5, 6, 7 ]\n",
    "\n",
    "print(type(list1[0]))\n",
    "\n",
    "print(list1[1:3])\n",
    "\n",
    "# 左闭合右开\n",
    "#[)"
   ]
  },
  {
   "cell_type": "markdown",
   "metadata": {},
   "source": [
    "删除列表元素\n",
    "\n",
    "可以使用 del 语句来删除列表的的元素，如下实例\n",
    "\n",
    "list = ['Google', 'Baidu', 1997, 2000]\n",
    " \n",
    "print (\"原始列表 : \", list)\n",
    "del list[2]\n",
    "print (\"删除第三个元素 : \", list)"
   ]
  },
  {
   "cell_type": "code",
   "execution_count": 20,
   "metadata": {},
   "outputs": [
    {
     "name": "stdout",
     "output_type": "stream",
     "text": [
      "原始列表 :  ['Google', 'Baidu', 1997, 2000]\n",
      "删除第三个元素 :  ['Google', 'Baidu', 2000]\n"
     ]
    }
   ],
   "source": [
    "list = ['Google', 'Baidu', 1997, 2000]\n",
    "\n",
    "print (\"原始列表 : \", list)\n",
    "del list[2]\n",
    "print (\"删除第三个元素 : \", list)"
   ]
  },
  {
   "cell_type": "markdown",
   "metadata": {},
   "source": [
    "Python列表截取与拼接\n",
    "\n",
    "Python的列表截取与字符串操作类型，如下所示：\n",
    "\n",
    "L=['Google', 'Baidu', 'Taobao']\n",
    "L[2]\n",
    "'Taobao'\n",
    "\n",
    "L[-2]\n",
    "'Baidu'\n",
    "\n",
    "L[1:]\n",
    "['Baidu', 'Taobao']"
   ]
  },
  {
   "cell_type": "code",
   "execution_count": 23,
   "metadata": {},
   "outputs": [
    {
     "name": "stdout",
     "output_type": "stream",
     "text": [
      "[1, 2, 3, 4]\n",
      "[1, 2, 1, 2, 1, 2]\n"
     ]
    }
   ],
   "source": [
    "a = [1,2]\n",
    "b = [3,4]\n",
    "c = a+b\n",
    "print(c)\n",
    "\n",
    "d = a*3\n",
    "print(d)"
   ]
  },
  {
   "cell_type": "markdown",
   "metadata": {},
   "source": [
    "嵌套列表\n",
    "\n",
    "使用嵌套列表即在列表里创建其它列表，例如：\n",
    "\n",
    "a = ['a', 'b', 'c']\n",
    "n = [1, 2, 3]\n",
    "x = [a, n]"
   ]
  },
  {
   "cell_type": "code",
   "execution_count": 29,
   "metadata": {},
   "outputs": [
    {
     "name": "stdout",
     "output_type": "stream",
     "text": [
      "2\n",
      "1\n",
      "['aaa']\n"
     ]
    }
   ],
   "source": [
    "a = ['a', 'b', 'c']\n",
    "n = [1, 2, 3]\n",
    "\n",
    "x = [a, n]\n",
    "print(len(x))\n",
    "\n",
    "print(min(n))\n",
    "\n",
    "c = 'aaa'\n",
    "d = c.split()\n",
    "print(d)"
   ]
  },
  {
   "cell_type": "markdown",
   "metadata": {},
   "source": [
    "内置方法：\n",
    "1、len(list)\n",
    "列表元素个数\n",
    "\n",
    "2、max(list)\n",
    "返回列表元素最大值\n",
    "\n",
    "3、min(list)\n",
    "返回列表元素最小值\n",
    "\n",
    "4、list(seq)\n",
    "将元组转换为列表\n",
    "Python包含以下方法:\n",
    "\n",
    "列表方法：\n",
    "1、list.append(obj)\n",
    "在列表末尾添加新的对象\n",
    "\n",
    "2、list.count(obj)\n",
    "统计某个元素在列表中出现的次数\n",
    "\n",
    "3、list.extend(seq)\n",
    "在列表末尾一次性追加另一个序列中的多个值（用新列表扩展原来的列表）\n",
    "\n",
    "4、list.index(obj)\n",
    "从列表中找出某个值第一个匹配项的索引位置\n",
    "\n",
    "5、list.insert(index, obj)\n",
    "将对象插入列表\n",
    "\n",
    "6、list.pop([index=-1])\n",
    "移除列表中的一个元素（默认最后一个元素），并且返回该元素的值\n",
    "\n",
    "7、list.remove(obj)\n",
    "移除列表中某个值的第一个匹配项\n",
    "\n",
    "8、list.reverse()\n",
    "反向列表中元素\n",
    "\n",
    "9、list.sort( key=None, reverse=False)\n",
    "对原列表进行排序\n",
    "\n",
    "10、list.clear()\n",
    "清空列表\n",
    "\n",
    "11、list.copy()\n",
    "复制列表"
   ]
  },
  {
   "cell_type": "code",
   "execution_count": 38,
   "metadata": {},
   "outputs": [
    {
     "name": "stdout",
     "output_type": "stream",
     "text": [
      "[3, 2, 1]\n"
     ]
    }
   ],
   "source": [
    "a = [1,2,3]\n",
    "\n",
    "a.reverse()\n",
    "\n",
    "print(a)"
   ]
  },
  {
   "cell_type": "markdown",
   "metadata": {},
   "source": [
    "# 四、tuple(不可修改)\n",
    "\n",
    "Python 的元组与列表类似，不同之处在于元组的元素不能修改。\n",
    "\n",
    "元组使用小括号，列表使用方括号。\n",
    "\n",
    "元组创建很简单，只需要在括号中添加元素，并使用逗号隔开即可。\n",
    "\n",
    "tup1 = ('Google', 'Baidu', 1997, 2000)\n",
    "tup2 = (1, 2, 3, 4, 5 )\n",
    "tup3 = \"a\", \"b\", \"c\", \"d\"\n",
    "\n",
    "元组中只包含一个元素时，需要在元素后面添加逗号，否则括号会被当作运算符使用：\n",
    "\n",
    "tup1 = (50)\n",
    "type(tup1)     # 不加逗号，类型为整型\n",
    "<class 'int'>\n",
    " \n",
    "tup1 = (50,)\n",
    "type(tup1)\n",
    "<class 'tuple'>"
   ]
  },
  {
   "cell_type": "code",
   "execution_count": 40,
   "metadata": {},
   "outputs": [
    {
     "data": {
      "text/plain": [
       "tuple"
      ]
     },
     "execution_count": 40,
     "metadata": {},
     "output_type": "execute_result"
    }
   ],
   "source": [
    "tup1 = (50)\n",
    "\n",
    "type(tup1)\n",
    "\n",
    "tup1 = (50,)\n",
    "\n",
    "type(tup1)"
   ]
  },
  {
   "cell_type": "markdown",
   "metadata": {},
   "source": [
    "元组可以使用下标索引来访问元组中的值，如下实例:\n",
    "\n",
    "tup1 = ('Google', 'Baidu', 1997, 2000)\n",
    "tup2 = (1, 2, 3, 4, 5, 6, 7 )\n",
    " \n",
    "print (\"tup1[0]: \", tup1[0])\n",
    "print (\"tup2[1:5]: \", tup2[1:5])"
   ]
  },
  {
   "cell_type": "code",
   "execution_count": 41,
   "metadata": {},
   "outputs": [
    {
     "name": "stdout",
     "output_type": "stream",
     "text": [
      "tup1[0]:  Google\n",
      "tup2[1:5]:  (2, 3, 4, 5)\n"
     ]
    }
   ],
   "source": [
    "tup1 = ('Google', 'Baidu', 1997, 2000)\n",
    "tup2 = (1, 2, 3, 4, 5, 6, 7 )\n",
    " \n",
    "print (\"tup1[0]: \", tup1[0])\n",
    "print (\"tup2[1:5]: \", tup2[1:5])"
   ]
  },
  {
   "cell_type": "markdown",
   "metadata": {},
   "source": [
    "修改元组\n",
    "\n",
    "元组中的元素值是不允许修改的，但我们可以对元组进行连接组合，如下实例:\n",
    "\n",
    "tup1 = (12, 34.56)\n",
    "tup2 = ('abc', 'xyz')\n",
    " \n",
    "以下修改元组元素操作是非法的。\n",
    "tup1[0] = 100\n",
    " \n",
    "创建一个新的元组\n",
    "tup3 = tup1 + tup2\n",
    "print (tup3)"
   ]
  },
  {
   "cell_type": "code",
   "execution_count": 43,
   "metadata": {},
   "outputs": [
    {
     "name": "stdout",
     "output_type": "stream",
     "text": [
      "(12, 34.56, 'abc', 'xyz')\n"
     ]
    }
   ],
   "source": [
    "tup1 = (12, 34.56)\n",
    "tup2 = ('abc', 'xyz')\n",
    "\n",
    "tup3 = tup1 + tup2\n",
    "print(tup3)"
   ]
  },
  {
   "cell_type": "markdown",
   "metadata": {},
   "source": [
    "删除元组\n",
    "\n",
    "元组中的元素值是不允许删除的，但我们可以使用del语句来删除整个元组，如下实例:\n",
    "\n",
    "tup = ('Google', 'Baidu', 1997, 2000)\n",
    " \n",
    "print (tup)\n",
    "del tup\n",
    "print (\"删除后的元组 tup : \")\n",
    "print (tup)"
   ]
  },
  {
   "cell_type": "code",
   "execution_count": 44,
   "metadata": {},
   "outputs": [
    {
     "name": "stdout",
     "output_type": "stream",
     "text": [
      "('Google', 'Baidu', 1997, 2000)\n",
      "删除后的元组 tup : \n"
     ]
    },
    {
     "ename": "NameError",
     "evalue": "name 'tup' is not defined",
     "output_type": "error",
     "traceback": [
      "\u001b[1;31m---------------------------------------------------------------------------\u001b[0m",
      "\u001b[1;31mNameError\u001b[0m                                 Traceback (most recent call last)",
      "\u001b[1;32m<ipython-input-44-44fdec7dd5d1>\u001b[0m in \u001b[0;36m<module>\u001b[1;34m\u001b[0m\n\u001b[0;32m      4\u001b[0m \u001b[1;32mdel\u001b[0m \u001b[0mtup\u001b[0m\u001b[1;33m\u001b[0m\u001b[1;33m\u001b[0m\u001b[0m\n\u001b[0;32m      5\u001b[0m \u001b[0mprint\u001b[0m \u001b[1;33m(\u001b[0m\u001b[1;34m\"删除后的元组 tup : \"\u001b[0m\u001b[1;33m)\u001b[0m\u001b[1;33m\u001b[0m\u001b[1;33m\u001b[0m\u001b[0m\n\u001b[1;32m----> 6\u001b[1;33m \u001b[0mprint\u001b[0m \u001b[1;33m(\u001b[0m\u001b[0mtup\u001b[0m\u001b[1;33m)\u001b[0m\u001b[1;33m\u001b[0m\u001b[1;33m\u001b[0m\u001b[0m\n\u001b[0m",
      "\u001b[1;31mNameError\u001b[0m: name 'tup' is not defined"
     ]
    }
   ],
   "source": [
    "tup = ('Google', 'Baidu', 1997, 2000)\n",
    "\n",
    "print (tup)\n",
    "del tup\n",
    "print (\"删除后的元组 tup : \")\n",
    "print (tup)"
   ]
  },
  {
   "cell_type": "markdown",
   "metadata": {},
   "source": [
    "元组内置函数\n",
    "\n",
    "Python元组包含了以下内置函数\n",
    "\n",
    "len(tuple)\n",
    "计算元组元素个数。\n",
    "\n",
    "max(tuple)\n",
    "返回元组中元素最大值。\n",
    "\n",
    "min(tuple)\n",
    "返回元组中元素最小值。\n",
    "\n",
    "tuple(iterable)\n",
    "将可迭代系列转换为元组。"
   ]
  },
  {
   "cell_type": "code",
   "execution_count": 45,
   "metadata": {},
   "outputs": [
    {
     "name": "stdout",
     "output_type": "stream",
     "text": [
      "(1, 2, 3)\n"
     ]
    }
   ],
   "source": [
    "a = [1,2,3]\n",
    "b = tuple(a)\n",
    "\n",
    "print(b)"
   ]
  },
  {
   "cell_type": "markdown",
   "metadata": {},
   "source": [
    "# 五、dict(哈希表  键值对应)  O（1） list O（n）\n",
    "\n",
    "字典是另一种可变容器模型，且可存储任意类型对象。\n",
    "\n",
    "字典的每个键值(key=>value)对用冒号(:)分割，每个对之间用逗号(,)分割，整个字典包括在花括号({})中 ,格式如下所示：\n",
    "\n",
    "d = {key1 : value1, key2 : value2 }\n",
    "\n",
    "键必须是唯一的，但值则不必。\n",
    "\n",
    "值可以取任何数据类型，但键必须是不可变的，如字符串，数字或元组。\n",
    "\n",
    "一个简单的字典实例：\n",
    "\n",
    "dict = {'Alice': '2341', 'Beth': '9102', 'Cecil': '3258'}\n",
    "\n",
    "也可如此创建字典：\n",
    "\n",
    "dict1 = { 'abc': 456 }\n",
    "dict2 = { 'abc': 123, 98.6: 37 }"
   ]
  },
  {
   "cell_type": "code",
   "execution_count": 46,
   "metadata": {},
   "outputs": [
    {
     "name": "stdout",
     "output_type": "stream",
     "text": [
      "{'Alice': '2341', 'Beth': '9102', 'Cecil': '3258'}\n"
     ]
    }
   ],
   "source": [
    "dict = {'Alice': '2341', 'Beth': '9102', 'Cecil': '3258'}\n",
    "\n",
    "print(dict)"
   ]
  },
  {
   "cell_type": "markdown",
   "metadata": {},
   "source": [
    "访问字典里的值\n",
    "\n",
    "把相应的键放入到方括号中，如下实例:\n",
    "\n",
    "dict = {'Name': 'BCC', 'Age': 7, 'Class': 'First'}\n",
    " \n",
    "print (\"dict['Name']: \", dict['Name'])\n",
    "print (\"dict['Age']: \", dict['Age'])"
   ]
  },
  {
   "cell_type": "code",
   "execution_count": 48,
   "metadata": {},
   "outputs": [
    {
     "name": "stdout",
     "output_type": "stream",
     "text": [
      "7\n"
     ]
    }
   ],
   "source": [
    "dict = {'Name': 'BCC', 'Age': 7, 'Class': 'First'}\n",
    "\n",
    "print(dict['Age'])"
   ]
  },
  {
   "cell_type": "markdown",
   "metadata": {},
   "source": [
    "修改字典\n",
    "\n",
    "向字典添加新内容的方法是增加新的键/值对，修改或删除已有键/值对如下实例:\n",
    "\n",
    "dict = {'Name': 'BCC', 'Age': 7, 'Class': 'First'}\n",
    " \n",
    "dict['Age'] = 8\n",
    "dict['School'] = \"BCC\"\n",
    " \n",
    " \n",
    "print (\"dict['Age']: \", dict['Age'])\n",
    "print (\"dict['School']: \", dict['School'])"
   ]
  },
  {
   "cell_type": "code",
   "execution_count": 49,
   "metadata": {},
   "outputs": [
    {
     "name": "stdout",
     "output_type": "stream",
     "text": [
      "{'Name': 'BCC', 'Age': 8, 'Class': 'First'}\n"
     ]
    }
   ],
   "source": [
    "dict = {'Name': 'BCC', 'Age': 7, 'Class': 'First'}\n",
    "\n",
    "dict['Age'] = 8\n",
    "\n",
    "print(dict)"
   ]
  },
  {
   "cell_type": "markdown",
   "metadata": {},
   "source": [
    "删除字典元素\n",
    "\n",
    "能删单一的元素也能清空字典，清空只需一项操作。\n",
    "\n",
    "显示删除一个字典用del命令，如下实例：\n",
    "\n",
    "dict = {'Name': 'Runoob', 'Age': 7, 'Class': 'First'}\n",
    " \n",
    "del dict['Name'] # 删除键 'Name'\n",
    "dict.clear()     # 清空字典\n",
    "\n",
    " \n",
    "print (\"dict['Age']: \", dict['Age'])\n",
    "print (\"dict['School']: \", dict['School'])"
   ]
  },
  {
   "cell_type": "code",
   "execution_count": 54,
   "metadata": {},
   "outputs": [
    {
     "data": {
      "text/plain": [
       "type"
      ]
     },
     "execution_count": 54,
     "metadata": {},
     "output_type": "execute_result"
    }
   ],
   "source": [
    "dict = {'Name': 'Runoob', 'Age': 7, 'Class': 'First'}\n",
    "\n",
    "del dict\n",
    "\n",
    "type(dict)\n"
   ]
  },
  {
   "cell_type": "markdown",
   "metadata": {},
   "source": [
    "字典键的特性\n",
    "\n",
    "字典值可以是任何的 python 对象，既可以是标准的对象，也可以是用户定义的，但键不行。\n",
    "\n",
    "两个重要的点需要记住：\n",
    "\n",
    "1）不允许同一个键出现两次。创建时如果同一个键被赋值两次，后一个值会被记住，如下实例：\n",
    "\n",
    "dict = {'Name': 'Runoob', 'Age': 7, 'Name': '小菜鸟'}\n",
    " \n",
    "print (\"dict['Name']: \", dict['Name'])\n",
    "\n",
    "2）键必须不可变，所以可以用数字，字符串或元组充当，而用列表就不行，如下实例：\n",
    "\n",
    "dict = {['Name']: 'Runoob', 'Age': 7}\n",
    " \n",
    "print (\"dict['Name']: \", dict['Name'])\n",
    "\n",
    "#键是没有重复的，值是可以有重复的"
   ]
  },
  {
   "cell_type": "code",
   "execution_count": 59,
   "metadata": {},
   "outputs": [
    {
     "name": "stdout",
     "output_type": "stream",
     "text": [
      "dict_keys(['Name', 'Age', 'num'])\n"
     ]
    }
   ],
   "source": [
    "dict = {'Name': 'Runoob', 'Age': 7, 'num': 7}\n",
    "\n",
    "a = 'Name11'\n",
    "print(dict.keys())"
   ]
  },
  {
   "cell_type": "markdown",
   "metadata": {},
   "source": [
    "字典内置函数&方法\n",
    "\n",
    "Python字典包含了以下内置函数：\n",
    "\n",
    "len(dict)\n",
    "计算字典元素个数，即键的总数。\n",
    "\n",
    "str(dict)\n",
    "输出字典，以可打印的字符串表示。\n",
    "\n",
    "type(variable)\n",
    "返回输入的变量类型，如果变量是字典就返回字典类型。\n",
    "\n",
    "Python字典包含了以下内置方法：\n",
    "\n",
    "1\tradiansdict.clear()\n",
    "删除字典内所有元素\n",
    "\n",
    "2\tradiansdict.copy()\n",
    "返回一个字典的浅复制\n",
    "\n",
    "3\tradiansdict.fromkeys()\n",
    "创建一个新字典，以序列seq中元素做字典的键，val为字典所有键对应的初始值\n",
    "\n",
    "4\tradiansdict.get(key, default=None)\n",
    "返回指定键的值，如果值不在字典中返回default值\n",
    "\n",
    "5\tkey in dict\n",
    "如果键在字典dict里返回true，否则返回false\n",
    "\n",
    "6\tradiansdict.items()\n",
    "以列表返回可遍历的(键, 值) 元组数组\n",
    "\n",
    "7\tradiansdict.keys()\n",
    "返回一个迭代器，可以使用 list() 来转换为列表\n",
    "\n",
    "8\tradiansdict.setdefault(key, default=None)\n",
    "和get()类似, 但如果键不存在于字典中，将会添加键并将值设为default\n",
    "\n",
    "9\tradiansdict.update(dict2)\n",
    "把字典dict2的键/值对更新到dict里\n",
    "\n",
    "10\tradiansdict.values()\n",
    "返回一个迭代器，可以使用 list() 来转换为列表\n",
    "\n",
    "11\tpop(key[,default])\n",
    "删除字典给定键 key 所对应的值，返回值为被删除的值。key值必须给出。 否则，返回default值。\n",
    "\n",
    "12\tpopitem()\n",
    "随机返回并删除字典中的最后一对键和值。"
   ]
  },
  {
   "cell_type": "code",
   "execution_count": null,
   "metadata": {},
   "outputs": [],
   "source": []
  },
  {
   "cell_type": "markdown",
   "metadata": {},
   "source": [
    "# 六、set(没有重复的数据结构)\n",
    "\n",
    "集合（set）是一个无序的不重复元素序列。\n",
    "\n",
    "可以使用大括号 { } 或者 set() 函数创建集合，注意：创建一个空集合必须用 set() 而不是 { }，因为 { } 是用来创建一个空字典。\n",
    "\n",
    "创建格式：\n",
    "\n",
    "parame = {value01,value02,...}\n",
    "或者\n",
    "set(value)\n",
    "\n",
    "示例：\n",
    "\n",
    "basket = {'apple', 'orange', 'apple', 'pear', 'orange', 'banana'}\n",
    "print(basket) "
   ]
  },
  {
   "cell_type": "code",
   "execution_count": 64,
   "metadata": {},
   "outputs": [
    {
     "name": "stdout",
     "output_type": "stream",
     "text": [
      "<class 'set'>\n"
     ]
    }
   ],
   "source": [
    "basket = {'apple', 'orange', 'apple', 'pear', 'orange', 'banana'}\n",
    "\n",
    "a = set((1,1,2,3,4))\n",
    "\n",
    "print(type(a))"
   ]
  },
  {
   "cell_type": "markdown",
   "metadata": {},
   "source": [
    "集合的基本操作\n",
    "\n",
    "1、添加元素\n",
    "\n",
    "thisset = set((\"Google\", \"BCC\", \"Taobao\"))\n",
    "thisset.add(\"Facebook\")\n",
    "\n",
    "还有一个方法，也可以添加元素，且参数可以是列表，元组，字典等，语法格式如下：\n",
    "\n",
    "thisset = set((\"Google\", \"BCC\", \"Taobao\"))\n",
    "thisset.update({1,3})\n",
    "print(thisset)\n",
    "{1, 3, 'Google', 'Taobao', 'BCCb'}\n",
    "\n",
    "thisset.update([1,4],[5,6])  \n",
    "print(thisset)\n",
    "{1, 3, 4, 5, 6, 'Google', 'Taobao', 'BCC'}\n",
    "\n",
    "2、移除元素\n",
    "\n",
    "将元素从集合中移除，如果元素不存在，则会发生错误。\n",
    "\n",
    "thisset = set((\"Google\", \"BCC\", \"Taobao\"))\n",
    "thisset.remove(\"Taobao\")\n",
    "print(thisset)\n",
    "{'Google', 'BCC'}\n",
    "\n",
    "3、计算集合元素个数\n",
    "\n",
    "len(s)\n",
    "\n",
    "4、清空集合\n",
    "\n",
    "s.clear()\n",
    "\n",
    "5、判断元素是否在集合中存在\n",
    "\n",
    "x in s\n",
    "\n",
    "判断元素 x 是否在集合 s 中，存在返回 True，不存在返回 False。"
   ]
  },
  {
   "cell_type": "code",
   "execution_count": 65,
   "metadata": {},
   "outputs": [
    {
     "name": "stdout",
     "output_type": "stream",
     "text": [
      "{'Taobao', 'BCC', 'Facebook', 'Google'}\n"
     ]
    }
   ],
   "source": [
    "thisset = set((\"Google\", \"BCC\", \"Taobao\"))\n",
    "\n",
    "thisset.add(\"Facebook\")\n",
    "\n",
    "print(thisset)"
   ]
  },
  {
   "cell_type": "markdown",
   "metadata": {},
   "source": [
    "集合内置方法完整列表\n",
    "\n",
    "add()\t为集合添加元素\n",
    "\n",
    "clear()\t移除集合中的所有元素\n",
    "\n",
    "copy()\t拷贝一个集合\n",
    "\n",
    "difference()\t返回多个集合的差集\n",
    "\n",
    "difference_update()\t移除集合中的元素，该元素在指定的集合也存在。\n",
    "\n",
    "discard()\t删除集合中指定的元素\n",
    "\n",
    "intersection()\t返回集合的交集\n",
    "\n",
    "intersection_update()\t返回集合的交集。\n",
    "\n",
    "isdisjoint()\t判断两个集合是否包含相同的元素，如果没有返回 True，否则返回 False。\n",
    "\n",
    "issubset()\t判断指定集合是否为该方法参数集合的子集。\n",
    "\n",
    "issuperset()\t判断该方法的参数集合是否为指定集合的子集\n",
    "\n",
    "pop()\t随机移除元素\n",
    "\n",
    "remove()\t移除指定元素\n",
    "\n",
    "symmetric_difference()\t返回两个集合中不重复的元素集合。\n",
    "\n",
    "symmetric_difference_update()\t移除当前集合中在另外一个指定集合相同的元素，并将另外一个指定集合中不同的元素插入到当前集合中。\n",
    "\n",
    "union()\t返回两个集合的并集\n",
    "\n",
    "update()\t给集合添加元素\n",
    "\n",
    "\n",
    "# 程序 = 数据结构 + 算法"
   ]
  },
  {
   "cell_type": "code",
   "execution_count": null,
   "metadata": {},
   "outputs": [],
   "source": []
  }
 ],
 "metadata": {
  "kernelspec": {
   "display_name": "Python 3",
   "language": "python",
   "name": "python3"
  },
  "language_info": {
   "codemirror_mode": {
    "name": "ipython",
    "version": 3
   },
   "file_extension": ".py",
   "mimetype": "text/x-python",
   "name": "python",
   "nbconvert_exporter": "python",
   "pygments_lexer": "ipython3",
   "version": "3.7.3"
  }
 },
 "nbformat": 4,
 "nbformat_minor": 2
}
