{
 "cells": [
  {
   "cell_type": "markdown",
   "metadata": {},
   "source": [
    "# 一、Python支持的平台\n",
    "\n",
    "Python 可应用于多平台包括 Windows、Linux 和 Mac OS X。\n",
    "\n",
    "支持平台如下：\n",
    "    Unix (Solaris, Linux, FreeBSD, AIX, HP/UX, SunOS, IRIX, 等等。)\n",
    "    Win 9x/NT/2000\n",
    "    Macintosh (Intel, PPC, 68K)\n",
    "    OS/2\n",
    "    DOS (多个DOS版本)\n",
    "    PalmOS\n",
    "    Nokia 移动手机\n",
    "    Windows CE\n",
    "    Acorn/RISC OS\n",
    "    BeOS\n",
    "    Amiga\n",
    "    VMS/OpenVMS\n",
    "    QNX\n",
    "    VxWorks\n",
    "    Psion\n",
    "    Python 同样可以移植到 Java 和 .NET 虚拟机上。"
   ]
  },
  {
   "cell_type": "code",
   "execution_count": 1,
   "metadata": {},
   "outputs": [
    {
     "name": "stdout",
     "output_type": "stream",
     "text": [
      "2\n"
     ]
    }
   ],
   "source": [
    "a = 2\n",
    "print(a)\n",
    "\n",
    "print = 3"
   ]
  },
  {
   "cell_type": "markdown",
   "metadata": {},
   "source": [
    "# 二、Python3 下载\n",
    "\n",
    "Python3 最新源码，二进制文档，新闻资讯等可以在 Python 的官网查看到：\n",
    "\n",
    "Python 官网：https://www.python.org/\n",
    "\n",
    "你可以在以下链接中下载 Python 的文档，你可以下载 HTML、PDF 和 PostScript 等格式的文档。\n",
    "\n",
    "Python文档下载地址：https://www.python.org/doc/"
   ]
  },
  {
   "cell_type": "markdown",
   "metadata": {},
   "source": [
    "# 三、常用的python编程环境\n",
    "\n",
    "1、CMD + Notepad++\n",
    "\n",
    "2、jupyter notebook\n",
    "\n",
    "3、ipython\n",
    "\n",
    "4、pycharm\n",
    "\n",
    "5、visual studio code"
   ]
  },
  {
   "cell_type": "markdown",
   "metadata": {},
   "source": [
    "# 四、python保留字\n",
    "\n",
    "import keyword\n",
    "keyword.kwlist"
   ]
  },
  {
   "cell_type": "code",
   "execution_count": 2,
   "metadata": {},
   "outputs": [
    {
     "data": {
      "text/plain": [
       "['False',\n",
       " 'None',\n",
       " 'True',\n",
       " 'and',\n",
       " 'as',\n",
       " 'assert',\n",
       " 'async',\n",
       " 'await',\n",
       " 'break',\n",
       " 'class',\n",
       " 'continue',\n",
       " 'def',\n",
       " 'del',\n",
       " 'elif',\n",
       " 'else',\n",
       " 'except',\n",
       " 'finally',\n",
       " 'for',\n",
       " 'from',\n",
       " 'global',\n",
       " 'if',\n",
       " 'import',\n",
       " 'in',\n",
       " 'is',\n",
       " 'lambda',\n",
       " 'nonlocal',\n",
       " 'not',\n",
       " 'or',\n",
       " 'pass',\n",
       " 'raise',\n",
       " 'return',\n",
       " 'try',\n",
       " 'while',\n",
       " 'with',\n",
       " 'yield']"
      ]
     },
     "execution_count": 2,
     "metadata": {},
     "output_type": "execute_result"
    }
   ],
   "source": [
    "import keyword\n",
    "\n",
    "keyword.kwlist"
   ]
  },
  {
   "cell_type": "markdown",
   "metadata": {},
   "source": [
    "# 五、python标识符\n",
    "\n",
    "1、第一个字符必须是字母表中字母或下划线 _ 。\n",
    "\n",
    "2、标识符的其他的部分由字母、数字和下划线组成。\n",
    "\n",
    "3、标识符对大小写敏感。"
   ]
  },
  {
   "cell_type": "code",
   "execution_count": 4,
   "metadata": {},
   "outputs": [],
   "source": [
    "aklsl222 = 2\n",
    "_asd= 3\n",
    "\n",
    "a = 2\n",
    "A = 2"
   ]
  },
  {
   "cell_type": "markdown",
   "metadata": {},
   "source": [
    "# 六、代码注释\n",
    "\n",
    "1、单行注释（#）\n",
    "\n",
    "2、多行注释（''' '''）"
   ]
  },
  {
   "cell_type": "code",
   "execution_count": 6,
   "metadata": {},
   "outputs": [
    {
     "data": {
      "text/plain": [
       "'\\n这里的代码也是注释\\n'"
      ]
     },
     "execution_count": 6,
     "metadata": {},
     "output_type": "execute_result"
    }
   ],
   "source": [
    "# 下方是什么\n",
    "a = 2\n",
    "\n",
    "'''\n",
    "这里的代码也是注释\n",
    "'''"
   ]
  },
  {
   "cell_type": "markdown",
   "metadata": {},
   "source": [
    "# 七、代码缩进\n",
    "\n",
    "python最具特色的就是使用缩进来表示代码块，不需要使用大括号 {} 。\n",
    "\n",
    "缩进的空格数是可变的，但是同一个代码块的语句必须包含相同的缩进空格数。实例如下："
   ]
  },
  {
   "cell_type": "code",
   "execution_count": null,
   "metadata": {},
   "outputs": [],
   "source": [
    "def Hello():\n",
    "    print(\"hello world!\")\n",
    "    \n",
    "    \n",
    "int main(){\n",
    "    cout << xxx << endl;\n",
    "}"
   ]
  },
  {
   "cell_type": "markdown",
   "metadata": {},
   "source": [
    "# 八、导入模块\n",
    "\n",
    "在 python 用 import 或者 from...import 来导入相应的模块。例如："
   ]
  },
  {
   "cell_type": "code",
   "execution_count": null,
   "metadata": {},
   "outputs": [],
   "source": [
    "import os\n",
    "import math\n",
    "\n",
    "import math as mymath\n",
    "\n",
    "pip\n",
    "\n",
    "pip install 包名\n",
    "\n",
    "conda\n",
    "\n",
    "conda install 包名"
   ]
  }
 ],
 "metadata": {
  "kernelspec": {
   "display_name": "Python 3",
   "language": "python",
   "name": "python3"
  },
  "language_info": {
   "codemirror_mode": {
    "name": "ipython",
    "version": 3
   },
   "file_extension": ".py",
   "mimetype": "text/x-python",
   "name": "python",
   "nbconvert_exporter": "python",
   "pygments_lexer": "ipython3",
   "version": "3.7.3"
  }
 },
 "nbformat": 4,
 "nbformat_minor": 2
}
