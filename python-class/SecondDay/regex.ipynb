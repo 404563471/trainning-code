{
 "cells": [
  {
   "cell_type": "code",
   "execution_count": 2,
   "metadata": {},
   "outputs": [],
   "source": [
    "import re"
   ]
  },
  {
   "cell_type": "code",
   "execution_count": 5,
   "metadata": {},
   "outputs": [
    {
     "name": "stdout",
     "output_type": "stream",
     "text": [
      "<re.Match object; span=(0, 12), match='010-12345678'>\n"
     ]
    }
   ],
   "source": [
    "phoneNumber='010-12345678'\n",
    "phoneRegex='\\d{3}-\\d{8}'\n",
    "m=re.match(phoneRegex, phoneNumber)\n",
    "print(m)"
   ]
  },
  {
   "cell_type": "code",
   "execution_count": 7,
   "metadata": {},
   "outputs": [
    {
     "name": "stdout",
     "output_type": "stream",
     "text": [
      "None\n"
     ]
    }
   ],
   "source": [
    "#phoneNumber='010-12345678910'\n",
    "phoneNumber='1010-12345678910'\n",
    "phoneRegex='\\d{3}-\\d{8}'\n",
    "m=re.match(phoneRegex, phoneNumber)\n",
    "print(m)"
   ]
  },
  {
   "cell_type": "code",
   "execution_count": 8,
   "metadata": {},
   "outputs": [
    {
     "name": "stdout",
     "output_type": "stream",
     "text": [
      "None\n"
     ]
    }
   ],
   "source": [
    "phoneNumber='010-12345678910'\n",
    "phoneRegex='\\d{3}-\\d{8}$'\n",
    "m=re.match(phoneRegex, phoneNumber)\n",
    "print(m)"
   ]
  },
  {
   "cell_type": "code",
   "execution_count": 9,
   "metadata": {},
   "outputs": [
    {
     "name": "stdout",
     "output_type": "stream",
     "text": [
      "<re.Match object; span=(0, 9), match='010-12345'>\n"
     ]
    }
   ],
   "source": [
    "phoneNumber='010-12345'\n",
    "phoneRegex='\\d{3}-\\d{3,8}$'\n",
    "m=re.match(phoneRegex, phoneNumber)\n",
    "print(m)"
   ]
  },
  {
   "cell_type": "code",
   "execution_count": 15,
   "metadata": {},
   "outputs": [
    {
     "name": "stdout",
     "output_type": "stream",
     "text": [
      "<re.Match object; span=(0, 9), match='010-12345'>\n"
     ]
    },
    {
     "data": {
      "text/plain": [
       "('010', '12345')"
      ]
     },
     "execution_count": 15,
     "metadata": {},
     "output_type": "execute_result"
    }
   ],
   "source": [
    "phoneNumber='010-12345abcsd'\n",
    "phoneRegex='(\\d{3})-(\\d{3,8})'\n",
    "m=re.match(phoneRegex, phoneNumber)\n",
    "print(m)\n",
    "m.group()\n",
    "m.group(0)\n",
    "m.group(1)\n",
    "m.group(2)\n",
    "m.groups()"
   ]
  },
  {
   "cell_type": "code",
   "execution_count": 18,
   "metadata": {},
   "outputs": [
    {
     "data": {
      "text/plain": [
       "('1', '0')"
      ]
     },
     "execution_count": 18,
     "metadata": {},
     "output_type": "execute_result"
    }
   ],
   "source": [
    "number='102300000000000000000'\n",
    "\n",
    "re.match('(\\d+)(0*)$', number).groups()\n",
    "re.match('(\\d+?)(0*)$', number).groups()\n",
    "re.match('(\\d+?)(0*)', number).groups()"
   ]
  },
  {
   "cell_type": "code",
   "execution_count": 23,
   "metadata": {},
   "outputs": [
    {
     "name": "stdout",
     "output_type": "stream",
     "text": [
      "Hello, my phone number is 010-86432100 and email is  \n",
      "cqc@cuiqingcai.com, and my website is http://cuiqingcai.com.\n"
     ]
    },
    {
     "data": {
      "text/plain": [
       "'Hello, my phone number is 010-86432100 and email is  \\ncqc@cuiqingcai.com, and my website is http://cuiqingcai.com.'"
      ]
     },
     "execution_count": 23,
     "metadata": {},
     "output_type": "execute_result"
    }
   ],
   "source": [
    "test=\"\"\"Hello, my phone number is 010-86432100 and email is  \n",
    "cqc@cuiqingcai.com, and my website is http://cuiqingcai.com.\"\"\"\n",
    "\n",
    "print(test)\n",
    "\n",
    "re.match(\"Hello.+\", test, re.S).group()"
   ]
  },
  {
   "cell_type": "code",
   "execution_count": 25,
   "metadata": {},
   "outputs": [
    {
     "name": "stdout",
     "output_type": "stream",
     "text": [
      "test123\n"
     ]
    }
   ],
   "source": [
    "def email_ju(e_mail=\"yuanhy@bcc.ac.cn\"):\n",
    "    email=re.match(\"(\\w+?)@[^\\s]+?\\.(com|cn|org)\", e_mail)\n",
    "    if email:\n",
    "        print(email.group(1))\n",
    "    else:\n",
    "        print(\"false\")\n",
    "        \n",
    "email_ju(\"test123@abc.org\")"
   ]
  },
  {
   "cell_type": "code",
   "execution_count": 26,
   "metadata": {},
   "outputs": [
    {
     "name": "stdout",
     "output_type": "stream",
     "text": [
      "hello\n",
      "()\n",
      "{}\n"
     ]
    }
   ],
   "source": [
    "pattern=re.compile(\"h...o\")\n",
    "result=pattern.match(\"hello world! hello\")\n",
    "print(result.group())\n",
    "print(result.groups())\n",
    "print(result.groupdict())"
   ]
  },
  {
   "cell_type": "code",
   "execution_count": 27,
   "metadata": {},
   "outputs": [
    {
     "name": "stdout",
     "output_type": "stream",
     "text": [
      "()\n"
     ]
    }
   ],
   "source": [
    "pattern=re.compile(\"h.*o$\")\n",
    "#result=pattern.match(\" hello world!\")\n",
    "result=pattern.match(\"hello world! hello\")\n",
    "if result:\n",
    "    print(result.groups())\n",
    "else:\n",
    "    print(\"false\")"
   ]
  },
  {
   "cell_type": "code",
   "execution_count": 30,
   "metadata": {},
   "outputs": [
    {
     "name": "stdout",
     "output_type": "stream",
     "text": [
      "<re.Match object; span=(13, 18), match='hello'>\n"
     ]
    },
    {
     "data": {
      "text/plain": [
       "'hello'"
      ]
     },
     "execution_count": 30,
     "metadata": {},
     "output_type": "execute_result"
    }
   ],
   "source": [
    "pattern=re.compile(\"h...o$\")\n",
    "result=pattern.search(\"hello world! hello\")\n",
    "print(result)\n",
    "result.group()"
   ]
  },
  {
   "cell_type": "code",
   "execution_count": 29,
   "metadata": {},
   "outputs": [
    {
     "name": "stdout",
     "output_type": "stream",
     "text": [
      "['hello world! hellooooo world! hellllllo wo']\n"
     ]
    }
   ],
   "source": [
    "pattern=re.compile(\"h.*o\")\n",
    "result=pattern.findall(\"hello world! hellooooo world! hellllllo world!\")\n",
    "print(result)"
   ]
  },
  {
   "cell_type": "code",
   "execution_count": 31,
   "metadata": {},
   "outputs": [
    {
     "name": "stdout",
     "output_type": "stream",
     "text": [
      "['hello', 'hello', 'hellllllo']\n",
      "hello\n"
     ]
    }
   ],
   "source": [
    "pattern=re.compile(\"h.*?o\")\n",
    "result=pattern.findall(\"hello world! hellooooo world! hellllllo world!\")\n",
    "print(result)\n",
    "print(result[1])"
   ]
  },
  {
   "cell_type": "code",
   "execution_count": 32,
   "metadata": {},
   "outputs": [
    {
     "name": "stdout",
     "output_type": "stream",
     "text": [
      "<callable_iterator object at 0x7f7c583a2a60>\n",
      "hello\n",
      "hello\n",
      "hellllllo\n"
     ]
    }
   ],
   "source": [
    "pattern=re.compile(\"h.*?o\")\n",
    "result=pattern.finditer(\"hello world! hellooooo world! hellllllo world!\")\n",
    "print(result)\n",
    "for i in result:\n",
    "    print(i.group())"
   ]
  },
  {
   "cell_type": "code",
   "execution_count": 33,
   "metadata": {},
   "outputs": [
    {
     "name": "stdout",
     "output_type": "stream",
     "text": [
      "hello world! hellooooo world! hello world!\n"
     ]
    }
   ],
   "source": [
    "pattern=re.compile(\"h.*?o\")\n",
    "result=pattern.sub(\"hello\",\"hello world! hellooooo world! hellllllo world!\")\n",
    "print(result)"
   ]
  },
  {
   "cell_type": "code",
   "execution_count": 24,
   "metadata": {},
   "outputs": [
    {
     "name": "stdout",
     "output_type": "stream",
     "text": [
      "齐秦 往事随风\n",
      "[('2.mp3', '任贤齐', '沧海一声笑'), ('3.mp3', '齐秦', '往事随风'), ('4.mp3', 'beyond', '光辉岁月'), ('5.mp3', '陈慧琳', '记事本'), ('6.mp3', '邓丽君', '<i class=\"fa fa-user\"></i>但愿人长久')]\n",
      "<class 'list'>\n",
      "('2.mp3', '任贤齐', '沧海一声笑')\n",
      "2.mp3\n",
      "('3.mp3', '齐秦', '往事随风')\n",
      "3.mp3\n",
      "('4.mp3', 'beyond', '光辉岁月')\n",
      "4.mp3\n",
      "('5.mp3', '陈慧琳', '记事本')\n",
      "5.mp3\n",
      "('6.mp3', '邓丽君', '<i class=\"fa fa-user\"></i>但愿人长久')\n",
      "6.mp3\n",
      "一路上有你\n",
      "沧海一声笑\n",
      "往事随风\n",
      "光辉岁月\n",
      "记事本\n",
      "但愿人长久\n",
      "<div id=\"songs-list\">\n",
      "   <h2 class=\"title\">经典老歌</h2>\n",
      "   <p class=\"introduction\">\n",
      "       经典老歌列表\n",
      "   </p>\n",
      "   <ul id=\"list\" class=\"list-group\">\n",
      "       <li data-view=\"2\">一路上有你</li>\n",
      "       <li data-view=\"7\">\n",
      "           沧海一声笑\n",
      "       </li>\n",
      "       <li data-view=\"4\" class=\"active\">\n",
      "           往事随风\n",
      "       </li>\n",
      "       <li data-view=\"6\">光辉岁月</li>\n",
      "       <li data-view=\"5\">记事本</li>\n",
      "       <li data-view=\"5\">\n",
      "           <i class=\"fa fa-user\"></i>但愿人长久\n",
      "       </li>\n",
      "   </ul>\n",
      "</div>\n",
      "一路上有你\n",
      "沧海一声笑\n",
      "往事随风\n",
      "光辉岁月\n",
      "记事本\n",
      "<i class=\"fa fa-user\"></i>但愿人长久\n"
     ]
    }
   ],
   "source": [
    "html = '''<div id=\"songs-list\">\n",
    "   <h2 class=\"title\">经典老歌</h2>\n",
    "   <p class=\"introduction\">\n",
    "       经典老歌列表\n",
    "   </p>\n",
    "   <ul id=\"list\" class=\"list-group\">\n",
    "       <li data-view=\"2\">一路上有你</li>\n",
    "       <li data-view=\"7\">\n",
    "           <a href=\"/2.mp3\" singer=\"任贤齐\">沧海一声笑</a>\n",
    "       </li>\n",
    "       <li data-view=\"4\" class=\"active\">\n",
    "           <a href=\"/3.mp3\" singer=\"齐秦\">往事随风</a>\n",
    "       </li>\n",
    "       <li data-view=\"6\"><a href=\"/4.mp3\" singer=\"beyond\">光辉岁月</a></li>\n",
    "       <li data-view=\"5\"><a href=\"/5.mp3\" singer=\"陈慧琳\">记事本</a></li>\n",
    "       <li data-view=\"5\">\n",
    "           <a href=\"/6.mp3\" singer=\"邓丽君\"><i class=\"fa fa-user\"></i>但愿人长久</a>\n",
    "       </li>\n",
    "   </ul>\n",
    "</div>'''\n",
    "\n",
    "result=re.search('<li.*?active.*?singer=\"(.*?)\">(.*?)</a>',html,re.S)\n",
    "\n",
    "if result:\n",
    "    print(result.group(1),result.group(2))\n",
    "else:\n",
    "    print(\"no result\")\n",
    "\n",
    "results=re.findall('<li.*?href=\"/(.*?)\".*?singer=\"(.*?)\">(.*?)</a>',html,re.S)\n",
    "print(results)\n",
    "print(type(results))\n",
    "\n",
    "for result in results:\n",
    "    print(result)\n",
    "    print(result[0])\n",
    "    #print(result[0],result[1],result[2])\n",
    "result[:]\n",
    "\n",
    "results=re.findall('<li.*?>\\s*?(<a.*?>)?(\\w+)(</a>)?\\s*?</li>',html,re.S)\n",
    "for result in results:\n",
    "   print(result[1])\n",
    "\n",
    "\n",
    "html=re.sub('<a.*?>|</a>','',html)\n",
    "print(html)\n",
    "results=re.findall('<li.*?>(.*?)</li>',html,re.S)\n",
    "for result in results:\n",
    "    print(result.strip())\n",
    "\n",
    "\n",
    "'<li.*?><a.*?>(.*?)</a></li>'\n",
    "\n",
    "results=re.findall('<li.*?><a.*?>(.*?)</a></li>',html,re.S)\n",
    "for result in results:\n",
    "    print(result.strip())"
   ]
  },
  {
   "cell_type": "code",
   "execution_count": 18,
   "metadata": {},
   "outputs": [],
   "source": [
    "def judge_string(inputString):\n",
    "    inputString=str(inputString)\n",
    "    if re.match(\"^\\d+$\", inputString):\n",
    "        if re.match(\"^1(3|4|5|6|7|8|9)\\d{9}$\", inputString):\n",
    "            print(\"手机号\")\n",
    "        else:\n",
    "            print(\"正整数\")\n",
    "    elif re.match(\"^[a-zA-Z0-9_-]+@[a-zA-Z0-9_-]+(\\.[a-zA-Z0-9_-]+)+$\", inputString):\n",
    "        print(\"邮箱地址\")\n",
    "    elif re.match(\"^((http:\\/\\/)|(https:\\/\\/))?([a-zA-Z0-9]([a-zA-Z0-9\\-]{0,61}[a-zA-Z0-9])?\\.)+[a-zA-Z]{2,6}(\\/)\", inputString):\n",
    "        print(\"网站域名\")\n",
    "    elif re.match(\"((?:(?:25[0-5]|2[0-4]\\d|[01]?\\d?\\d)\\.){3}(?:25[0-5]|2[0-4]\\d|[01]?\\d?\\d))\", inputString):\n",
    "        print(\"IP地址\")\n",
    "    elif re.match(\"^[\\u4e00-\\u9fa5]{0,}$\", inputString):\n",
    "        print(\"汉字\")\n",
    "    else:\n",
    "        print(\"无法判断\")\n",
    "        "
   ]
  },
  {
   "cell_type": "code",
   "execution_count": 20,
   "metadata": {},
   "outputs": [
    {
     "name": "stdout",
     "output_type": "stream",
     "text": [
      "手机号\n",
      "网站域名\n",
      "网站域名\n",
      "IP地址\n",
      "汉字\n"
     ]
    }
   ],
   "source": [
    "judge_string(13012345678)\n",
    "judge_string(\"http://google.com/\")\n",
    "judge_string(\"google.com/\")\n",
    "judge_string(\"127.0.0.1\")\n",
    "judge_string(\"袁寒玉\")"
   ]
  },
  {
   "cell_type": "markdown",
   "metadata": {},
   "source": [
    "- 网址: ^(((http|https|ftp):\\/\\/)?([[a-zA-Z0-9]\\-\\.])+(\\.)([[a-zA-Z0-9]]){2,4}([[a-zA-Z0-9]\\/+=%&_\\.~?\\-]*))*$\n",
    "- 日期 (MM/DD/YYYY): ^(0?[1-9]|1[012])[- /.](0?[1-9]|[12][0-9]|3[01])[- /.](19|20)?[0-9]{2}$\n",
    "- 日期 (YYYY/MM/DD): ^(19|20)?[0-9]{2}[- /.](0?[1-9]|1[012])[- /.](0?[1-9]|[12][0-9]|3[01])$"
   ]
  },
  {
   "cell_type": "code",
   "execution_count": null,
   "metadata": {},
   "outputs": [],
   "source": []
  }
 ],
 "metadata": {
  "kernelspec": {
   "display_name": "Python 3",
   "language": "python",
   "name": "python3"
  },
  "language_info": {
   "codemirror_mode": {
    "name": "ipython",
    "version": 3
   },
   "file_extension": ".py",
   "mimetype": "text/x-python",
   "name": "python",
   "nbconvert_exporter": "python",
   "pygments_lexer": "ipython3",
   "version": "3.7.3"
  }
 },
 "nbformat": 4,
 "nbformat_minor": 2
}
