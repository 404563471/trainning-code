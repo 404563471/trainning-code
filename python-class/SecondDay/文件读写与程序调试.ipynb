{
 "cells": [
  {
   "cell_type": "markdown",
   "metadata": {},
   "source": [
    "# 一、文件读写\n",
    "\n",
    "1、原生处理方式\n",
    "2、pandas\n",
    "\n",
    "### 1、open() 方法\n",
    "\n",
    "Python open() 方法用于打开一个文件，并返回文件对象，在对文件进行处理过程都需要使用到这个函数，如果该文件无法被打开，会抛出 OSError。\n",
    "\n",
    "注意：使用 open() 方法一定要保证关闭文件对象，即调用 close() 方法。\n",
    "\n",
    "open() 函数常用形式是接收两个参数：文件名(file)和模式(mode)。\n",
    "\n",
    "open(file, mode='r')\n",
    "\n",
    "mode参数列表：\n",
    "\n",
    "r\t      以只读方式打开文件。文件的指针将会放在文件的开头。这是默认模式。\n",
    "\n",
    "rb\t      以二进制格式打开一个文件用于只读。文件指针将会放在文件的开头。这是默认模式。一般用于非文本文件如图片等。\n",
    "\n",
    "r+\t      打开一个文件用于读写。文件指针将会放在文件的开头。\n",
    "\n",
    "rb+\t      以二进制格式打开一个文件用于读写。文件指针将会放在文件的开头。一般用于非文本文件如图片等。\n",
    "\n",
    "w\t      打开一个文件只用于写入。如果该文件已存在则打开文件，并从开头开始编辑，即原有内容会被删除。如果该文件不存在，创建新文件。\n",
    "\n",
    "wb\t      以二进制格式打开一个文件只用于写入。如果该文件已存在则打开文件，并从开头开始编辑，即原有内容会被删除。如果该文件不存在，创建新文件。一般用于非文本文件如图片等。\n",
    "\n",
    "w+\t      打开一个文件用于读写。如果该文件已存在则打开文件，并从开头开始编辑，即原有内容会被删除。如果该文件不存在，创建新文件。\n",
    "\n",
    "wb+\t      以二进制格式打开一个文件用于读写。如果该文件已存在则打开文件，并从开头开始编辑，即原有内容会被删除。如果该文件不存在，创建新文件。一般用于非文本文件如图片等。\n",
    "\n",
    "a\t      打开一个文件用于追加。如果该文件已存在，文件指针将会放在文件的结尾。也就是说，新的内容将会被写入到已有内容之后。如果该文件不存在，创建新文件进行写入。\n",
    "\n",
    "ab\t      以二进制格式打开一个文件用于追加。如果该文件已存在，文件指针将会放在文件的结尾。也就是说，新的内容将会被写入到已有内容之后。如果该文件不存在，创建新文件进行写入。\n",
    "\n",
    "a+\t      打开一个文件用于读写。如果该文件已存在，文件指针将会放在文件的结尾。文件打开时会是追加模式。如果该文件不存在，创建新文件用于读写。\n",
    "\n",
    "ab+\t      以二进制格式打开一个文件用于追加。如果该文件已存在，文件指针将会放在文件的结尾。如果该文件不存在，创建新文件用于读写。\n",
    "\n",
    "\n",
    "f.readlines()  取出文件所有行生成一个list\n",
    "f.readline()   每次只取一行\n",
    "\n",
    "### with open(file, mode) .. as句柄操作文件\n",
    "\n",
    "不用手动关闭文件\n",
    "\n",
    "### 练习\n",
    "\n",
    "1、利用文件操作打开expression.txt文件，并按照pvalue < 0.05 筛选基因?   提示：循环、判断、字符串\n",
    "2、考虑使用什么样的数据结构展示筛选出来的数据?"
   ]
  },
  {
   "cell_type": "code",
   "execution_count": 13,
   "metadata": {},
   "outputs": [
    {
     "name": "stdout",
     "output_type": "stream",
     "text": [
      "gene1\t3.606291331\t11.00427401\t0.015680197\t1\n",
      "\n",
      "gene9\t-5.044719823\t9.323697751\t0.004501148\t1\n",
      "\n",
      "gene14\t2.958113227\t9.545059767\t0.049621155\t1\n",
      "\n",
      "gene18\t-1.076173783\t15.01836181\t0.038802705\t1\n",
      "\n"
     ]
    }
   ],
   "source": [
    "# f = open('expression.txt','r')\n",
    "# for line in f:\n",
    "#     s = f.readline()\n",
    "#     print(type(s))\n",
    "# f.close()\n",
    "\n",
    "with open('expression.txt','r') as f:\n",
    "    title = f.readline()\n",
    "    for line in f:\n",
    "        new_line = line.split('\\t')\n",
    "        pvalue = float(new_line[3])\n",
    "        if pvalue < 0.05:\n",
    "            print(line)"
   ]
  },
  {
   "cell_type": "code",
   "execution_count": null,
   "metadata": {},
   "outputs": [],
   "source": []
  },
  {
   "cell_type": "markdown",
   "metadata": {},
   "source": [
    "# 二、OS模块\n",
    "\n",
    "### os模块是与操作系统交互的一个接口\n",
    "\n",
    "常用函数如下：\n",
    "\n",
    "os.getcwd()                            获取当前工作目录\n",
    "os.chdir(\"dirname\")                    改变当前脚本工作目录\n",
    "os.remove()                            删除一个文件\n",
    "os.rename(\"oldname\",\"newname\")         重命名文件/目录\n",
    "os.path.split(path)                    将path分割成目录和文件名二元组返回\n",
    "os.path.dirname(path)                  返回path的目录\n",
    "os.path.isfile(path)                   如果path是一个存在的文件，返回True\n",
    "os.path.isdir(path)                    如果path是一个存在的目录，则返回True"
   ]
  },
  {
   "cell_type": "code",
   "execution_count": 18,
   "metadata": {},
   "outputs": [
    {
     "name": "stdout",
     "output_type": "stream",
     "text": [
      "C:\\Users\\bcc\\Desktop\n"
     ]
    },
    {
     "data": {
      "text/plain": [
       "('C:\\\\Users\\\\bcc\\\\Desktop', 'test.txt')"
      ]
     },
     "execution_count": 18,
     "metadata": {},
     "output_type": "execute_result"
    }
   ],
   "source": [
    "import os\n",
    "#os.path.split(os.getcwd())\n",
    "#os.path.dirname(os.getcwd())\n",
    "\n",
    "print(os.getcwd())\n",
    "\n",
    "# os.remove('test.txt')\n",
    "\n",
    "os.path.split(r'C:\\Users\\bcc\\Desktop\\test.txt')"
   ]
  },
  {
   "cell_type": "markdown",
   "metadata": {},
   "source": [
    "# 三、shutil模块\n",
    "\n",
    "### shutil：高级的 文件、文件夹处理模块\n",
    "\n",
    "shutil.copyfileobj(fsrc, fdst[, length])\n",
    "将文件内容拷贝到另一个文件中\n",
    "\n",
    "import shutil\n",
    "\n",
    "shutil.copyfileobj(open('expression.txt','r'), open('new.txt','w'))\n"
   ]
  },
  {
   "cell_type": "code",
   "execution_count": 19,
   "metadata": {},
   "outputs": [],
   "source": [
    "import shutil\n",
    "\n",
    "shutil.copyfileobj(open('expression.txt','r'), open('new.txt','w'))"
   ]
  },
  {
   "cell_type": "markdown",
   "metadata": {},
   "source": [
    "shutil.copytree(src, dst, symlinks=False, ignore=None)\n",
    "递归的去拷贝文件夹\n",
    "\n",
    "import shutil\n",
    "\n",
    "shutil.copytree('folder1','folder2', ignore=shutil.ignore_patterns('*.pyc','tmp*'))\n"
   ]
  },
  {
   "cell_type": "code",
   "execution_count": null,
   "metadata": {},
   "outputs": [],
   "source": [
    "import shutil\n",
    "\n",
    "shutil.copytree('folder1','folder2', ignore=shutil.ignore_patterns('*.pyc','tmp*'))"
   ]
  },
  {
   "cell_type": "markdown",
   "metadata": {},
   "source": [
    "shutil.rmtree(path[, ignore_errors[, onerror]])\n",
    "递归的去删除文件\n",
    "\n",
    "import shutil\n",
    "shutil.rmtree('folder1')"
   ]
  },
  {
   "cell_type": "code",
   "execution_count": null,
   "metadata": {},
   "outputs": [],
   "source": [
    "import shutil\n",
    "shutil.rmtree('folder1')"
   ]
  },
  {
   "cell_type": "markdown",
   "metadata": {},
   "source": [
    "shutil.move(src, dst)\n",
    "递归的去移动文件，它类似mv命令，其实就是重命名。\n",
    "\n",
    "import shutil\n",
    "\n",
    "shutil.move('folder1','folder3')"
   ]
  },
  {
   "cell_type": "code",
   "execution_count": null,
   "metadata": {},
   "outputs": [],
   "source": [
    "import shutil\n",
    "\n",
    "shutil.move('folder1','folder3')"
   ]
  },
  {
   "cell_type": "markdown",
   "metadata": {},
   "source": [
    "# 错误及异常\n",
    "\n",
    "### 错误\n",
    "\n",
    "是指语法上有错误导致程序执行失败\n",
    "\n",
    "例：\n",
    "while True print('Hello world')\n",
    "\n",
    "### 异常\n",
    "\n",
    "即便 Python 程序的语法是正确的，在运行它的时候，也有可能发生错误。运行期检测到的错误被称为异常。\n",
    "\n",
    "例：\n",
    "'2' + 2 \n",
    "\n",
    "### 异常处理\n",
    "\n",
    "#### 异常捕捉可以使用 try/except 语句。\n",
    "\n",
    "例：\n",
    "while True:\n",
    "    try:\n",
    "        x = int(input(\"请输入一个数字: \"))\n",
    "        break\n",
    "    except ValueError:\n",
    "        print(\"您输入的不是数字，请再次尝试输入！\") \n",
    "        \n",
    "#### try/except/finally 语句\n",
    "        \n",
    "while True:\n",
    "    try:\n",
    "        x = int(input(\"请输入一个数字: \"))\n",
    "        break\n",
    "    except ValueError:\n",
    "        print(\"您输入的不是数字，请再次尝试输入！\") \n",
    "    finally:\n",
    "        print('这句话，无论异常是否发生都会执行。')\n",
    "        \n",
    "#### 练习\n",
    "\n",
    "使用 try/except/finally 异常处理语句实现文件（expression.txt）读取操作    IOError\n",
    "\n",
    "tip：需要自己判断如果文件不存在所属的异常类型"
   ]
  },
  {
   "cell_type": "code",
   "execution_count": 5,
   "metadata": {},
   "outputs": [
    {
     "name": "stdout",
     "output_type": "stream",
     "text": [
      "您输入的文件不存在！\n",
      "代码执行完成！\n"
     ]
    }
   ],
   "source": [
    "try:\n",
    "    f = open('expression1.txt','r')\n",
    "    l = f.readlines()\n",
    "    print(l)\n",
    "except IOError:\n",
    "    print(\"您输入的文件不存在！\") \n",
    "finally:\n",
    "    print('代码执行完成！')"
   ]
  },
  {
   "cell_type": "code",
   "execution_count": null,
   "metadata": {},
   "outputs": [],
   "source": []
  },
  {
   "cell_type": "markdown",
   "metadata": {},
   "source": [
    "### 所有的异常类型\n",
    "\n",
    "BaseException\t所有异常的基类\n",
    "SystemExit\t解释器请求退出\n",
    "KeyboardInterrupt\t用户中断执行(通常是输入^C)\n",
    "Exception\t常规错误的基类\n",
    "StopIteration\t迭代器没有更多的值\n",
    "GeneratorExit\t生成器(generator)发生异常来通知退出\n",
    "StandardError\t所有的内建标准异常的基类\n",
    "ArithmeticError\t所有数值计算错误的基类\n",
    "FloatingPointError\t浮点计算错误\n",
    "OverflowError\t数值运算超出最大限制\n",
    "ZeroDivisionError\t除(或取模)零 (所有数据类型)\n",
    "AssertionError\t断言语句失败\n",
    "AttributeError\t对象没有这个属性\n",
    "EOFError\t没有内建输入,到达EOF 标记\n",
    "EnvironmentError\t操作系统错误的基类\n",
    "IOError\t输入/输出操作失败\n",
    "OSError\t操作系统错误\n",
    "WindowsError\t系统调用失败\n",
    "ImportError\t导入模块/对象失败\n",
    "LookupError\t无效数据查询的基类\n",
    "IndexError\t序列中没有此索引(index)\n",
    "KeyError\t映射中没有这个键\n",
    "MemoryError\t内存溢出错误(对于Python 解释器不是致命的)\n",
    "NameError\t未声明/初始化对象 (没有属性)\n",
    "UnboundLocalError\t访问未初始化的本地变量\n",
    "ReferenceError\t弱引用(Weak reference)试图访问已经垃圾回收了的对象\n",
    "RuntimeError\t一般的运行时错误\n",
    "NotImplementedError\t尚未实现的方法\n",
    "SyntaxError\tPython 语法错误\n",
    "IndentationError\t缩进错误\n",
    "TabError\tTab 和空格混用\n",
    "SystemError\t一般的解释器系统错误\n",
    "TypeError\t对类型无效的操作\n",
    "ValueError\t传入无效的参数\n",
    "UnicodeError\tUnicode 相关的错误\n",
    "UnicodeDecodeError\tUnicode 解码时的错误\n",
    "UnicodeEncodeError\tUnicode 编码时错误\n",
    "UnicodeTranslateError\tUnicode 转换时错误\n",
    "Warning\t警告的基类\n",
    "DeprecationWarning\t关于被弃用的特征的警告\n",
    "FutureWarning\t关于构造将来语义会有改变的警告\n",
    "OverflowWarning\t旧的关于自动提升为长整型(long)的警告\n",
    "PendingDeprecationWarning\t关于特性将会被废弃的警告\n",
    "RuntimeWarning\t可疑的运行时行为(runtime behavior)的警告\n",
    "SyntaxWarning\t可疑的语法的警告\n",
    "UserWarning\t用户代码生成的警告"
   ]
  }
 ],
 "metadata": {
  "kernelspec": {
   "display_name": "Python 3",
   "language": "python",
   "name": "python3"
  },
  "language_info": {
   "codemirror_mode": {
    "name": "ipython",
    "version": 3
   },
   "file_extension": ".py",
   "mimetype": "text/x-python",
   "name": "python",
   "nbconvert_exporter": "python",
   "pygments_lexer": "ipython3",
   "version": "3.7.3"
  }
 },
 "nbformat": 4,
 "nbformat_minor": 2
}
