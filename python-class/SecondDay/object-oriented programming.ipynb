{
 "cells": [
  {
   "cell_type": "code",
   "execution_count": 1,
   "metadata": {},
   "outputs": [
    {
     "name": "stdout",
     "output_type": "stream",
     "text": [
      "x is: 60\n",
      "change local x to 3\n",
      "None\n",
      "60\n"
     ]
    }
   ],
   "source": [
    "x = 60\n",
    "def foo(x):\n",
    "    print(\"x is: \" + str(x))\n",
    "    x = 3\n",
    "    print(\"change local x to \" + str(x))\n",
    "    \n",
    "print(foo(x))\n",
    "print(x)"
   ]
  },
  {
   "cell_type": "code",
   "execution_count": 4,
   "metadata": {},
   "outputs": [
    {
     "name": "stdout",
     "output_type": "stream",
     "text": [
      "x is: 60\n",
      "change local x to 3\n",
      "None\n",
      "value of x is 3\n"
     ]
    }
   ],
   "source": [
    "#全局变量与局部变量\n",
    "x = 60\n",
    "\n",
    "def foo():\n",
    "#    print(\"change local x to \" + str(x))\n",
    "    global x\n",
    "    print(\"x is: \" + str(x))\n",
    "    x = 3\n",
    "    print(\"change local x to \" + str(x))\n",
    "    \n",
    "print(foo())\n",
    "print('value of x is' , str(x))"
   ]
  },
  {
   "cell_type": "code",
   "execution_count": 7,
   "metadata": {},
   "outputs": [
    {
     "data": {
      "text/plain": [
       "10"
      ]
     },
     "execution_count": 7,
     "metadata": {},
     "output_type": "execute_result"
    }
   ],
   "source": [
    "abs(-10)\n",
    "myabs=abs\n",
    "myabs(-10)"
   ]
  },
  {
   "cell_type": "code",
   "execution_count": 15,
   "metadata": {},
   "outputs": [
    {
     "data": {
      "text/plain": [
       "10"
      ]
     },
     "execution_count": 15,
     "metadata": {},
     "output_type": "execute_result"
    }
   ],
   "source": [
    "def lazy_sum(*args):\n",
    "    def sum():\n",
    "        ax = 0\n",
    "        for n in args:\n",
    "            ax = ax + n\n",
    "        return ax\n",
    "    return sum\n",
    "\n",
    "f=lazy_sum(1,2,3,4)\n",
    "f()\n",
    "lazy_sum(1,2,3,4)()"
   ]
  },
  {
   "cell_type": "code",
   "execution_count": 21,
   "metadata": {},
   "outputs": [],
   "source": [
    "def now():\n",
    "    print('2018-12-14')\n",
    "\n",
    "def log(func):\n",
    "    def wrapper():\n",
    "        print('call %s():' % func.__name__)\n",
    "        return func()\n",
    "    return wrapper\n",
    "\n",
    "#now = log(now)"
   ]
  },
  {
   "cell_type": "code",
   "execution_count": 22,
   "metadata": {},
   "outputs": [
    {
     "name": "stdout",
     "output_type": "stream",
     "text": [
      "2018-12-14\n"
     ]
    }
   ],
   "source": [
    "now()"
   ]
  },
  {
   "cell_type": "code",
   "execution_count": 25,
   "metadata": {},
   "outputs": [
    {
     "name": "stdout",
     "output_type": "stream",
     "text": [
      "2018-12-14\n"
     ]
    }
   ],
   "source": [
    "@log\n",
    "def now():\n",
    "    print('2018-12-14')\n",
    "\n",
    "now()"
   ]
  },
  {
   "cell_type": "code",
   "execution_count": 26,
   "metadata": {},
   "outputs": [
    {
     "data": {
      "text/plain": [
       "__main__.student"
      ]
     },
     "execution_count": 26,
     "metadata": {},
     "output_type": "execute_result"
    }
   ],
   "source": [
    "class student():\n",
    "    pass\n",
    "\n",
    "studentInstance=student()\n",
    "type(studentInstance)"
   ]
  },
  {
   "cell_type": "code",
   "execution_count": 27,
   "metadata": {},
   "outputs": [
    {
     "name": "stdout",
     "output_type": "stream",
     "text": [
      "Bob\n",
      "97\n"
     ]
    }
   ],
   "source": [
    "class student():\n",
    "    def __init__(self, name, score):\n",
    "        self.name=name\n",
    "        self.score=score\n",
    "\n",
    "Bob=student(\"Bob\", \"97\")\n",
    "print(Bob.name)\n",
    "print(Bob.score)"
   ]
  },
  {
   "cell_type": "code",
   "execution_count": 28,
   "metadata": {},
   "outputs": [
    {
     "name": "stdout",
     "output_type": "stream",
     "text": [
      "97\n"
     ]
    }
   ],
   "source": [
    "class student():\n",
    "    def __init__(self, name, score):\n",
    "        self.name=name\n",
    "        self.score=score\n",
    "    def printScore(self):\n",
    "        print(self.score)\n",
    "\n",
    "Bob=student(\"Bob\", \"97\")\n",
    "Bob.printScore()"
   ]
  },
  {
   "cell_type": "code",
   "execution_count": 29,
   "metadata": {},
   "outputs": [
    {
     "name": "stdout",
     "output_type": "stream",
     "text": [
      "Bob : 97\n"
     ]
    }
   ],
   "source": [
    "def printScore(self):\n",
    "    print(self.name,\":\", self.score)\n",
    "\n",
    "student.printScore=printScore\n",
    "Bob.printScore()"
   ]
  },
  {
   "cell_type": "code",
   "execution_count": 30,
   "metadata": {},
   "outputs": [
    {
     "name": "stdout",
     "output_type": "stream",
     "text": [
      "boy\n"
     ]
    }
   ],
   "source": [
    "Bob.sex=\"boy\"\n",
    "print(Bob.sex)"
   ]
  },
  {
   "cell_type": "markdown",
   "metadata": {},
   "source": [
    "为了达到限制的目的，Python允许在定义class的时候，定义一个特殊的__slots__变量，来限制该class实例能添加的属性："
   ]
  },
  {
   "cell_type": "code",
   "execution_count": 32,
   "metadata": {},
   "outputs": [
    {
     "name": "stdout",
     "output_type": "stream",
     "text": [
      "100\n"
     ]
    }
   ],
   "source": [
    "class student():\n",
    "    __slots__ = (\"name\", \"score\")\n",
    "    def __init__(self, name, score):\n",
    "        self.name=name\n",
    "        self.score=score\n",
    "    def printScore(self):\n",
    "        print(self.score)\n",
    "\n",
    "Bob=student(\"Bob\", 97)\n",
    "#Bob.sex=\"boy\"\n",
    "Bob.score=100\n",
    "print(Bob.score)"
   ]
  },
  {
   "cell_type": "code",
   "execution_count": 38,
   "metadata": {},
   "outputs": [],
   "source": [
    "class student():\n",
    "    __slots__ = (\"name\", \"score\")\n",
    "    def __init__(self, name, score):\n",
    "        self.name=name\n",
    "        self.score=score\n",
    "    \n",
    "    def get_score(self):\n",
    "         return self.score\n",
    "    \n",
    "    def set_score(self, value):\n",
    "        if not isinstance(value, int):\n",
    "            raise ValueError('score must be an integer!')\n",
    "        if value < 0 or value > 100:\n",
    "            raise ValueError('score must between 0 ~ 100!')\n",
    "        self.score = value"
   ]
  },
  {
   "cell_type": "code",
   "execution_count": 39,
   "metadata": {},
   "outputs": [
    {
     "ename": "ValueError",
     "evalue": "score must between 0 ~ 100!",
     "output_type": "error",
     "traceback": [
      "\u001b[1;31m---------------------------------------------------------------------------\u001b[0m",
      "\u001b[1;31mValueError\u001b[0m                                Traceback (most recent call last)",
      "\u001b[1;32m<ipython-input-39-9dda7138249a>\u001b[0m in \u001b[0;36m<module>\u001b[1;34m\u001b[0m\n\u001b[0;32m      1\u001b[0m \u001b[0mBob\u001b[0m\u001b[1;33m=\u001b[0m\u001b[0mstudent\u001b[0m\u001b[1;33m(\u001b[0m\u001b[1;34m\"Bob\"\u001b[0m\u001b[1;33m,\u001b[0m \u001b[1;36m97\u001b[0m\u001b[1;33m)\u001b[0m\u001b[1;33m\u001b[0m\u001b[1;33m\u001b[0m\u001b[0m\n\u001b[0;32m      2\u001b[0m \u001b[1;31m#Bob.set_score(\"97\")\u001b[0m\u001b[1;33m\u001b[0m\u001b[1;33m\u001b[0m\u001b[1;33m\u001b[0m\u001b[0m\n\u001b[1;32m----> 3\u001b[1;33m \u001b[0mBob\u001b[0m\u001b[1;33m.\u001b[0m\u001b[0mset_score\u001b[0m\u001b[1;33m(\u001b[0m\u001b[1;36m101\u001b[0m\u001b[1;33m)\u001b[0m\u001b[1;33m\u001b[0m\u001b[1;33m\u001b[0m\u001b[0m\n\u001b[0m",
      "\u001b[1;32m<ipython-input-38-56a8af1d4cc5>\u001b[0m in \u001b[0;36mset_score\u001b[1;34m(self, value)\u001b[0m\n\u001b[0;32m     12\u001b[0m             \u001b[1;32mraise\u001b[0m \u001b[0mValueError\u001b[0m\u001b[1;33m(\u001b[0m\u001b[1;34m'score must be an integer!'\u001b[0m\u001b[1;33m)\u001b[0m\u001b[1;33m\u001b[0m\u001b[1;33m\u001b[0m\u001b[0m\n\u001b[0;32m     13\u001b[0m         \u001b[1;32mif\u001b[0m \u001b[0mvalue\u001b[0m \u001b[1;33m<\u001b[0m \u001b[1;36m0\u001b[0m \u001b[1;32mor\u001b[0m \u001b[0mvalue\u001b[0m \u001b[1;33m>\u001b[0m \u001b[1;36m100\u001b[0m\u001b[1;33m:\u001b[0m\u001b[1;33m\u001b[0m\u001b[1;33m\u001b[0m\u001b[0m\n\u001b[1;32m---> 14\u001b[1;33m             \u001b[1;32mraise\u001b[0m \u001b[0mValueError\u001b[0m\u001b[1;33m(\u001b[0m\u001b[1;34m'score must between 0 ~ 100!'\u001b[0m\u001b[1;33m)\u001b[0m\u001b[1;33m\u001b[0m\u001b[1;33m\u001b[0m\u001b[0m\n\u001b[0m\u001b[0;32m     15\u001b[0m         \u001b[0mself\u001b[0m\u001b[1;33m.\u001b[0m\u001b[0mscore\u001b[0m \u001b[1;33m=\u001b[0m \u001b[0mvalue\u001b[0m\u001b[1;33m\u001b[0m\u001b[1;33m\u001b[0m\u001b[0m\n",
      "\u001b[1;31mValueError\u001b[0m: score must between 0 ~ 100!"
     ]
    }
   ],
   "source": [
    "Bob=student(\"Bob\", 97)\n",
    "#Bob.set_score(\"97\")\n",
    "Bob.set_score(101)"
   ]
  },
  {
   "cell_type": "code",
   "execution_count": 41,
   "metadata": {},
   "outputs": [
    {
     "data": {
      "text/plain": [
       "'97'"
      ]
     },
     "execution_count": 41,
     "metadata": {},
     "output_type": "execute_result"
    }
   ],
   "source": [
    "Bob.score = \"97\"\n",
    "Bob.get_score()"
   ]
  },
  {
   "cell_type": "markdown",
   "metadata": {},
   "source": [
    "Python内置的@property装饰器就是负责把一个方法变成属性调用的："
   ]
  },
  {
   "cell_type": "code",
   "execution_count": 44,
   "metadata": {},
   "outputs": [
    {
     "name": "stdout",
     "output_type": "stream",
     "text": [
      "100\n"
     ]
    }
   ],
   "source": [
    "class student():\n",
    "    __slots__ = (\"name\", \"_score\")\n",
    "    def __init__(self, name, _score):\n",
    "        self.name=name\n",
    "        self.score=_score\n",
    "    @property\n",
    "    def score(self):\n",
    "         return self._score\n",
    "    \n",
    "    @score.setter\n",
    "    def score(self, value):\n",
    "        if not isinstance(value, int):\n",
    "            raise ValueError('score must be an integer!')\n",
    "        if value < 0 or value > 100:\n",
    "            raise ValueError('score must between 0 ~ 100!')\n",
    "        self._score = value\n",
    "\n",
    "#Bob=student(\"Bob\", 102)\n",
    "#Bob=student(\"Bob\", \"97\")\n",
    "Bob=student(\"Bob\", 97)\n",
    "Bob.score=100\n",
    "print(Bob.score)\n",
    "#Bob=student()"
   ]
  },
  {
   "cell_type": "code",
   "execution_count": 47,
   "metadata": {},
   "outputs": [
    {
     "name": "stdout",
     "output_type": "stream",
     "text": [
      "A\n"
     ]
    }
   ],
   "source": [
    "class student():\n",
    "    __slots__ = (\"name\", \"_score\", \"__grade\")\n",
    "    def __init__(self, name, _score):\n",
    "        self.name=name\n",
    "        self.score=_score\n",
    "        self.__grade=self.grade()\n",
    "    \n",
    "    \n",
    "    @property\n",
    "    def score(self):\n",
    "         return self._score\n",
    "    \n",
    "    @score.setter\n",
    "    def score(self, value):\n",
    "        if not isinstance(value, int):\n",
    "            raise ValueError('score must be an integer!')\n",
    "        if value < 0 or value > 100:\n",
    "            raise ValueError('score must between 0 ~ 100!')\n",
    "        self._score = value\n",
    "    \n",
    "    \n",
    "    def grade(self):\n",
    "        if self._score>=90:\n",
    "            value=\"A\"\n",
    "        elif self.score<60:\n",
    "            value=\"C\"\n",
    "        else:\n",
    "            value=\"B\"\n",
    "        return value\n",
    "    \n",
    "    def get_grade(self):\n",
    "        return self.__grade\n",
    "    \n",
    "Bob=student(\"Bob\", 97)\n",
    "BobGrade=Bob.get_grade()\n",
    "print(BobGrade)\n",
    "\n",
    "#Bob.__grade\n",
    "#Bob._student__grade"
   ]
  },
  {
   "cell_type": "code",
   "execution_count": 50,
   "metadata": {},
   "outputs": [
    {
     "name": "stdout",
     "output_type": "stream",
     "text": [
      "C\n",
      "B\n"
     ]
    }
   ],
   "source": [
    "from abc import ABCMeta, abstractmethod\n",
    "class student():\n",
    "    __slots__ = (\"name\", \"_score\", \"__grade\")\n",
    "    def __init__(self, name, _score):\n",
    "        self.name=name\n",
    "        self.score=_score\n",
    "        self.__grade=self.grade()\n",
    "    \n",
    "    \n",
    "    @property\n",
    "    def score(self):\n",
    "         return self._score\n",
    "    \n",
    "    @score.setter\n",
    "    def score(self, value):\n",
    "        if not isinstance(value, int):\n",
    "            raise ValueError('score must be an integer!')\n",
    "        if value < 0 or value > 100:\n",
    "            raise ValueError('score must between 0 ~ 100!')\n",
    "        self._score = value\n",
    "    \n",
    "    @abstractmethod\n",
    "    def grade(self):\n",
    "        pass\n",
    "    \n",
    "    def get_grade(self):\n",
    "        return self.__grade\n",
    "\n",
    "class normalStudent(student):\n",
    "    def grade(self):\n",
    "        if self._score>=90:\n",
    "            value=\"A\"\n",
    "        elif self.score<60:\n",
    "            value=\"C\"\n",
    "        else:\n",
    "            value=\"B\"\n",
    "        return value\n",
    "\n",
    "class someStudent(student):\n",
    "    def grade(self):\n",
    "        if self._score >= 90:\n",
    "            value=\"A\"\n",
    "        elif self.score < 60**0.5:\n",
    "            value=\"C\"\n",
    "        else:\n",
    "            value=\"B\"\n",
    "        return value\n",
    "\n",
    "Bob=normalStudent(\"Bob\", 59)\n",
    "#Bob=normalStudent(\"Bob\", \"59\")\n",
    "BobGrade=Bob.get_grade()\n",
    "print(BobGrade)\n",
    "\n",
    "Wang=someStudent(\"Wang\", 57)\n",
    "WangGrade=Wang.get_grade()\n",
    "print(WangGrade)"
   ]
  },
  {
   "cell_type": "code",
   "execution_count": 51,
   "metadata": {},
   "outputs": [
    {
     "data": {
      "text/plain": [
       "'Good job!'"
      ]
     },
     "execution_count": 51,
     "metadata": {},
     "output_type": "execute_result"
    }
   ],
   "source": [
    "class teacher():\n",
    "    def __init__(self, grade):\n",
    "        self.grade=grade\n",
    "        self.__gradeComment=self.setComment()\n",
    "\n",
    "    @abstractmethod\n",
    "    def setComment(self):\n",
    "        pass\n",
    "    \n",
    "    def getComment(self):\n",
    "        return self.__gradeComment\n",
    "    \n",
    "class niceTeacher(teacher):\n",
    "    def setComment(self):\n",
    "        if self.grade==\"A\":\n",
    "            self._gradeComment=\"Good job!\"\n",
    "        elif self.grade==\"B\":\n",
    "            self._gradeComment=\"Not so bad!\"\n",
    "        elif self.grade==\"C\":\n",
    "            self._gradeComment=\"Do you want talk?\"\n",
    "        else:\n",
    "            raise ValueError(\"grade mast be 'A', 'B', 'C'\")\n",
    "        return self._gradeComment\n",
    "        \n",
    "class strictTeacher(teacher):\n",
    "    def setComment(self):\n",
    "        if self.grade==\"A\":\n",
    "            self._gradeComment=\"Not so bad!\"\n",
    "        elif self.grade==\"B\":\n",
    "            self._gradeComment=\"Close to failing.\"\n",
    "        elif self.grade==\"C\":\n",
    "            self._gradeComment=\"See you next year.\"\n",
    "        else:\n",
    "            raise ValueError(\"grade mast be 'A', 'B', 'C'\")\n",
    "        return self._gradeComment\n",
    "\n",
    "Bill=niceTeacher(\"A\")\n",
    "Bill.getComment()"
   ]
  },
  {
   "cell_type": "code",
   "execution_count": 52,
   "metadata": {},
   "outputs": [
    {
     "name": "stdout",
     "output_type": "stream",
     "text": [
      "Not so bad!\n"
     ]
    }
   ],
   "source": [
    "class mathGrade(someStudent, niceTeacher):\n",
    "    def __init__(self, name, _score):\n",
    "        someStudent.__init__(self, name, _score)\n",
    "        niceTeacher.__init__(self, self.get_grade())\n",
    "#        niceTeacher.__init__(self, self.__grade)\n",
    "        \n",
    "\n",
    "Wang=mathGrade(\"Wang\", 57)\n",
    "Wang.get_grade()\n",
    "WangComment=Wang.getComment()\n",
    "print(WangComment)"
   ]
  },
  {
   "cell_type": "code",
   "execution_count": 18,
   "metadata": {},
   "outputs": [
    {
     "data": {
      "text/plain": [
       "['__class__',\n",
       " '__delattr__',\n",
       " '__dict__',\n",
       " '__dir__',\n",
       " '__doc__',\n",
       " '__eq__',\n",
       " '__format__',\n",
       " '__ge__',\n",
       " '__getattribute__',\n",
       " '__gt__',\n",
       " '__hash__',\n",
       " '__init__',\n",
       " '__init_subclass__',\n",
       " '__le__',\n",
       " '__lt__',\n",
       " '__module__',\n",
       " '__ne__',\n",
       " '__new__',\n",
       " '__reduce__',\n",
       " '__reduce_ex__',\n",
       " '__repr__',\n",
       " '__setattr__',\n",
       " '__sizeof__',\n",
       " '__slots__',\n",
       " '__str__',\n",
       " '__subclasshook__',\n",
       " '__weakref__',\n",
       " '_gradeComment',\n",
       " '_score',\n",
       " '_student__grade',\n",
       " '_teacher__gradeComment',\n",
       " 'getComment',\n",
       " 'get_grade',\n",
       " 'grade',\n",
       " 'name',\n",
       " 'score',\n",
       " 'setComment']"
      ]
     },
     "execution_count": 18,
     "metadata": {},
     "output_type": "execute_result"
    }
   ],
   "source": [
    "dir(Wang)"
   ]
  }
 ],
 "metadata": {
  "kernelspec": {
   "display_name": "Python 3",
   "language": "python",
   "name": "python3"
  },
  "language_info": {
   "codemirror_mode": {
    "name": "ipython",
    "version": 3
   },
   "file_extension": ".py",
   "mimetype": "text/x-python",
   "name": "python",
   "nbconvert_exporter": "python",
   "pygments_lexer": "ipython3",
   "version": "3.7.3"
  }
 },
 "nbformat": 4,
 "nbformat_minor": 2
}
